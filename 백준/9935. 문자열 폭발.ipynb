{
 "cells": [
  {
   "cell_type": "markdown",
   "id": "attempted-playlist",
   "metadata": {},
   "source": [
    "## 문자열 폭발\n",
    "### 최초 풀이\n",
    "- 단순히 while문으로 폭발해야할 문자가 있으면 없어질 때까지 반복\n",
    "- 시간 초과"
   ]
  },
  {
   "cell_type": "code",
   "execution_count": 1,
   "id": "sound-fundamentals",
   "metadata": {},
   "outputs": [
    {
     "name": "stdout",
     "output_type": "stream",
     "text": [
      "mirkovC4nizCC44\n",
      "C4\n",
      "mirkovniz\n"
     ]
    }
   ],
   "source": [
    "string = input()\n",
    "bomb = input()\n",
    "string2 = ''\n",
    "while len(string) != len(string2):\n",
    "    string2 = string\n",
    "    string = string2.replace(bomb,'')\n",
    "\n",
    "if len(string) == 0:\n",
    "    print('FRULA')\n",
    "else: print(''.join(string))"
   ]
  },
  {
   "cell_type": "markdown",
   "id": "academic-affair",
   "metadata": {},
   "source": [
    "### 수정 후 풀이\n",
    "- stack을 이용하여 string을 쌓고 bomb이 생길 때마다 바로 없애줌"
   ]
  },
  {
   "cell_type": "code",
   "execution_count": 2,
   "id": "lyric-sight",
   "metadata": {},
   "outputs": [
    {
     "name": "stdout",
     "output_type": "stream",
     "text": [
      "mirkovC4nizCC44\n",
      "C4\n",
      "mirkovniz\n"
     ]
    }
   ],
   "source": [
    "string = input()\n",
    "bomb = input()\n",
    "stk = []\n",
    "for i in string:\n",
    "    stk.append(i)\n",
    "    if ''.join(stk[-len(bomb):]) == bomb:\n",
    "        for _ in range(len(bomb)):\n",
    "            stk.pop()\n",
    "if len(stk) == 0:\n",
    "    print('FRULA')\n",
    "else: print(''.join(stk))"
   ]
  },
  {
   "cell_type": "markdown",
   "id": "sexual-cooling",
   "metadata": {},
   "source": [
    "- 조건문에서 리스트를 계속 join하면서 소요되는 시간을 리스트 비교로 바꿔줌으로서 단축"
   ]
  },
  {
   "cell_type": "code",
   "execution_count": 3,
   "id": "honey-atlas",
   "metadata": {},
   "outputs": [
    {
     "name": "stdout",
     "output_type": "stream",
     "text": [
      "mirkovC4nizCC44\n",
      "C4\n",
      "mirkovniz\n"
     ]
    }
   ],
   "source": [
    "string = input()\n",
    "bomb = list(input().rstrip())\n",
    "stk = []\n",
    "for i in string:\n",
    "    stk.append(i)\n",
    "    if stk[-len(bomb):] == bomb:\n",
    "        for _ in range(len(bomb)):\n",
    "            stk.pop()\n",
    "if len(stk) == 0:\n",
    "    print('FRULA')\n",
    "else: print(''.join(stk))"
   ]
  }
 ],
 "metadata": {
  "kernelspec": {
   "display_name": "Python 3",
   "language": "python",
   "name": "python3"
  },
  "language_info": {
   "codemirror_mode": {
    "name": "ipython",
    "version": 3
   },
   "file_extension": ".py",
   "mimetype": "text/x-python",
   "name": "python",
   "nbconvert_exporter": "python",
   "pygments_lexer": "ipython3",
   "version": "3.7.9"
  }
 },
 "nbformat": 4,
 "nbformat_minor": 5
}

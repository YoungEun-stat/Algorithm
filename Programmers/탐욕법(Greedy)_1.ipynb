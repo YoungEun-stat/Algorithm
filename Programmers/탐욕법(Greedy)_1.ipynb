{
 "cells": [
  {
   "cell_type": "markdown",
   "id": "strong-cancellation",
   "metadata": {},
   "source": [
    "## 체육복\n",
    "### 최초 풀이\n",
    "- 체육복을 잃어버린 친구는 앞/뒤 친구가 모두 가지고 있을 때 앞 친구에게 빌림"
   ]
  },
  {
   "cell_type": "code",
   "execution_count": 1,
   "id": "preliminary-programmer",
   "metadata": {},
   "outputs": [],
   "source": [
    "def solution(n, lost, reserve):\n",
    "    cnt = n - len(lost)\n",
    "    lost.sort()\n",
    "    reserve.sort()\n",
    "    lost1=lost.copy()\n",
    "    \n",
    "    for i in lost1:\n",
    "        if (i in reserve):\n",
    "            reserve.remove(i)\n",
    "            lost.remove(i)\n",
    "            cnt += 1\n",
    "            \n",
    "    for i in lost:\n",
    "        if ((i-1) in reserve):\n",
    "            cnt += 1\n",
    "            reserve.remove((i-1))\n",
    "        elif ((i+1) in reserve):\n",
    "            cnt += 1\n",
    "            reserve.remove((i+1))\n",
    "        \n",
    "    return cnt"
   ]
  },
  {
   "cell_type": "code",
   "execution_count": 2,
   "id": "roman-paintball",
   "metadata": {},
   "outputs": [
    {
     "data": {
      "text/plain": [
       "6"
      ]
     },
     "execution_count": 2,
     "metadata": {},
     "output_type": "execute_result"
    }
   ],
   "source": [
    "solution(7, [2,3,4], [1,2,3,6])"
   ]
  }
 ],
 "metadata": {
  "kernelspec": {
   "display_name": "Python 3",
   "language": "python",
   "name": "python3"
  },
  "language_info": {
   "codemirror_mode": {
    "name": "ipython",
    "version": 3
   },
   "file_extension": ".py",
   "mimetype": "text/x-python",
   "name": "python",
   "nbconvert_exporter": "python",
   "pygments_lexer": "ipython3",
   "version": "3.7.9"
  }
 },
 "nbformat": 4,
 "nbformat_minor": 5
}

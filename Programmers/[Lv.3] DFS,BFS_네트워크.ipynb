{
 "cells": [
  {
   "cell_type": "markdown",
   "id": "whole-poland",
   "metadata": {},
   "source": [
    "## 네트워크\n",
    "### 최초 풀이"
   ]
  },
  {
   "cell_type": "code",
   "execution_count": 1,
   "id": "objective-confidentiality",
   "metadata": {},
   "outputs": [],
   "source": [
    "def find_parent(parent, x):\n",
    "    if parent[x] != x:\n",
    "        parent[x] = find_parent(parent, parent[x])\n",
    "    return parent[x]\n",
    "\n",
    "def union_parent(parent, i, j):\n",
    "    i = find_parent(parent, i)\n",
    "    j = find_parent(parent, j)\n",
    "    if i < j:\n",
    "        parent[j] = i\n",
    "    else:\n",
    "        parent[i] = j\n",
    "\n",
    "def solution(n, computers):\n",
    "    parent = [0]*(n)\n",
    "    for i in range(n):\n",
    "        parent[i] = i\n",
    "\n",
    "    for i in range(len(computers)):\n",
    "        for j in range(len(computers)):\n",
    "            if computers[i][j] == 1:\n",
    "                union_parent(parent, i, j)\n",
    "            #print(parent, [find_parent(parent,x) for x in parent])\n",
    "    return len(set(parent))"
   ]
  },
  {
   "cell_type": "code",
   "execution_count": 2,
   "id": "fiscal-professor",
   "metadata": {},
   "outputs": [
    {
     "data": {
      "text/plain": [
       "3"
      ]
     },
     "execution_count": 2,
     "metadata": {},
     "output_type": "execute_result"
    }
   ],
   "source": [
    "n = 3\n",
    "computers =[[0, 0, 0], [0, 0, 0], [0, 0, 0]]\n",
    "solution(n, computers)"
   ]
  }
 ],
 "metadata": {
  "kernelspec": {
   "display_name": "Python 3",
   "language": "python",
   "name": "python3"
  },
  "language_info": {
   "codemirror_mode": {
    "name": "ipython",
    "version": 3
   },
   "file_extension": ".py",
   "mimetype": "text/x-python",
   "name": "python",
   "nbconvert_exporter": "python",
   "pygments_lexer": "ipython3",
   "version": "3.7.9"
  }
 },
 "nbformat": 4,
 "nbformat_minor": 5
}

{
 "cells": [
  {
   "cell_type": "markdown",
   "id": "defined-walnut",
   "metadata": {},
   "source": [
    "## 더 맵게"
   ]
  },
  {
   "cell_type": "markdown",
   "id": "given-dominant",
   "metadata": {},
   "source": [
    "### 최초 풀이\n",
    "- 리스트에서 추가/삭제"
   ]
  },
  {
   "cell_type": "code",
   "execution_count": 1,
   "id": "nonprofit-taste",
   "metadata": {},
   "outputs": [
    {
     "data": {
      "text/plain": [
       "2"
      ]
     },
     "execution_count": 1,
     "metadata": {},
     "output_type": "execute_result"
    }
   ],
   "source": [
    "def solution(scoville, K):\n",
    "    count = 0\n",
    "    \n",
    "    while min(scoville) < K:\n",
    "        if len(scoville) == 1:\n",
    "            return -1\n",
    "\n",
    "        scoville.sort()\n",
    "        pop1 = scoville.pop(0)\n",
    "        pop2 = scoville.pop(0)\n",
    "        new_score = pop1 + pop2 *2\n",
    "        scoville = [new_score]+scoville\n",
    "        count += 1\n",
    "        \n",
    "    return count\n",
    "\n",
    "scoville = [1, 2, 3, 9, 10, 12]\n",
    "K = 7\n",
    "solution(scoville, K)"
   ]
  },
  {
   "cell_type": "markdown",
   "id": "transsexual-survival",
   "metadata": {},
   "source": [
    "### 수정 후 풀이\n",
    "- heap에서 추가/삭제 하도록 구현\n",
    "- heap은 정렬을 따로 할 필요가 없음"
   ]
  },
  {
   "cell_type": "code",
   "execution_count": 2,
   "id": "educational-elephant",
   "metadata": {},
   "outputs": [
    {
     "data": {
      "text/plain": [
       "2"
      ]
     },
     "execution_count": 2,
     "metadata": {},
     "output_type": "execute_result"
    }
   ],
   "source": [
    "import heapq\n",
    "\n",
    "def solution(scoville, K):\n",
    "\n",
    "    heap_list = []\n",
    "    for i in scoville:\n",
    "        heapq.heappush(heap_list,i) \n",
    "        \n",
    "    count = 0    \n",
    "    while heap_list[0] < K:\n",
    "        \n",
    "        if len(heap_list) == 1:\n",
    "            return -1\n",
    "        \n",
    "        pop1 = heapq.heappop(heap_list)\n",
    "        pop2 = heapq.heappop(heap_list)\n",
    "        new_score = pop1 + pop2 *2\n",
    "        heapq.heappush(heap_list, new_score)\n",
    "        count += 1\n",
    "        \n",
    "    return count\n",
    "\n",
    "scoville = [1, 2, 3, 9, 10, 12]\n",
    "K = 7\n",
    "solution(scoville, K)"
   ]
  },
  {
   "cell_type": "markdown",
   "id": "talented-english",
   "metadata": {},
   "source": [
    "### 다른 사람의 풀이\n",
    "- heapify를 사용하여 리스트를 바로 heap으로 변환"
   ]
  },
  {
   "cell_type": "code",
   "execution_count": 3,
   "id": "verbal-straight",
   "metadata": {},
   "outputs": [
    {
     "data": {
      "text/plain": [
       "2"
      ]
     },
     "execution_count": 3,
     "metadata": {},
     "output_type": "execute_result"
    }
   ],
   "source": [
    "import heapq as hq\n",
    "\n",
    "def solution(scoville, K):\n",
    "\n",
    "    hq.heapify(scoville)\n",
    "    answer = 0\n",
    "    while True:\n",
    "        first = hq.heappop(scoville)\n",
    "        if first >= K:\n",
    "            break\n",
    "        if len(scoville) == 0:\n",
    "            return -1\n",
    "        second = hq.heappop(scoville)\n",
    "        hq.heappush(scoville, first + second*2)\n",
    "        answer += 1  \n",
    "\n",
    "    return answer\n",
    "\n",
    "scoville = [1, 2, 3, 9, 10, 12]\n",
    "K = 7\n",
    "solution(scoville, K)"
   ]
  },
  {
   "cell_type": "markdown",
   "id": "boxed-discipline",
   "metadata": {},
   "source": [
    "## 타겟 넘버"
   ]
  },
  {
   "cell_type": "markdown",
   "id": "unauthorized-syndrome",
   "metadata": {},
   "source": [
    "### 다른 사람의 풀이\n",
    "- product()와 *를 사용하여 모든 조합에 대해 연산 수행"
   ]
  },
  {
   "cell_type": "code",
   "execution_count": 4,
   "id": "indie-lease",
   "metadata": {},
   "outputs": [
    {
     "data": {
      "text/plain": [
       "2"
      ]
     },
     "execution_count": 4,
     "metadata": {},
     "output_type": "execute_result"
    }
   ],
   "source": [
    "from itertools import product\n",
    "def solution(numbers, target):\n",
    "    l = [(x, -x) for x in numbers]\n",
    "    s = list(map(sum, product(*l)))   # product: 곱해서 조합을 생성, *: 리스트 안의 원소들 (-x,x)하나씩을 가져옴.\n",
    "    return s.count(target)\n",
    "\n",
    "numbers = [4, 1, 2, 1]\n",
    "target = 4\n",
    "solution(numbers, target)"
   ]
  },
  {
   "cell_type": "markdown",
   "id": "patent-court",
   "metadata": {},
   "source": [
    "- 인덱스와 연산 후 value를 같이 저장하여, 모든 연산이 수행된 경우(=number의 개수) target값과 연산 후 결과가 같은지 확인\n",
    "- DFS"
   ]
  },
  {
   "cell_type": "code",
   "execution_count": 5,
   "id": "german-shame",
   "metadata": {},
   "outputs": [
    {
     "data": {
      "text/plain": [
       "2"
      ]
     },
     "execution_count": 5,
     "metadata": {},
     "output_type": "execute_result"
    }
   ],
   "source": [
    "answer = 0\n",
    "\n",
    "def DFS(idx, numbers, target, value):\n",
    "    global answer\n",
    "    N = len(numbers)\n",
    "    if(idx== N and target == value):\n",
    "        answer += 1\n",
    "        return\n",
    "    if(idx == N):\n",
    "        return\n",
    "\n",
    "    DFS(idx+1,numbers,target,value+numbers[idx])\n",
    "    DFS(idx+1,numbers,target,value-numbers[idx])\n",
    "    \n",
    "def solution(numbers, target):\n",
    "    global answer\n",
    "    DFS(0,numbers,target,0)\n",
    "    return answer\n",
    "\n",
    "numbers = [4, 1, 2, 1]\n",
    "target = 4\n",
    "solution(numbers, target)"
   ]
  },
  {
   "cell_type": "markdown",
   "id": "auburn-serve",
   "metadata": {},
   "source": [
    "- 리스트에서 수를 차례로 빼서 target에서 해당 수를 더하거나 빼는 방식으로 target이 0이 되는 경우 return"
   ]
  },
  {
   "cell_type": "code",
   "execution_count": 6,
   "id": "divine-publicity",
   "metadata": {},
   "outputs": [
    {
     "data": {
      "text/plain": [
       "2"
      ]
     },
     "execution_count": 6,
     "metadata": {},
     "output_type": "execute_result"
    }
   ],
   "source": [
    "def solution(numbers, target):\n",
    "    if not numbers and target == 0 :\n",
    "        return 1\n",
    "    elif not numbers:\n",
    "        return 0\n",
    "    else:\n",
    "        return solution(numbers[1:], target-numbers[0]) + solution(numbers[1:], target+numbers[0])\n",
    "    \n",
    "numbers = [4, 1, 2, 1]\n",
    "target = 4\n",
    "solution(numbers, target)"
   ]
  },
  {
   "cell_type": "markdown",
   "id": "hidden-speaker",
   "metadata": {},
   "source": [
    "- 위와 마찬가지로 리스트에서 수를 하나씩 빼서 더해주거나 빼지만, 0에서 target을 만들어준다는 점에서 차이가 있음\n",
    "- BFS"
   ]
  },
  {
   "cell_type": "code",
   "execution_count": 7,
   "id": "rough-stomach",
   "metadata": {},
   "outputs": [
    {
     "data": {
      "text/plain": [
       "2"
      ]
     },
     "execution_count": 7,
     "metadata": {},
     "output_type": "execute_result"
    }
   ],
   "source": [
    "from collections import deque\n",
    "\n",
    "def solution(numbers, target):\n",
    "    answer = 0\n",
    "    queue = deque()\n",
    "    n = len(numbers)\n",
    "    queue.append([numbers[0],0]) # + 첫 번째 숫자, index\n",
    "    queue.append([-1*numbers[0],0]) # - 첫 번째 숫자, index\n",
    "    while queue:\n",
    "        temp, idx = queue.popleft()\n",
    "        idx += 1\n",
    "        if idx < n:\n",
    "            queue.append([temp+numbers[idx], idx]) # 그 다음 숫자를 더하기, index\n",
    "            queue.append([temp-numbers[idx], idx]) # 그 다음 숫자를 빼기, index\n",
    "        else:\n",
    "            if temp == target: # 맨 마지막에 가서 (index=n일 때) target과 같다면 answer에 1 더하기\n",
    "                answer += 1\n",
    "    return answer\n",
    "\n",
    "numbers = [4, 1, 2, 1]\n",
    "target = 4\n",
    "solution(numbers, target)"
   ]
  }
 ],
 "metadata": {
  "kernelspec": {
   "display_name": "Python 3",
   "language": "python",
   "name": "python3"
  },
  "language_info": {
   "codemirror_mode": {
    "name": "ipython",
    "version": 3
   },
   "file_extension": ".py",
   "mimetype": "text/x-python",
   "name": "python",
   "nbconvert_exporter": "python",
   "pygments_lexer": "ipython3",
   "version": "3.7.9"
  }
 },
 "nbformat": 4,
 "nbformat_minor": 5
}

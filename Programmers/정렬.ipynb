{
 "cells": [
  {
   "cell_type": "markdown",
   "id": "cloudy-accident",
   "metadata": {},
   "source": [
    "# 정렬"
   ]
  },
  {
   "cell_type": "markdown",
   "id": "traditional-thousand",
   "metadata": {},
   "source": [
    "## 1. K번째수"
   ]
  },
  {
   "cell_type": "markdown",
   "id": "experimental-reason",
   "metadata": {},
   "source": [
    "### 최초 풀이"
   ]
  },
  {
   "cell_type": "code",
   "execution_count": 1,
   "id": "sporting-protection",
   "metadata": {},
   "outputs": [
    {
     "data": {
      "text/plain": [
       "[5, 6, 3]"
      ]
     },
     "execution_count": 1,
     "metadata": {},
     "output_type": "execute_result"
    }
   ],
   "source": [
    "def solution(array, commands):\n",
    "    answer = []\n",
    "    for i in commands:\n",
    "        number = sorted(array[i[0]-1:i[1]])[i[2]-1]\n",
    "        answer.append(number)\n",
    "    return answer\n",
    "\n",
    "array = [1, 5, 2, 6, 3, 7, 4]\n",
    "commands = [[2, 5, 3], [4, 4, 1], [1, 7, 3]]\n",
    "solution(array, commands)"
   ]
  },
  {
   "cell_type": "markdown",
   "id": "right-thailand",
   "metadata": {},
   "source": [
    "## 2. 가장 큰 수"
   ]
  },
  {
   "cell_type": "markdown",
   "id": "nutritional-supplier",
   "metadata": {},
   "source": [
    "### 모범 답안"
   ]
  },
  {
   "cell_type": "code",
   "execution_count": 2,
   "id": "excellent-athens",
   "metadata": {},
   "outputs": [
    {
     "data": {
      "text/plain": [
       "'9534330'"
      ]
     },
     "execution_count": 2,
     "metadata": {},
     "output_type": "execute_result"
    }
   ],
   "source": [
    "def solution(numbers):\n",
    "    numbers = list(map(str, numbers))\n",
    "    numbers.sort(key = lambda x :x*3, reverse=True)   # 숫자 형태 문자열은 ASCII 값 기준으로 sorting\n",
    "                                                        # 1000을 제외하고 최대 세 자리수이므로, 모두 세 자리수 이상으로 늘려줌\n",
    "    answer = str(int(''.join(numbers)))\n",
    "    return answer\n",
    "\n",
    "numbers = [3, 30, 34, 5, 9]\n",
    "solution(numbers)"
   ]
  },
  {
   "cell_type": "code",
   "execution_count": 3,
   "id": "whole-merchandise",
   "metadata": {},
   "outputs": [
    {
     "data": {
      "text/plain": [
       "'9534330'"
      ]
     },
     "execution_count": 3,
     "metadata": {},
     "output_type": "execute_result"
    }
   ],
   "source": [
    "import functools\n",
    "\n",
    "def comparator(a,b):\n",
    "    t1 = a+b\n",
    "    t2 = b+a\n",
    "    return (int(t1) > int(t2)) - (int(t1) < int(t2)) #  t1이 크다면 1  // t2가 크다면 -1  //  같으면 0\n",
    "\n",
    "def solution(citations):\n",
    "    n = [str(x) for x in numbers]\n",
    "    n = sorted(n, key=functools.cmp_to_key(comparator),reverse=True)    # 내림차순 정렬\n",
    "    answer = str(int(''.join(n)))                    # n: 리스트 형태 -> join으로 하나의 문자열로 만들어줌\n",
    "    return answer\n",
    "\n",
    "numbers = [3, 30, 34, 5, 9]\n",
    "solution(numbers)"
   ]
  },
  {
   "cell_type": "markdown",
   "id": "complimentary-treat",
   "metadata": {},
   "source": [
    "## 3. H-index"
   ]
  },
  {
   "cell_type": "markdown",
   "id": "happy-moldova",
   "metadata": {},
   "source": [
    "### 최초 풀이"
   ]
  },
  {
   "cell_type": "code",
   "execution_count": 4,
   "id": "beginning-transaction",
   "metadata": {},
   "outputs": [
    {
     "data": {
      "text/plain": [
       "3"
      ]
     },
     "execution_count": 4,
     "metadata": {},
     "output_type": "execute_result"
    }
   ],
   "source": [
    "def solution(citations):\n",
    "    sorted_cit = sorted(citations)\n",
    "    h = []\n",
    "    for i in range(len(citations)):\n",
    "        if sorted_cit[i] == len(sorted_cit[i:]):\n",
    "            h.append(sorted_cit[i])\n",
    "    answer = max(h)\n",
    "    return answer\n",
    "\n",
    "citations = [3, 0, 6, 1, 5]\n",
    "solution(citations)"
   ]
  },
  {
   "cell_type": "markdown",
   "id": "cutting-active",
   "metadata": {},
   "source": [
    "### 수정 후 풀이\n",
    "\n",
    "- 위 풀이에서는 모든 citations들을 다 돌아보기 때문에 런타임 에러가 뜸\n",
    "- 이를 해결하기 위해 내림차순 정렬로 바꿔서 처음으로 등장하는 가장 큰 h를 찾는 방법을 택함"
   ]
  },
  {
   "cell_type": "code",
   "execution_count": 5,
   "id": "norman-legislation",
   "metadata": {},
   "outputs": [
    {
     "data": {
      "text/plain": [
       "3"
      ]
     },
     "execution_count": 5,
     "metadata": {},
     "output_type": "execute_result"
    }
   ],
   "source": [
    "def solution(citations):\n",
    "    sorted_cit = sorted(citations, reverse=True)\n",
    "    if len(citations) < min(citations):\n",
    "        return len(citations)\n",
    "    \n",
    "    for i in range(len(citations)):\n",
    "        if (sorted_cit[i] == i) or (sorted_cit[i] == i+1):\n",
    "            return sorted_cit[i]\n",
    "        if sorted_cit[i] < i:\n",
    "            return i\n",
    "\n",
    "citations = [3, 0, 6, 1, 5]\n",
    "solution(citations)"
   ]
  },
  {
   "cell_type": "markdown",
   "id": "prerequisite-scroll",
   "metadata": {},
   "source": [
    "### 다른 사람 풀이"
   ]
  },
  {
   "cell_type": "code",
   "execution_count": 6,
   "id": "optical-antibody",
   "metadata": {},
   "outputs": [
    {
     "data": {
      "text/plain": [
       "3"
      ]
     },
     "execution_count": 6,
     "metadata": {},
     "output_type": "execute_result"
    }
   ],
   "source": [
    "def solution(citations):\n",
    "    citations.sort()\n",
    "    l = len(citations)\n",
    "    for i in range(l):\n",
    "        if citations[i] >= l-i:\n",
    "            return l-i\n",
    "    return 0\n",
    "\n",
    "citations = [3, 0, 6, 1, 5]\n",
    "solution(citations)"
   ]
  },
  {
   "cell_type": "code",
   "execution_count": 7,
   "id": "virtual-disco",
   "metadata": {},
   "outputs": [
    {
     "data": {
      "text/plain": [
       "3"
      ]
     },
     "execution_count": 7,
     "metadata": {},
     "output_type": "execute_result"
    }
   ],
   "source": [
    "def solution(citations):\n",
    "    citations.sort(reverse=True)\n",
    "    for i in range(len(citations)):\n",
    "        if i >= citations[i]:\n",
    "            return i\n",
    "    return len(citations)\n",
    "\n",
    "citations = [3, 0, 6, 1, 5]\n",
    "solution(citations)"
   ]
  }
 ],
 "metadata": {
  "kernelspec": {
   "display_name": "Python 3",
   "language": "python",
   "name": "python3"
  },
  "language_info": {
   "codemirror_mode": {
    "name": "ipython",
    "version": 3
   },
   "file_extension": ".py",
   "mimetype": "text/x-python",
   "name": "python",
   "nbconvert_exporter": "python",
   "pygments_lexer": "ipython3",
   "version": "3.7.9"
  }
 },
 "nbformat": 4,
 "nbformat_minor": 5
}

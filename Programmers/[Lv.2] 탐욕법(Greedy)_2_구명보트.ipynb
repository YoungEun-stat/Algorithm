{
 "cells": [
  {
   "cell_type": "markdown",
   "id": "curious-december",
   "metadata": {},
   "source": [
    "## 구명보트\n",
    "### 최초 풀이\n",
    "- 몸무게가 가장 많이 나가는 사람을 뽑고, limit을 초과하지 않는 사람들 중 몸무게가 가장 많이 나가는 사람 뽑음\n",
    "- 효율성 통과 x\n",
    "- 보트에는 최대 2명만 탈 수 있으므로, 굳이 limit을 초과하지 않는 사람들 중 몸무게가 가장 많이 나가는 사람을 뽑을 필요는 없었음"
   ]
  },
  {
   "cell_type": "code",
   "execution_count": 1,
   "id": "irish-blade",
   "metadata": {},
   "outputs": [],
   "source": [
    "def solution(people, limit):\n",
    "    people.sort(reverse=True)\n",
    "    sums = 0\n",
    "    cnt = 0\n",
    "    while len(people) != 0:\n",
    "        v = people.pop(0)\n",
    "        sums += v\n",
    "        val = [i for i, v in enumerate(people) if v <= (limit - sums)]\n",
    "        \n",
    "        if len(val) ==0:\n",
    "            cnt += 1\n",
    "            \n",
    "        else:\n",
    "            k = val.pop(0)\n",
    "            sums += k\n",
    "            people.pop(k)\n",
    "            cnt += 1\n",
    "        \n",
    "        sums = 0\n",
    "        \n",
    "    return cnt "
   ]
  },
  {
   "cell_type": "code",
   "execution_count": 2,
   "id": "nearby-think",
   "metadata": {},
   "outputs": [
    {
     "data": {
      "text/plain": [
       "3"
      ]
     },
     "execution_count": 2,
     "metadata": {},
     "output_type": "execute_result"
    }
   ],
   "source": [
    "people = [70, 50, 30, 10, 20]\n",
    "limit = 100\n",
    "solution(people, limit)"
   ]
  },
  {
   "cell_type": "markdown",
   "id": "tropical-kernel",
   "metadata": {},
   "source": [
    "### 수정 후 풀이 1\n",
    "- 몸무게가 가장 많이 나가는 사람을 뽑고, 가장 적게 나가는 사람을 뽑아 합이 limit을 초과하는 지 확인\n",
    "- 효율성 1개 미통과"
   ]
  },
  {
   "cell_type": "code",
   "execution_count": 3,
   "id": "spiritual-fiber",
   "metadata": {},
   "outputs": [],
   "source": [
    "def solution(people, limit):\n",
    "    people.sort()\n",
    "    sums = 0\n",
    "    cnt = 0\n",
    "    while len(people) > 1:\n",
    "        v = people.pop()\n",
    "        if people[0] + v <= limit:\n",
    "            people.pop(0)\n",
    "        cnt += 1\n",
    "    if len(people) == 1:\n",
    "        cnt += 1\n",
    "    return cnt "
   ]
  },
  {
   "cell_type": "code",
   "execution_count": 4,
   "id": "demonstrated-repository",
   "metadata": {},
   "outputs": [
    {
     "data": {
      "text/plain": [
       "3"
      ]
     },
     "execution_count": 4,
     "metadata": {},
     "output_type": "execute_result"
    }
   ],
   "source": [
    "people = [70, 50, 30, 10, 20]\n",
    "limit = 100\n",
    "solution(people, limit)"
   ]
  },
  {
   "cell_type": "markdown",
   "id": "russian-metadata",
   "metadata": {},
   "source": [
    "### 수정 후 풀이 2\n",
    "- pop 대신 index를 움직임\n",
    "- 효율성 통과"
   ]
  },
  {
   "cell_type": "code",
   "execution_count": 5,
   "id": "catholic-optimum",
   "metadata": {},
   "outputs": [],
   "source": [
    "def solution(people, limit):\n",
    "    people.sort()\n",
    "    cnt = 0\n",
    "    idx1 = 0\n",
    "    idx2 = len(people)-1\n",
    "    while idx1 < idx2:\n",
    "        if people[idx1] + people[idx2] <= limit:\n",
    "            idx1 += 1\n",
    "            idx2 -= 1\n",
    "        else:\n",
    "            idx2 -= 1\n",
    "        \n",
    "        cnt += 1\n",
    "    if idx1 == idx2:\n",
    "        cnt += 1\n",
    "    return cnt "
   ]
  },
  {
   "cell_type": "code",
   "execution_count": 6,
   "id": "quality-compensation",
   "metadata": {},
   "outputs": [
    {
     "data": {
      "text/plain": [
       "3"
      ]
     },
     "execution_count": 6,
     "metadata": {},
     "output_type": "execute_result"
    }
   ],
   "source": [
    "people = [70, 50, 30, 10, 20]\n",
    "limit = 100\n",
    "solution(people, limit)"
   ]
  }
 ],
 "metadata": {
  "kernelspec": {
   "display_name": "Python 3",
   "language": "python",
   "name": "python3"
  },
  "language_info": {
   "codemirror_mode": {
    "name": "ipython",
    "version": 3
   },
   "file_extension": ".py",
   "mimetype": "text/x-python",
   "name": "python",
   "nbconvert_exporter": "python",
   "pygments_lexer": "ipython3",
   "version": "3.7.9"
  }
 },
 "nbformat": 4,
 "nbformat_minor": 5
}

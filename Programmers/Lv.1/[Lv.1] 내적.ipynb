{
 "cells": [
  {
   "cell_type": "markdown",
   "id": "thirty-publicity",
   "metadata": {},
   "source": [
    "## 내적\n",
    "### 최초 풀이"
   ]
  },
  {
   "cell_type": "code",
   "execution_count": 3,
   "id": "italian-folks",
   "metadata": {},
   "outputs": [
    {
     "data": {
      "text/plain": [
       "3"
      ]
     },
     "execution_count": 3,
     "metadata": {},
     "output_type": "execute_result"
    }
   ],
   "source": [
    "\n",
    "def solution(a, b):\n",
    "    result = 0\n",
    "    return sum(i*j for i, j in zip(a, b))\n",
    "\n",
    "    \n",
    "a = [1,2,3,4]\n",
    "b = [-3,-1,0,2]\n",
    "solution(a, b)"
   ]
  },
  {
   "cell_type": "code",
   "execution_count": null,
   "id": "practical-bottom",
   "metadata": {},
   "outputs": [],
   "source": []
  }
 ],
 "metadata": {
  "kernelspec": {
   "display_name": "Python 3",
   "language": "python",
   "name": "python3"
  },
  "language_info": {
   "codemirror_mode": {
    "name": "ipython",
    "version": 3
   },
   "file_extension": ".py",
   "mimetype": "text/x-python",
   "name": "python",
   "nbconvert_exporter": "python",
   "pygments_lexer": "ipython3",
   "version": "3.7.9"
  }
 },
 "nbformat": 4,
 "nbformat_minor": 5
}

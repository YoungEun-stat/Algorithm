{
 "cells": [
  {
   "cell_type": "markdown",
   "id": "loose-birthday",
   "metadata": {},
   "source": [
    "## 로또의 최고 순위와 최저 순위"
   ]
  },
  {
   "cell_type": "markdown",
   "id": "embedded-showcase",
   "metadata": {},
   "source": [
    "### 최초 풀이"
   ]
  },
  {
   "cell_type": "markdown",
   "id": "dominant-sullivan",
   "metadata": {},
   "source": [
    "- 0과 0이 아닌 숫자로 나누어 풀이"
   ]
  },
  {
   "cell_type": "code",
   "execution_count": 43,
   "id": "bigger-proceeding",
   "metadata": {},
   "outputs": [],
   "source": [
    "def solution(lottos, win_nums):\n",
    "    lottos_c = lottos.copy()\n",
    "    while lottos_c.count(0) != 0:\n",
    "        lottos_c.remove(0)\n",
    "\n",
    "    minn = lottos.count(0)\n",
    "    if minn == len(lottos):\n",
    "        ans_min = 6\n",
    "        ans_max = 1\n",
    "    else:\n",
    "        cnt = 0\n",
    "\n",
    "        for i in lottos_c:\n",
    "\n",
    "            if i in win_nums:\n",
    "                cnt += 1\n",
    "        if (minn == 0) and cnt == 0:\n",
    "            return [6, 6]\n",
    "        ans_min = 7-cnt\n",
    "        ans_max = 7-cnt-minn\n",
    "    return [ans_max, ans_min]\n",
    "\n",
    "lottos = [45, 4, 35, 20, 3, 9]\n",
    "win_nums = [20, 9, 3, 45, 4, 35]\n",
    "solution(lottos, win_nums)"
   ]
  },
  {
   "cell_type": "markdown",
   "id": "american-headset",
   "metadata": {},
   "source": [
    "### 수정 후 풀이"
   ]
  },
  {
   "cell_type": "markdown",
   "id": "unknown-check",
   "metadata": {},
   "source": [
    "- 출력값이 7이 되는 경우에 대해서 list comprehension으로 한 번에 처리"
   ]
  },
  {
   "cell_type": "code",
   "execution_count": 51,
   "id": "judicial-mobile",
   "metadata": {},
   "outputs": [],
   "source": [
    "def solution(lottos, win_nums):\n",
    "    \n",
    "    lottos_c = lottos.copy()\n",
    "    while lottos_c.count(0) != 0:\n",
    "        lottos_c.remove(0)\n",
    "\n",
    "    minn = lottos.count(0)\n",
    "    cnt = 0\n",
    "\n",
    "    for i in lottos_c:\n",
    "        if i in win_nums:\n",
    "            win_nums.remove(i)\n",
    "            cnt += 1\n",
    "    answer = [7-cnt-minn,7-cnt]\n",
    "    \n",
    "    return [i if i != 7 else 6 for i in answer]\n",
    "\n",
    "lottos = [45, 4, 35, 20, 3, 9]\n",
    "win_nums = [20, 9, 3, 45, 4, 35]\n",
    "solution(lottos, win_nums)"
   ]
  },
  {
   "cell_type": "markdown",
   "id": "direct-record",
   "metadata": {},
   "source": [
    "### 다른 사람의 풀이"
   ]
  },
  {
   "cell_type": "markdown",
   "id": "another-hunger",
   "metadata": {},
   "source": [
    "- rank 리스트를 만들어서 조건문 없이 rank 출력"
   ]
  },
  {
   "cell_type": "code",
   "execution_count": null,
   "id": "surprised-dutch",
   "metadata": {},
   "outputs": [],
   "source": [
    "def solution(lottos, win_nums):\n",
    "\n",
    "    rank=[6,6,5,4,3,2,1]\n",
    "\n",
    "    cnt_0 = lottos.count(0)\n",
    "    ans = 0\n",
    "    for x in win_nums:\n",
    "        if x in lottos:\n",
    "            ans += 1\n",
    "    return rank[cnt_0 + ans],rank[ans]"
   ]
  }
 ],
 "metadata": {
  "kernelspec": {
   "display_name": "Python 3",
   "language": "python",
   "name": "python3"
  },
  "language_info": {
   "codemirror_mode": {
    "name": "ipython",
    "version": 3
   },
   "file_extension": ".py",
   "mimetype": "text/x-python",
   "name": "python",
   "nbconvert_exporter": "python",
   "pygments_lexer": "ipython3",
   "version": "3.7.9"
  }
 },
 "nbformat": 4,
 "nbformat_minor": 5
}

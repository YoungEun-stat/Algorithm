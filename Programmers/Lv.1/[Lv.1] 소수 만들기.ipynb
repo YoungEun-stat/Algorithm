{
 "cells": [
  {
   "cell_type": "markdown",
   "id": "domestic-right",
   "metadata": {},
   "source": [
    "## 소수 만들기\n",
    "### 최초 풀이"
   ]
  },
  {
   "cell_type": "markdown",
   "id": "threaded-services",
   "metadata": {},
   "source": [
    "- 에라토스테네스의 체 활용"
   ]
  },
  {
   "cell_type": "code",
   "execution_count": 24,
   "id": "south-waterproof",
   "metadata": {},
   "outputs": [],
   "source": [
    "import itertools\n",
    "import math\n",
    "\n",
    "def prime_number(nums):\n",
    "    for i in range(2, int(math.sqrt(nums))+1):\n",
    "        if nums % i == 0:\n",
    "            return False\n",
    "    return True\n",
    "\n",
    "def solution(nums):\n",
    "    com = list(itertools.combinations(nums, 3))\n",
    "    com = list(map(sum, com))\n",
    "    cnt = 0\n",
    "    for i in com:\n",
    "        if prime_number(i):\n",
    "            cnt += 1\n",
    "    return cnt"
   ]
  },
  {
   "cell_type": "code",
   "execution_count": 25,
   "id": "refined-control",
   "metadata": {},
   "outputs": [
    {
     "data": {
      "text/plain": [
       "4"
      ]
     },
     "execution_count": 25,
     "metadata": {},
     "output_type": "execute_result"
    }
   ],
   "source": [
    "nums = [1,2,7,6,4]\n",
    "solution(nums)"
   ]
  }
 ],
 "metadata": {
  "kernelspec": {
   "display_name": "Python 3",
   "language": "python",
   "name": "python3"
  },
  "language_info": {
   "codemirror_mode": {
    "name": "ipython",
    "version": 3
   },
   "file_extension": ".py",
   "mimetype": "text/x-python",
   "name": "python",
   "nbconvert_exporter": "python",
   "pygments_lexer": "ipython3",
   "version": "3.7.9"
  }
 },
 "nbformat": 4,
 "nbformat_minor": 5
}

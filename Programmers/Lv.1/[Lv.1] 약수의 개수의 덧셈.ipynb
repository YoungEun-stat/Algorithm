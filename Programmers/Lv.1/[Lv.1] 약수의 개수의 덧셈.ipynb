{
 "cells": [
  {
   "cell_type": "markdown",
   "id": "bacterial-bedroom",
   "metadata": {},
   "source": [
    "## 약수의 개수의 덧셈\n",
    "### 최초 풀이\n",
    "- n이 최대 1000이기 때문에 1000이하의 제곱수를 담은 리스트 생성"
   ]
  },
  {
   "cell_type": "code",
   "execution_count": 1,
   "id": "seventh-happiness",
   "metadata": {},
   "outputs": [
    {
     "data": {
      "text/plain": [
       "43"
      ]
     },
     "execution_count": 1,
     "metadata": {},
     "output_type": "execute_result"
    }
   ],
   "source": [
    "def solution(left, right):\n",
    "    multi = [i**2 for i in range(1,32)]\n",
    "    answer = [i if i not in multi else -i for i in range(left, right+1)]\n",
    "    return sum(answer)\n",
    "\n",
    "left = 13; right = 17\n",
    "solution(left, right)"
   ]
  },
  {
   "cell_type": "markdown",
   "id": "signed-publicity",
   "metadata": {},
   "source": [
    "- 리스트 생성 없이 제곱근을 취하여 정수가 되는 것들을 제곱근이라고 판단"
   ]
  },
  {
   "cell_type": "code",
   "execution_count": 2,
   "id": "phantom-writer",
   "metadata": {},
   "outputs": [
    {
     "data": {
      "text/plain": [
       "43"
      ]
     },
     "execution_count": 2,
     "metadata": {},
     "output_type": "execute_result"
    }
   ],
   "source": [
    "def solution(left, right):\n",
    "    answer = [-i if int(i**0.5)==i**0.5 else i for i in range(left,right+1)]\n",
    "    return sum(answer)\n",
    "\n",
    "left = 13; right = 17\n",
    "solution(left, right)"
   ]
  }
 ],
 "metadata": {
  "kernelspec": {
   "display_name": "Python 3",
   "language": "python",
   "name": "python3"
  },
  "language_info": {
   "codemirror_mode": {
    "name": "ipython",
    "version": 3
   },
   "file_extension": ".py",
   "mimetype": "text/x-python",
   "name": "python",
   "nbconvert_exporter": "python",
   "pygments_lexer": "ipython3",
   "version": "3.7.9"
  }
 },
 "nbformat": 4,
 "nbformat_minor": 5
}

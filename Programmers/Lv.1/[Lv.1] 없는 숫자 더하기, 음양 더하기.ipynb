{
 "cells": [
  {
   "cell_type": "markdown",
   "id": "basic-stephen",
   "metadata": {},
   "source": [
    "## 없는 숫자 더하기\n",
    "### 최초 풀이"
   ]
  },
  {
   "cell_type": "markdown",
   "id": "ultimate-north",
   "metadata": {},
   "source": [
    "- 차집합 활용"
   ]
  },
  {
   "cell_type": "code",
   "execution_count": 1,
   "id": "second-string",
   "metadata": {},
   "outputs": [],
   "source": [
    "def solution(numbers):\n",
    "    whole = [0,1,2,3,4,5,6,7,8,9]\n",
    "    answer = list(set(whole) - set(numbers))\n",
    "    return sum(answer)"
   ]
  },
  {
   "cell_type": "code",
   "execution_count": 2,
   "id": "hispanic-express",
   "metadata": {},
   "outputs": [
    {
     "data": {
      "text/plain": [
       "6"
      ]
     },
     "execution_count": 2,
     "metadata": {},
     "output_type": "execute_result"
    }
   ],
   "source": [
    "numbers = [5,8,4,0,6,7,9]\n",
    "solution(numbers)"
   ]
  },
  {
   "cell_type": "markdown",
   "id": "unlimited-billion",
   "metadata": {},
   "source": [
    "## 음양 더하기\n",
    "### 최초 풀이"
   ]
  },
  {
   "cell_type": "code",
   "execution_count": 3,
   "id": "increasing-adventure",
   "metadata": {},
   "outputs": [
    {
     "data": {
      "text/plain": [
       "9"
      ]
     },
     "execution_count": 3,
     "metadata": {},
     "output_type": "execute_result"
    }
   ],
   "source": [
    "def solution(absolutes, signs):\n",
    "    answer = 0\n",
    "    for a, s in zip(absolutes, signs):\n",
    "        if s == True:\n",
    "            answer += a\n",
    "        else:\n",
    "            answer -= a\n",
    "    return answer\n",
    "\n",
    "absolutes = [4,7,12]\n",
    "signs = [True,False,True]\n",
    "solution(absolutes,signs)"
   ]
  },
  {
   "cell_type": "markdown",
   "id": "tight-crazy",
   "metadata": {},
   "source": [
    "### 다른 사람의 풀이\n",
    "- zip, comprehension 활용"
   ]
  },
  {
   "cell_type": "code",
   "execution_count": 4,
   "id": "ideal-discount",
   "metadata": {},
   "outputs": [
    {
     "data": {
      "text/plain": [
       "9"
      ]
     },
     "execution_count": 4,
     "metadata": {},
     "output_type": "execute_result"
    }
   ],
   "source": [
    "def solution(absolutes, signs):\n",
    "    return sum(absolutes if sign else -absolutes for absolutes, sign in zip(absolutes, signs))\n",
    "\n",
    "absolutes = [4,7,12]\n",
    "signs = [True,False,True]\n",
    "solution(absolutes,signs)"
   ]
  }
 ],
 "metadata": {
  "kernelspec": {
   "display_name": "Python 3",
   "language": "python",
   "name": "python3"
  },
  "language_info": {
   "codemirror_mode": {
    "name": "ipython",
    "version": 3
   },
   "file_extension": ".py",
   "mimetype": "text/x-python",
   "name": "python",
   "nbconvert_exporter": "python",
   "pygments_lexer": "ipython3",
   "version": "3.7.9"
  }
 },
 "nbformat": 4,
 "nbformat_minor": 5
}

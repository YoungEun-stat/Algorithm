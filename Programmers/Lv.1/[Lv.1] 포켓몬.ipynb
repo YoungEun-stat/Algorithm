{
 "cells": [
  {
   "cell_type": "markdown",
   "id": "clinical-korean",
   "metadata": {},
   "source": [
    "## 포켓몬\n",
    "### 최초 풀이"
   ]
  },
  {
   "cell_type": "code",
   "execution_count": 1,
   "id": "infrared-afternoon",
   "metadata": {},
   "outputs": [
    {
     "data": {
      "text/plain": [
       "3.0"
      ]
     },
     "execution_count": 1,
     "metadata": {},
     "output_type": "execute_result"
    }
   ],
   "source": [
    "def solution(nums):\n",
    "    max_num = len(set(nums))\n",
    "    select_num = len(nums)/2\n",
    "    \n",
    "    if select_num <= max_num:\n",
    "        answer = select_num\n",
    "    else:\n",
    "        answer = max_num\n",
    "    return answer\n",
    "\n",
    "nums = [3,3,3,2,2,4]\n",
    "solution(nums)"
   ]
  },
  {
   "cell_type": "markdown",
   "id": "molecular-multimedia",
   "metadata": {},
   "source": [
    "### 수정 후 풀이\n",
    "- min()을 사용하여 단순화"
   ]
  },
  {
   "cell_type": "code",
   "execution_count": 2,
   "id": "exciting-young",
   "metadata": {},
   "outputs": [
    {
     "data": {
      "text/plain": [
       "3"
      ]
     },
     "execution_count": 2,
     "metadata": {},
     "output_type": "execute_result"
    }
   ],
   "source": [
    "def solution(nums):\n",
    "    answer = min(len(set(nums)), len(nums)/2)\n",
    "    return answer\n",
    "\n",
    "nums = [3,3,3,2,2,4]\n",
    "solution(nums)"
   ]
  }
 ],
 "metadata": {
  "kernelspec": {
   "display_name": "Python 3",
   "language": "python",
   "name": "python3"
  },
  "language_info": {
   "codemirror_mode": {
    "name": "ipython",
    "version": 3
   },
   "file_extension": ".py",
   "mimetype": "text/x-python",
   "name": "python",
   "nbconvert_exporter": "python",
   "pygments_lexer": "ipython3",
   "version": "3.7.9"
  }
 },
 "nbformat": 4,
 "nbformat_minor": 5
}

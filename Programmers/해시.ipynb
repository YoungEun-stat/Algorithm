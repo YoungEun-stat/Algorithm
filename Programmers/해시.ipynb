{
 "cells": [
  {
   "cell_type": "markdown",
   "id": "committed-effectiveness",
   "metadata": {},
   "source": [
    "# 해시"
   ]
  },
  {
   "cell_type": "markdown",
   "id": "optical-opportunity",
   "metadata": {},
   "source": [
    "## 1. 완주하지 못한 선수"
   ]
  },
  {
   "cell_type": "markdown",
   "id": "narrative-watson",
   "metadata": {},
   "source": [
    "### 최초 풀이\n",
    "- 효율성 문제: 시간 초과 발생\n",
    "- completion 리스트 전체를 고려하기 때문"
   ]
  },
  {
   "cell_type": "code",
   "execution_count": 1,
   "id": "danish-health",
   "metadata": {},
   "outputs": [
    {
     "data": {
      "text/plain": [
       "'mislav'"
      ]
     },
     "execution_count": 1,
     "metadata": {},
     "output_type": "execute_result"
    }
   ],
   "source": [
    "participant = [\"mislav\", \"stanko\", \"mislav\", \"ana\"]\n",
    "completion = [\"stanko\", \"ana\", \"mislav\"]\n",
    "\n",
    "def solution(participant, completion):\n",
    "    part = participant.copy()\n",
    "    comp = completion.copy()\n",
    "    for i in completion:\n",
    "        part.remove(i)\n",
    "        comp.remove(i)\n",
    "    return part[0]\n",
    "\n",
    "solution(participant, completion)"
   ]
  },
  {
   "cell_type": "markdown",
   "id": "terminal-england",
   "metadata": {},
   "source": [
    "### 수정 후 풀이\n",
    "\n",
    "- sorting을 통해 두 리스트를 비교하는 방법으로 전체를 보지 않아도 중간에 결과가 나오면 멈추게 함으로써 효율성 문제를 해결"
   ]
  },
  {
   "cell_type": "code",
   "execution_count": 2,
   "id": "unauthorized-bryan",
   "metadata": {},
   "outputs": [
    {
     "data": {
      "text/plain": [
       "'mislav'"
      ]
     },
     "execution_count": 2,
     "metadata": {},
     "output_type": "execute_result"
    }
   ],
   "source": [
    "participant = [\"mislav\", \"stanko\", \"mislav\", \"ana\"]\n",
    "completion = [\"stanko\", \"ana\", \"mislav\"]\n",
    "\n",
    "def solution(participant, completion):\n",
    "    participant = sorted(participant)\n",
    "    completion = sorted(completion)+['NA']\n",
    "    for i in range(len(participant)):\n",
    "        if participant[i] != completion[i]:\n",
    "            return(participant[i])\n",
    "        \n",
    "solution(participant, completion)"
   ]
  },
  {
   "cell_type": "markdown",
   "id": "every-newton",
   "metadata": {},
   "source": [
    "### 다른 사람들의 풀이\n",
    "- Counter 함수를 사용하여 리스트의 원소들의 개수를 비교하여 풀이함"
   ]
  },
  {
   "cell_type": "code",
   "execution_count": 3,
   "id": "agreed-transport",
   "metadata": {},
   "outputs": [
    {
     "data": {
      "text/plain": [
       "'mislav'"
      ]
     },
     "execution_count": 3,
     "metadata": {},
     "output_type": "execute_result"
    }
   ],
   "source": [
    "import collections\n",
    "\n",
    "participant = [\"mislav\", \"stanko\", \"mislav\", \"ana\"]\n",
    "completion = [\"stanko\", \"ana\", \"mislav\"]\n",
    "\n",
    "\n",
    "def solution(participant, completion):\n",
    "    answer = collections.Counter(participant) - collections.Counter(completion)\n",
    "    return list(answer.keys())[0]\n",
    "\n",
    "solution(participant, completion)"
   ]
  },
  {
   "cell_type": "markdown",
   "id": "together-egypt",
   "metadata": {},
   "source": [
    "- 해시 함수를 사용하여 풀이함"
   ]
  },
  {
   "cell_type": "code",
   "execution_count": 4,
   "id": "unique-center",
   "metadata": {},
   "outputs": [
    {
     "data": {
      "text/plain": [
       "'mislav'"
      ]
     },
     "execution_count": 4,
     "metadata": {},
     "output_type": "execute_result"
    }
   ],
   "source": [
    "participant = [\"mislav\", \"stanko\", \"mislav\", \"ana\"]\n",
    "completion = [\"stanko\", \"ana\", \"mislav\"]\n",
    "\n",
    "def solution(participant, completion):\n",
    "    answer = ''\n",
    "    temp = 0\n",
    "    dic = {}\n",
    "    for part in participant:\n",
    "        dic[hash(part)] = part\n",
    "        temp += int(hash(part))\n",
    "    for com in completion:\n",
    "        temp -= hash(com)\n",
    "    answer = dic[temp]\n",
    "    return answer\n",
    "\n",
    "solution(participant, completion)"
   ]
  },
  {
   "cell_type": "markdown",
   "id": "fantastic-handling",
   "metadata": {},
   "source": [
    "## 2. 전화번호 목록"
   ]
  },
  {
   "cell_type": "markdown",
   "id": "metric-prior",
   "metadata": {},
   "source": [
    "### 최초 풀이\n",
    "- 길이가 짧은 것들을 기준으로 sort\n",
    "- 앞에 있는 번호가 뒷 순서들 번호의 접두사로 나오는지 확인\n",
    "- 효율성 검사 50% 통과"
   ]
  },
  {
   "cell_type": "code",
   "execution_count": 5,
   "id": "excellent-request",
   "metadata": {},
   "outputs": [
    {
     "data": {
      "text/plain": [
       "False"
      ]
     },
     "execution_count": 5,
     "metadata": {},
     "output_type": "execute_result"
    }
   ],
   "source": [
    "phone_book = [\"12\",\"123\",\"1235\",\"567\",\"88\"]\n",
    "\n",
    "def solution(phone_book):\n",
    "    phone_book.sort(key=len)\n",
    "    for i in range(len(phone_book)):\n",
    "        for j in range(i+1,len(phone_book)):\n",
    "            if phone_book[j][:len(phone_book[i])] == phone_book[i]:\n",
    "                return False\n",
    "    return True\n",
    "\n",
    "solution(phone_book)"
   ]
  },
  {
   "cell_type": "markdown",
   "id": "ideal-hampton",
   "metadata": {},
   "source": [
    "- startswith 함수 사용하여 위와 동일하게 풀이"
   ]
  },
  {
   "cell_type": "code",
   "execution_count": 6,
   "id": "varied-brave",
   "metadata": {},
   "outputs": [
    {
     "data": {
      "text/plain": [
       "False"
      ]
     },
     "execution_count": 6,
     "metadata": {},
     "output_type": "execute_result"
    }
   ],
   "source": [
    "phone_book = [\"12\",\"123\",\"1235\",\"567\",\"88\"]\n",
    "\n",
    "def solution(phone_book):\n",
    "    phone_book.sort(key=len)\n",
    "    for i in range(len(phone_book)):\n",
    "        for j in range(i+1,len(phone_book)):\n",
    "            if phone_book[j].startswith(phone_book[i]):\n",
    "                return False\n",
    "    return True\n",
    "\n",
    "solution(phone_book)"
   ]
  },
  {
   "cell_type": "markdown",
   "id": "western-details",
   "metadata": {},
   "source": [
    "### 다른 사람들의 풀이\n",
    "- 문자열임을 감안하여 sort -> 앞에 있는 단어들이 뒷 단어의 접두사가 됨\n",
    "- 해당 번호와 뒷 번호만 따로 빼서 확인\n",
    "- 효율성 검사 통과"
   ]
  },
  {
   "cell_type": "code",
   "execution_count": 7,
   "id": "tropical-explosion",
   "metadata": {},
   "outputs": [
    {
     "data": {
      "text/plain": [
       "False"
      ]
     },
     "execution_count": 7,
     "metadata": {},
     "output_type": "execute_result"
    }
   ],
   "source": [
    "#### zip 활용\n",
    "\n",
    "phone_book = [\"12\",\"123\",\"1235\",\"567\",\"88\"]\n",
    "\n",
    "def solution(phone_book):\n",
    "    phone_book = sorted(phone_book)\n",
    "    for p1, p2 in zip(phone_book, phone_book[1:]):\n",
    "        if p2.startswith(p1):\n",
    "            return False\n",
    "    return True\n",
    "\n",
    "solution(phone_book)"
   ]
  },
  {
   "cell_type": "code",
   "execution_count": 8,
   "id": "racial-beaver",
   "metadata": {},
   "outputs": [
    {
     "data": {
      "text/plain": [
       "False"
      ]
     },
     "execution_count": 8,
     "metadata": {},
     "output_type": "execute_result"
    }
   ],
   "source": [
    "#### dictionary 활용\n",
    "\n",
    "def solution(phone_book):\n",
    "    answer = True\n",
    "    dic = {}\n",
    "    for phone_number in phone_book:\n",
    "        dic[phone_number] = 1\n",
    "    for phone_number in phone_book:\n",
    "        temp = \"\"\n",
    "        for number in phone_number: # 전화번호에서 숫자 하나씩에 대해\n",
    "            temp += number          # temp에 이어붙이기\n",
    "            if temp in dic and temp != phone_number:    # temp가 전화번호부에 있으면(즉, 해당 번호의 접두사인 temp가 다른 전화번호이면)\n",
    "                # 뒤에서 돌면서 예를 들어 1, 12, 123 등 문자의 부분이 hash map에 있는지, 그리고 자기자신이 아닐지 확인\n",
    "                return False\n",
    "    return answer\n",
    "\n",
    "solution(phone_book)"
   ]
  },
  {
   "cell_type": "markdown",
   "id": "extra-range",
   "metadata": {},
   "source": [
    "## 3. 위장"
   ]
  },
  {
   "cell_type": "markdown",
   "id": "proud-arthritis",
   "metadata": {},
   "source": [
    "### 최초 풀이"
   ]
  },
  {
   "cell_type": "code",
   "execution_count": 9,
   "id": "focused-blackjack",
   "metadata": {},
   "outputs": [
    {
     "data": {
      "text/plain": [
       "47"
      ]
     },
     "execution_count": 9,
     "metadata": {},
     "output_type": "execute_result"
    }
   ],
   "source": [
    "clothes = [[\"yellowhat\", \"headgear\"], [\"bluesunglasses\", \"eyewear\"], [\"green_turban\", \"headgear\"],\n",
    "          [\"pinkhat\", \"headgear\"], [\"cowmask\", \"face\"], [\"makeup\", \"face\"], [\"redshoes\", \"shoewear\"]]\n",
    "\n",
    "def solution(clothes):\n",
    "    clothes.sort(key = lambda x :(x[1], x[0]))\n",
    "    \n",
    "    old_sum = 1               # 누적곱\n",
    "    summ = 1                  # type별 누적합\n",
    "    for i in range(len(clothes)-1):\n",
    "        if clothes[i][1] == clothes[i+1][1]:    # 뒷 물건과 같은 타입이면\n",
    "            summ += 1                # 해당 type 개수 +1\n",
    "        else:                        # 뒷 물건과 다른 타입이면\n",
    "            old_sum *= (summ+1)      # 이전 타입들에 대해 누적합\n",
    "            summ = 1                 # 초기화\n",
    "    \n",
    "    if summ == 1:\n",
    "        old_sum *= (1+1)\n",
    "        return old_sum -1\n",
    "\n",
    "    else:\n",
    "        return old_sum * (summ+1)-1\n",
    "    \n",
    "solution(clothes)"
   ]
  },
  {
   "cell_type": "markdown",
   "id": "historic-david",
   "metadata": {},
   "source": [
    "### 다른 사람들의 풀이\n",
    "- dictionary 활용하여 key(type), value(count) 구조 사용"
   ]
  },
  {
   "cell_type": "code",
   "execution_count": 10,
   "id": "express-pricing",
   "metadata": {},
   "outputs": [
    {
     "data": {
      "text/plain": [
       "47"
      ]
     },
     "execution_count": 10,
     "metadata": {},
     "output_type": "execute_result"
    }
   ],
   "source": [
    "clothes = [[\"yellowhat\", \"headgear\"], [\"bluesunglasses\", \"eyewear\"], [\"green_turban\", \"headgear\"],\n",
    "          [\"pinkhat\", \"headgear\"], [\"cowmask\", \"face\"], [\"makeup\", \"face\"], [\"redshoes\", \"shoewear\"]]\n",
    "\n",
    "#dictionary 이용\n",
    "def solution(clothes):\n",
    "    #딕셔너리 생성\n",
    "    closet = {}\n",
    "    \n",
    "    for cloth in clothes:\n",
    "        if cloth[1] in closet.keys():\n",
    "            closet[cloth[1]].append(cloth[0])\n",
    "        else:\n",
    "            closet[cloth[1]] = [cloth[0]]\n",
    "\n",
    "    answer=1\n",
    "    for value in closet.values():\n",
    "        answer *= (len(value) + 1)\n",
    "    answer = answer - 1\n",
    "    \n",
    "    return answer\n",
    "\n",
    "solution(clothes)"
   ]
  },
  {
   "cell_type": "markdown",
   "id": "voluntary-invasion",
   "metadata": {},
   "source": [
    "- 위 답안과 같이 딕셔너리 사용\n",
    "- 추가적으로, get 함수를 사용하여 value_count를 가져옴"
   ]
  },
  {
   "cell_type": "code",
   "execution_count": 11,
   "id": "utility-warrant",
   "metadata": {},
   "outputs": [
    {
     "data": {
      "text/plain": [
       "47"
      ]
     },
     "execution_count": 11,
     "metadata": {},
     "output_type": "execute_result"
    }
   ],
   "source": [
    "clothes = [[\"yellowhat\", \"headgear\"], [\"bluesunglasses\", \"eyewear\"], [\"green_turban\", \"headgear\"],\n",
    "          [\"pinkhat\", \"headgear\"], [\"cowmask\", \"face\"], [\"makeup\", \"face\"], [\"redshoes\", \"shoewear\"]]\n",
    "\n",
    "def solution(clothes):\n",
    "    dic={}\n",
    "    for cloth, type in clothes:\n",
    "        dic[type] = dic.get(type, 0) + 1 # dic의 key에 해당하는 value count 반환, 아닐 경우 0 -> 같은 종류이면 +1\n",
    "\n",
    "    answer = 1\n",
    "    for type in dic:\n",
    "        answer *= (dic[type]+1)          # 해당 타입의 옷 개수+1(선택 안하는 경우)를 누적곱\n",
    "\n",
    "    return answer - 1                   # 아무것도 착용하지 않는 경우 제외\n",
    "\n",
    "solution(clothes)"
   ]
  },
  {
   "cell_type": "markdown",
   "id": "nearby-illinois",
   "metadata": {},
   "source": [
    "- Counter 함수를 사용하여 각 type 별 옷이 몇 개씩 있는지 구조화\n",
    "- reduce 함수를 사용하여 누적 집계를 함(이 문제에선 누적 곱)"
   ]
  },
  {
   "cell_type": "code",
   "execution_count": 12,
   "id": "hazardous-toronto",
   "metadata": {},
   "outputs": [
    {
     "data": {
      "text/plain": [
       "47"
      ]
     },
     "execution_count": 12,
     "metadata": {},
     "output_type": "execute_result"
    }
   ],
   "source": [
    "clothes = [[\"yellowhat\", \"headgear\"], [\"bluesunglasses\", \"eyewear\"], [\"green_turban\", \"headgear\"],\n",
    "          [\"pinkhat\", \"headgear\"], [\"cowmask\", \"face\"], [\"makeup\", \"face\"], [\"redshoes\", \"shoewear\"]]\n",
    "\n",
    "from collections import Counter\n",
    "from functools import reduce\n",
    "\n",
    "def solution(clothes):\n",
    "    # 의상 종류별로 Counter 만들기\n",
    "    counter = Counter([type for cloth, type in clothes])\n",
    "\n",
    "    # 모든 종류의 count + 1을 누적하여 곱하기\n",
    "    answer = reduce(lambda acc, cur : acc*(cur+1), counter.values(),1) - 1 # 초기값 없으면 그냥 바로 계산. acc에 처음값, cur에 두번째값 들어가서 계산\n",
    "    return answer\n",
    "\n",
    "solution(clothes)"
   ]
  },
  {
   "cell_type": "markdown",
   "id": "organized-spine",
   "metadata": {},
   "source": [
    "- 위의 답안을 축소시킨 답안"
   ]
  },
  {
   "cell_type": "code",
   "execution_count": 13,
   "id": "particular-novel",
   "metadata": {},
   "outputs": [
    {
     "data": {
      "text/plain": [
       "47"
      ]
     },
     "execution_count": 13,
     "metadata": {},
     "output_type": "execute_result"
    }
   ],
   "source": [
    "clothes = [[\"yellowhat\", \"headgear\"], [\"bluesunglasses\", \"eyewear\"], [\"green_turban\", \"headgear\"],\n",
    "          [\"pinkhat\", \"headgear\"], [\"cowmask\", \"face\"], [\"makeup\", \"face\"], [\"redshoes\", \"shoewear\"]]\n",
    "\n",
    "import collections\n",
    "from functools import reduce\n",
    "\n",
    "def solution(c):\n",
    "    return reduce(lambda x,y:x*y,[a+1 for a in collections.Counter([x[1] for x in c]).values()])-1 \n",
    "\n",
    "solution(clothes)"
   ]
  }
 ],
 "metadata": {
  "kernelspec": {
   "display_name": "Python 3",
   "language": "python",
   "name": "python3"
  },
  "language_info": {
   "codemirror_mode": {
    "name": "ipython",
    "version": 3
   },
   "file_extension": ".py",
   "mimetype": "text/x-python",
   "name": "python",
   "nbconvert_exporter": "python",
   "pygments_lexer": "ipython3",
   "version": "3.7.9"
  }
 },
 "nbformat": 4,
 "nbformat_minor": 5
}

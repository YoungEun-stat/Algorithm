{
 "cells": [
  {
   "cell_type": "markdown",
   "id": "official-shirt",
   "metadata": {},
   "source": [
    "## 주식 가격\n",
    "### 최초 풀이\n",
    "- 이중 for문"
   ]
  },
  {
   "cell_type": "code",
   "execution_count": 1,
   "id": "industrial-analysis",
   "metadata": {},
   "outputs": [
    {
     "data": {
      "text/plain": [
       "[4, 3, 1, 1, 0]"
      ]
     },
     "execution_count": 1,
     "metadata": {},
     "output_type": "execute_result"
    }
   ],
   "source": [
    "def solution(prices):\n",
    "    answer =[0] * len(prices)\n",
    "    for i in range(len(prices)):\n",
    "        for j in range(i+1, len(prices)):\n",
    "            answer[i]+=1\n",
    "            if prices[i] > prices[j]:\n",
    "                break\n",
    "    return answer\n",
    "\n",
    "solution([1, 2, 3, 2, 3])"
   ]
  },
  {
   "cell_type": "markdown",
   "id": "industrial-nudist",
   "metadata": {},
   "source": [
    "### 다른 사람의 풀이"
   ]
  },
  {
   "cell_type": "markdown",
   "id": "standing-lightweight",
   "metadata": {},
   "source": [
    "- while과 deque 사용"
   ]
  },
  {
   "cell_type": "code",
   "execution_count": 2,
   "id": "reduced-measure",
   "metadata": {},
   "outputs": [
    {
     "data": {
      "text/plain": [
       "[4, 3, 1, 1, 0]"
      ]
     },
     "execution_count": 2,
     "metadata": {},
     "output_type": "execute_result"
    }
   ],
   "source": [
    "from collections import deque\n",
    "\n",
    "def solution(prices):\n",
    "    answer = []\n",
    "    prices = deque(prices)\n",
    "    \n",
    "    while prices:\n",
    "        sec= 0\n",
    "        p = prices.popleft() \n",
    "        \n",
    "        for price in prices:\n",
    "            sec += 1\n",
    "            if price < p:  \n",
    "                break\n",
    "        answer.append(sec)\n",
    "    return answer\n",
    "\n",
    "solution([1, 2, 3, 2, 3])"
   ]
  },
  {
   "cell_type": "code",
   "execution_count": 3,
   "id": "considered-ancient",
   "metadata": {},
   "outputs": [
    {
     "data": {
      "text/plain": [
       "[4, 3, 1, 1, 0]"
      ]
     },
     "execution_count": 3,
     "metadata": {},
     "output_type": "execute_result"
    }
   ],
   "source": [
    "def solution(prices):\n",
    "    # 가격이 얼마나 안 떨어지는지 저장하는 배열. 초기: 모두 안 떨어진다고 가정\n",
    "    answer = [len(prices)-i-1 for i in range(len(prices))]\n",
    "\n",
    "    stack = [0]\n",
    "    \n",
    "    for i in range(1, len(prices)):\n",
    "        while stack:\n",
    "            index = stack[-1]\n",
    "            \n",
    "            # 주식 가격이 떨어졌다면\n",
    "            if prices[index] > prices[i]:\n",
    "                answer[index] = i - index\n",
    "                stack.pop()\n",
    "            \n",
    "            # 떨어지지 않았다면 다음 시점으로 넘어감 (주식 가격이 계속 증가하고 있다는 말)\n",
    "            else:\n",
    "                break\n",
    "        \n",
    "        # 스택에 추가한다.\n",
    "        # 다음 시점으로 넘어갔을 때 다시 비교 대상이 될 예정이다.\n",
    "        stack.append(i)\n",
    "        \n",
    "    return answer\n",
    "\n",
    "solution([1, 2, 3, 2, 3])"
   ]
  }
 ],
 "metadata": {
  "kernelspec": {
   "display_name": "Python 3",
   "language": "python",
   "name": "python3"
  },
  "language_info": {
   "codemirror_mode": {
    "name": "ipython",
    "version": 3
   },
   "file_extension": ".py",
   "mimetype": "text/x-python",
   "name": "python",
   "nbconvert_exporter": "python",
   "pygments_lexer": "ipython3",
   "version": "3.7.9"
  }
 },
 "nbformat": 4,
 "nbformat_minor": 5
}

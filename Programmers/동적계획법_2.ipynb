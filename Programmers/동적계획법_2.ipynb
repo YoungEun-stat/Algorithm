{
 "cells": [
  {
   "cell_type": "markdown",
   "id": "collected-plenty",
   "metadata": {},
   "source": [
    "## N으로 표현\n",
    "### 최초 풀이\n",
    "- 연산 횟수를 하나씩 늘려가면서 만들 수 있는 수를 모두 구함"
   ]
  },
  {
   "cell_type": "code",
   "execution_count": 1,
   "id": "central-hospital",
   "metadata": {},
   "outputs": [],
   "source": [
    "def solution(N, number):\n",
    "    answer = -1\n",
    "    numbers = [[]]\n",
    "\n",
    "    for i in range(1,9):\n",
    "        numbs = []\n",
    "        numbs.append(int(str(N)*i))\n",
    "        for j in range(1, i):\n",
    "            for a in numbers[j]:\n",
    "                for b in numbers[i-j]:\n",
    "                    numbs.append(a+b)\n",
    "                    numbs.append(a-b)\n",
    "                    numbs.append(a*b)\n",
    "                    if b != 0:\n",
    "                        numbs.append(a//b)\n",
    "\n",
    "        if number in numbs:\n",
    "            answer = i\n",
    "            break\n",
    "            \n",
    "        numbers.append(list(set(numbs)))\n",
    "\n",
    "    return answer"
   ]
  },
  {
   "cell_type": "code",
   "execution_count": 2,
   "id": "tested-richmond",
   "metadata": {},
   "outputs": [
    {
     "data": {
      "text/plain": [
       "4"
      ]
     },
     "execution_count": 2,
     "metadata": {},
     "output_type": "execute_result"
    }
   ],
   "source": [
    "solution(5, 12)"
   ]
  }
 ],
 "metadata": {
  "kernelspec": {
   "display_name": "Python 3",
   "language": "python",
   "name": "python3"
  },
  "language_info": {
   "codemirror_mode": {
    "name": "ipython",
    "version": 3
   },
   "file_extension": ".py",
   "mimetype": "text/x-python",
   "name": "python",
   "nbconvert_exporter": "python",
   "pygments_lexer": "ipython3",
   "version": "3.7.9"
  }
 },
 "nbformat": 4,
 "nbformat_minor": 5
}

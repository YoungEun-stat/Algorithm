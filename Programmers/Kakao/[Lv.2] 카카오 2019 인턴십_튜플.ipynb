{
 "cells": [
  {
   "cell_type": "markdown",
   "id": "mobile-script",
   "metadata": {},
   "source": [
    "## 튜플\n",
    "### 최초 풀이\n",
    "- 문자열을 },{를 기준으로 나누어 길이에 따라 오름차순 sort\n",
    "- 각 리스트에 중복된 수가 있을 수 있으니 각 리스트를 다시 sort해서 answer과 비교"
   ]
  },
  {
   "cell_type": "code",
   "execution_count": 1,
   "id": "corporate-principle",
   "metadata": {},
   "outputs": [],
   "source": [
    "def solution(s):\n",
    "    a = s[2:-2].split('},{')\n",
    "    a.sort(key=len)\n",
    "    answer = [int(a[0])]\n",
    "    \n",
    "    for i in range(1,len(a)):\n",
    "        b = list(map(int, a[i].split(',')))\n",
    "        \n",
    "        for x, y in zip(sorted(answer), sorted(b)):\n",
    "            if x != y:\n",
    "                answer.append(y)\n",
    "                break\n",
    "                \n",
    "        if sorted(answer) != sorted(b):\n",
    "            answer.append(sorted(b)[-1])\n",
    "            \n",
    "    return answer"
   ]
  },
  {
   "cell_type": "code",
   "execution_count": 2,
   "id": "pleasant-following",
   "metadata": {},
   "outputs": [
    {
     "data": {
      "text/plain": [
       "[2, 3, 1, 2]"
      ]
     },
     "execution_count": 2,
     "metadata": {},
     "output_type": "execute_result"
    }
   ],
   "source": [
    "solution(\"{{3,2},{2},{1,2,3},{2,2,3,1}}\")"
   ]
  }
 ],
 "metadata": {
  "kernelspec": {
   "display_name": "Python 3",
   "language": "python",
   "name": "python3"
  },
  "language_info": {
   "codemirror_mode": {
    "name": "ipython",
    "version": 3
   },
   "file_extension": ".py",
   "mimetype": "text/x-python",
   "name": "python",
   "nbconvert_exporter": "python",
   "pygments_lexer": "ipython3",
   "version": "3.7.9"
  }
 },
 "nbformat": 4,
 "nbformat_minor": 5
}

{
 "cells": [
  {
   "cell_type": "markdown",
   "id": "solid-texas",
   "metadata": {},
   "source": [
    "## 거리두기 확인"
   ]
  },
  {
   "cell_type": "markdown",
   "id": "saving-porter",
   "metadata": {},
   "source": [
    "### 최초 풀이\n",
    "- 거리두기를 실패할 모든 경우에 대해 조건문 작성"
   ]
  },
  {
   "cell_type": "code",
   "execution_count": 1,
   "id": "trying-buyer",
   "metadata": {},
   "outputs": [
    {
     "data": {
      "text/plain": [
       "[1, 0, 0, 1, 1]"
      ]
     },
     "execution_count": 1,
     "metadata": {},
     "output_type": "execute_result"
    }
   ],
   "source": [
    "def solution(places):\n",
    "    place = []\n",
    "    for i in places:\n",
    "        classes = ['QQQQQQQ']\n",
    "        for j in i:\n",
    "            seats = 'Q'+j+'Q'\n",
    "            classes.append(seats)\n",
    "        classes.append('QQQQQQQ')\n",
    "        place.append(classes)\n",
    "        \n",
    "    graph = []\n",
    "    for i in range(len(place)):            # classes\n",
    "        for j in range(1,len(place[i])-1):              # row\n",
    "            seat = ''\n",
    "            for k in range(1,len(place[i][j])-1):         #columns\n",
    "                if place[i][j][k] == 'P':\n",
    "                    if (place[i][j+1][k] == 'P') or (place[i][j-1][k] == 'P') or (place[i][j][k+1] == 'P') or (place[i][j][k-1] == 'P'):\n",
    "                        seat += 'F'\n",
    "                        break\n",
    "                    elif ((place[i][j+1][k] == 'O') and (place[i][j+2][k] == 'P')) or ((place[i][j-1][k] == 'O') and (place[i][j-2][k] == 'P')) or (\n",
    "                        (place[i][j][k+1] == 'O') and (place[i][j][k+2] == 'P')) or ((place[i][j][k-1] == 'O') and (place[i][j][k-2] == 'P')):\n",
    "                        seat += 'F'\n",
    "                        break\n",
    "                    elif (place[i][j+1][k+1] == 'P') and ((place[i][j+1][k] == 'O') | (place[i][j][k+1] == 'O')):\n",
    "                        seat += 'F'\n",
    "                        break\n",
    "                    elif (place[i][j+1][k-1] == 'P') and ((place[i][j+1][k] == 'O') | (place[i][j][k-1] == 'O')):\n",
    "                        seat += 'F'\n",
    "                        break\n",
    "                    elif (place[i][j-1][k+1] == 'P') and ((place[i][j-1][k] == 'O') | (place[i][j][k+1] == 'O')):\n",
    "                        seat += 'F'\n",
    "                        break\n",
    "                    elif (place[i][j-1][k-1] == 'P') and ((place[i][j-1][k] == 'O') | (place[i][j][k-1] == 'O')):\n",
    "                        seat += 'F'\n",
    "                        break\n",
    "                    else:\n",
    "                        seat = seat + 'T'\n",
    "                else: seat = seat + 'T'\n",
    "\n",
    "            if 'F' in seat:\n",
    "                graph.append(0)\n",
    "                break\n",
    "        else: graph.append(1)\n",
    "    return graph\n",
    "\n",
    "places = [[\"POOOP\", \"OXXOX\", \"OPXPX\", \"OOXOX\", \"POXOP\"], \n",
    "          [\"POOPX\", \"OXPXP\", \"PXXXO\", \"OXXXO\", \"OOOPP\"], \n",
    "          [\"POOPX\", \"OXOXP\", \"PXXXO\", \"OXXXO\", \"POOOP\"], \n",
    "          [\"OOXXX\", \"XOOOX\", \"OOOXX\", \"OXOOX\", \"OOOOO\"], \n",
    "          [\"PXPXP\", \"XPXPX\", \"PXPXP\", \"XPXPX\", \"PXPXP\"]]\n",
    "solution(places)"
   ]
  },
  {
   "cell_type": "markdown",
   "id": "compound-headset",
   "metadata": {},
   "source": [
    "### 다른 사람의 풀이\n",
    "- 재귀함수 이용\n",
    "- 좌표 위/아래/옆으로 이동시키면서 확인"
   ]
  },
  {
   "cell_type": "code",
   "execution_count": 2,
   "id": "spectacular-cheese",
   "metadata": {},
   "outputs": [
    {
     "data": {
      "text/plain": [
       "[1, 0, 0, 1, 1]"
      ]
     },
     "execution_count": 2,
     "metadata": {},
     "output_type": "execute_result"
    }
   ],
   "source": [
    "def solution(places):\n",
    "    result = []\n",
    "    dx = [-1, 1, 0, 0]\n",
    "    dy = [0, 0, -1, 1]\n",
    "\n",
    "    def f(i, j, cnt):\n",
    "        nonlocal good\n",
    "        if cnt >2 : return\n",
    "        if -1<i<5 and -1<j<5:\n",
    "            if graph[i][j] == 'X':\n",
    "                return\n",
    "\n",
    "            if cnt != 0 and graph[i][j] == 'P':\n",
    "                good = 0\n",
    "                return\n",
    "\n",
    "            graph[i][j] = 'X'\n",
    "\n",
    "            for w in range(4):\n",
    "                ni = i+dx[w]\n",
    "                nj = j+dy[w]\n",
    "                f(ni, nj, cnt+1)\n",
    "\n",
    "    for case in places:\n",
    "        graph = [list(r) for r in case]\n",
    "        good = 1\n",
    "        for i in range(5):\n",
    "            for j in range(5):\n",
    "                if graph[i][j]=='P':\n",
    "                    f(i,j,0)\n",
    "\n",
    "        result.append(good)\n",
    "    return result\n",
    "\n",
    "places = [[\"POOOP\", \"OXXOX\", \"OPXPX\", \"OOXOX\", \"POXOP\"], \n",
    "          [\"POOPX\", \"OXPXP\", \"PXXXO\", \"OXXXO\", \"OOOPP\"], \n",
    "          [\"POOPX\", \"OXOXP\", \"PXXXO\", \"OXXXO\", \"POOOP\"], \n",
    "          [\"OOXXX\", \"XOOOX\", \"OOOXX\", \"OXOOX\", \"OOOOO\"], \n",
    "          [\"PXPXP\", \"XPXPX\", \"PXPXP\", \"XPXPX\", \"PXPXP\"]]\n",
    "solution(places)"
   ]
  }
 ],
 "metadata": {
  "kernelspec": {
   "display_name": "Python 3",
   "language": "python",
   "name": "python3"
  },
  "language_info": {
   "codemirror_mode": {
    "name": "ipython",
    "version": 3
   },
   "file_extension": ".py",
   "mimetype": "text/x-python",
   "name": "python",
   "nbconvert_exporter": "python",
   "pygments_lexer": "ipython3",
   "version": "3.7.9"
  }
 },
 "nbformat": 4,
 "nbformat_minor": 5
}

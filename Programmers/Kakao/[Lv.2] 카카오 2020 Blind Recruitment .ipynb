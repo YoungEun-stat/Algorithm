{
 "cells": [
  {
   "cell_type": "markdown",
   "id": "tamil-latter",
   "metadata": {},
   "source": [
    "## 괄호 변환"
   ]
  },
  {
   "cell_type": "markdown",
   "id": "leading-claim",
   "metadata": {},
   "source": [
    "### 최초 풀이\n",
    "- 균형잡힌 문자열(두 괄호 개수가 같은 경우), 올바른 괄호 문자열(괄호의 짝이 맞을 경우)\n",
    "- 함수 3개 구성\n",
    "    - u, v를 나누는 함수\n",
    "    - u가 올바른 괄호 문자열인지 판별하는 함수 (왼쪽부터 세었을 때 '('의 개수보다 ')'의 개수가 많으면 올바르지 않은 괄호 문자열)\n",
    "    - u에 따라 올바른 괄호 문자열을 반환하는 함수"
   ]
  },
  {
   "cell_type": "code",
   "execution_count": 1,
   "id": "printable-english",
   "metadata": {},
   "outputs": [
    {
     "data": {
      "text/plain": [
       "'(()())()'"
      ]
     },
     "execution_count": 1,
     "metadata": {},
     "output_type": "execute_result"
    }
   ],
   "source": [
    "def split(p):\n",
    "    u_count = 0\n",
    "    for i in range(len(p)):\n",
    "        if p[i] == '(':\n",
    "            u_count += 1\n",
    "        else:\n",
    "            u_count -= 1\n",
    "            \n",
    "        if u_count == 0:\n",
    "            v = p[i+1:]\n",
    "            u = p[:i+1]\n",
    "            return u, v\n",
    "\n",
    "def is_correct(u):\n",
    "    for i in range(len(u)-1):\n",
    "        if u[:i+1].count('(') < u[:i+1].count(')'):\n",
    "            return False\n",
    "        break\n",
    "    return True\n",
    "\n",
    "\n",
    "def solution(p):\n",
    "    if p == '':\n",
    "        return ''\n",
    "    \n",
    "    u, v = split(p)\n",
    "    \n",
    "    if is_correct(u):\n",
    "        return u + solution(v)\n",
    "    \n",
    "    else:\n",
    "        answer = '('\n",
    "        answer += solution(v)\n",
    "        answer += ')'\n",
    "        answer += u[1:-1].replace('(', 'a').replace(')', 'b').replace('a', ')').replace('b', '(')\n",
    "           \n",
    "        return answer\n",
    "    \n",
    "p =\"(()())()\"\n",
    "solution(p)"
   ]
  },
  {
   "cell_type": "markdown",
   "id": "hybrid-tooth",
   "metadata": {},
   "source": [
    "### 다른 사람의 풀이\n",
    "- u, v의 split과 올바른 괄호 문자열 판정을 하나의 for문 안에 생성\n",
    "- lambda를 사용하여 괄호 변환"
   ]
  },
  {
   "cell_type": "code",
   "execution_count": 2,
   "id": "dying-pleasure",
   "metadata": {},
   "outputs": [
    {
     "data": {
      "text/plain": [
       "'(()())()'"
      ]
     },
     "execution_count": 2,
     "metadata": {},
     "output_type": "execute_result"
    }
   ],
   "source": [
    "def solution(p):\n",
    "    if p=='': \n",
    "        return p\n",
    "    \n",
    "    r=True; c=0\n",
    "    for i in range(len(p)):\n",
    "        if p[i]=='(': c-=1\n",
    "        else: c+=1\n",
    "            \n",
    "        if c>0: r=False    # 올바른 괄호 문자열이 아님\n",
    "            \n",
    "        if c==0:           # 균형잡힌 괄호 문자열일 때\n",
    "            if r:          # 올바른 괄호 문자열인 경우\n",
    "                return p[:i+1]+solution(p[i+1:])   # u + solution(v)\n",
    "            else:          # 올바른 괄호 문자열이 아닌 경우\n",
    "                # solution(v) 양옆에 () 추가, 거기에 u에 대해 괄호를 반대로 바꾸어서 합침\n",
    "                return '('+solution(p[i+1:])+')'+''.join(list(map(lambda x:'(' if x==')' else ')',p[1:i]) ))\n",
    "            \n",
    "p =\"(()())()\"\n",
    "solution(p)"
   ]
  },
  {
   "cell_type": "markdown",
   "id": "theoretical-vault",
   "metadata": {},
   "source": [
    "## 문자열 압축"
   ]
  },
  {
   "cell_type": "markdown",
   "id": "pretty-antenna",
   "metadata": {},
   "source": [
    "### 최초 풀이"
   ]
  },
  {
   "cell_type": "code",
   "execution_count": 46,
   "id": "bottom-delicious",
   "metadata": {},
   "outputs": [],
   "source": [
    "def solution(s):\n",
    "    count = len(s)\n",
    "    for i in range(1,len(s)//2+1):\n",
    "        split = [s[k:k+i] for k in range(0, len(s), i)]\n",
    "        split.append('')\n",
    "        #print(split)\n",
    "        \n",
    "        cnt = 1\n",
    "        string = ''\n",
    "        for j in range(len(split)-1):\n",
    "            \n",
    "            #print(split[j],split[j+1])\n",
    "            if split[j] == split[j+1]:\n",
    "                cnt+=1\n",
    "            else:\n",
    "                if cnt == 1:\n",
    "                    string += split[j]\n",
    "                else:\n",
    "                    string += (str(cnt) + split[j-1])\n",
    "                cnt = 1\n",
    "            #print(string)\n",
    "            #print(len(string))\n",
    "        if len(string) < count:\n",
    "            count = len(string)\n",
    "    return count\n",
    "\n",
    "s = \"xababcdcdababcdcd\"\n",
    "solution(s)"
   ]
  },
  {
   "cell_type": "markdown",
   "id": "naval-greene",
   "metadata": {},
   "source": [
    "### 다른 사람의 풀이\n",
    "- zip으로 앞,뒤 string 비교"
   ]
  },
  {
   "cell_type": "code",
   "execution_count": null,
   "id": "aggregate-consensus",
   "metadata": {},
   "outputs": [],
   "source": [
    "def compress(text, tok_len):\n",
    "    words = [text[i:i+tok_len] for i in range(0, len(text), tok_len)]\n",
    "    res = []\n",
    "    cur_word = words[0]\n",
    "    cur_cnt = 1\n",
    "    for a, b in zip(words, words[1:] + ['']):\n",
    "        if a == b:\n",
    "            cur_cnt += 1\n",
    "        else:\n",
    "            res.append([cur_word, cur_cnt])\n",
    "            cur_word = b\n",
    "            cur_cnt = 1\n",
    "    return sum(len(word) + (len(str(cnt)) if cnt > 1 else 0) for word, cnt in res)\n",
    "\n",
    "def solution(text):\n",
    "    return min(compress(text, tok_len) for tok_len in list(range(1, int(len(text)/2) + 1)) + [len(text)])\n",
    "\n",
    "s = \"xababcdcdababcdcd\"\n",
    "solution(s)"
   ]
  }
 ],
 "metadata": {
  "kernelspec": {
   "display_name": "Python 3",
   "language": "python",
   "name": "python3"
  },
  "language_info": {
   "codemirror_mode": {
    "name": "ipython",
    "version": 3
   },
   "file_extension": ".py",
   "mimetype": "text/x-python",
   "name": "python",
   "nbconvert_exporter": "python",
   "pygments_lexer": "ipython3",
   "version": "3.7.9"
  }
 },
 "nbformat": 4,
 "nbformat_minor": 5
}

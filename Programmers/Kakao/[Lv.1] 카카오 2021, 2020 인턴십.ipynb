{
 "cells": [
  {
   "cell_type": "markdown",
   "id": "short-myrtle",
   "metadata": {},
   "source": [
    "## 숫자 문자열과 영단어"
   ]
  },
  {
   "cell_type": "markdown",
   "id": "seasonal-agenda",
   "metadata": {},
   "source": [
    "### 최초 풀이\n",
    "- replace를 사용하여 모든 문자 일일이 변경"
   ]
  },
  {
   "cell_type": "code",
   "execution_count": 1,
   "id": "bulgarian-editing",
   "metadata": {},
   "outputs": [
    {
     "data": {
      "text/plain": [
       "1478"
      ]
     },
     "execution_count": 1,
     "metadata": {},
     "output_type": "execute_result"
    }
   ],
   "source": [
    "def solution(s):\n",
    "    answer = int(s.replace('zero', '0').replace('one', '1').replace('two', '2').replace('three', '3').replace('four', '4').replace('five', '5').replace('six', '6').replace('seven', '7').replace('eight', '8').replace('nine','9'))\n",
    "    return answer\n",
    "\n",
    "s = \"one4seveneight\"\n",
    "solution(s)"
   ]
  },
  {
   "cell_type": "markdown",
   "id": "marine-environment",
   "metadata": {},
   "source": [
    "### 수정 후 풀이\n",
    "- 딕셔너리와 for 문을 사용하여 단순화"
   ]
  },
  {
   "cell_type": "code",
   "execution_count": 2,
   "id": "appointed-marathon",
   "metadata": {},
   "outputs": [
    {
     "data": {
      "text/plain": [
       "1478"
      ]
     },
     "execution_count": 2,
     "metadata": {},
     "output_type": "execute_result"
    }
   ],
   "source": [
    "dic = {'zero':'0', 'one':'1', 'two':'2', 'three':'3', 'four':'4', 'five':'5', 'six':'6', 'seven':'7', 'eight':'8', 'nine':'9'}\n",
    "\n",
    "def solution(s):\n",
    "    for k, v in dic.items():\n",
    "        s = s.replace(k, v)\n",
    "    return int(s)\n",
    "\n",
    "s = \"one4seveneight\"\n",
    "solution(s)"
   ]
  },
  {
   "cell_type": "markdown",
   "id": "changed-lesson",
   "metadata": {},
   "source": [
    "## 키패드 누르기"
   ]
  },
  {
   "cell_type": "markdown",
   "id": "abroad-ticket",
   "metadata": {},
   "source": [
    "### 최초 풀이\n",
    "- 1, 4, 7, * 또는 3, 6, 9, # 또는 2, 5, 8, 0에서  2, 5, 8, 0으로 가는 거리 계산하여 리스트 생성"
   ]
  },
  {
   "cell_type": "code",
   "execution_count": 3,
   "id": "hollow-smart",
   "metadata": {},
   "outputs": [
    {
     "data": {
      "text/plain": [
       "'LRLLRRLLLRR'"
      ]
     },
     "execution_count": 3,
     "metadata": {},
     "output_type": "execute_result"
    }
   ],
   "source": [
    "def solution(numbers, hand):\n",
    "    result = ''\n",
    "    where = [3, 3]\n",
    "    left_list = [1, 4, 7, 10, 2, 5 ,8, 0]\n",
    "    right_list = [3, 6, 9, 11, 2, 5 ,8, 0]\n",
    "    middle_list = [2, 5 ,8, 0]\n",
    "    \n",
    "    arrive2580_left = [[1, 2, 3, 4], [2, 1, 2, 3], [3, 2, 1, 2], [4, 3, 2, 1]] # 1, 4, 7, * ->2, 5, 8, 0\n",
    "    arrive2580_right = [[1, 2, 3, 4], [2, 1, 2, 3], [3, 2, 1, 2], [4, 3, 2, 1]] # 3, 6, 9, # -> 2, 5, 8, 0\n",
    "    arrive2580_2580 = [[0, 1, 2, 3], [1, 0, 1, 2], [2, 1, 0, 1], [3, 2, 1, 0]]\n",
    "\n",
    "    \n",
    "    for i in numbers:\n",
    "        if i in left_list[:3]:\n",
    "            result=result+'L'\n",
    "            where[0] = left_list.index(i)\n",
    "        if i in right_list[:3]:\n",
    "            result=result+'R'\n",
    "            where[1] = right_list.index(i)\n",
    "            \n",
    "        if i in middle_list:\n",
    "            if (where[0] >=4) and (where[1] < 4):\n",
    "                left = arrive2580_2580[where[0]-4][middle_list.index(i)]\n",
    "                right = arrive2580_right[where[1]][middle_list.index(i)]\n",
    "            elif (where[0] <4) and (where[1] >=4):\n",
    "                left = arrive2580_left[where[0]][middle_list.index(i)]\n",
    "                right = arrive2580_2580[where[1]-4][middle_list.index(i)]\n",
    "            elif (where[0] >=4) and (where[1] >=4):\n",
    "                left = arrive2580_2580[where[0]-4][middle_list.index(i)]\n",
    "                right = arrive2580_2580[where[1]-4][middle_list.index(i)]\n",
    "            else:\n",
    "                left = arrive2580_left[where[0]][middle_list.index(i)]\n",
    "                right = arrive2580_right[where[1]][middle_list.index(i)]\n",
    "                \n",
    "            if left < right:\n",
    "                result=result+'L'\n",
    "                where[0] = left_list.index(i)\n",
    "            elif left > right:\n",
    "                result=result+'R'\n",
    "                where[1] = right_list.index(i)\n",
    "            else: \n",
    "                if hand == 'left':\n",
    "                    where[0] = left_list.index(i)\n",
    "                    result=result+'L'\n",
    "                else:\n",
    "                    where[1] = right_list.index(i)\n",
    "                    result=result+'R'\n",
    "    return result\n",
    "\n",
    "\n",
    "numbers = [7, 0, 8, 2, 8, 3, 1, 5, 7, 6, 2]\n",
    "hand = \"left\"\n",
    "solution(numbers, hand)"
   ]
  },
  {
   "cell_type": "markdown",
   "id": "third-aaron",
   "metadata": {},
   "source": [
    "### 수정 후 풀이\n",
    "- 좌표로 위치를 나타내어 풀이 단순화\n",
    "- 거리 계산을 x 좌표 간 차이 + y 좌표 간 차이로 나타내어 거리 리스트 불필요"
   ]
  },
  {
   "cell_type": "code",
   "execution_count": 4,
   "id": "corrected-manor",
   "metadata": {},
   "outputs": [
    {
     "data": {
      "text/plain": [
       "'LRLLRRLLLRR'"
      ]
     },
     "execution_count": 4,
     "metadata": {},
     "output_type": "execute_result"
    }
   ],
   "source": [
    "def solution(numbers, hand):\n",
    "    answer = ''\n",
    "    location = [[3, 1], [0, 0], [0, 1], [0, 2], [1, 0], [1, 1], [1, 2], [2, 0], [2, 1], [2, 2]]\n",
    "    left, right = [3, 0], [3, 2]\n",
    "    \n",
    "    for i in numbers:\n",
    "        if i in [1, 4, 7]:\n",
    "            answer += 'L'\n",
    "            left = location[i]\n",
    "        elif i in [3, 6, 9]:\n",
    "            answer += 'R'\n",
    "            right = location[i]\n",
    "        else:\n",
    "            l = abs(location[i][0] - left[0]) + abs(location[i][1] - left[1])\n",
    "            r = abs(location[i][0] - right[0]) + abs(location[i][1] - right[1])\n",
    "            \n",
    "            if l < r:\n",
    "                answer += 'L'\n",
    "                left = location[i]\n",
    "            elif l > r:\n",
    "                answer += 'R'\n",
    "                right = location[i]\n",
    "            else:\n",
    "                if hand == 'right':\n",
    "                    right = location[i]\n",
    "                    answer += 'R'\n",
    "                else:\n",
    "                    left = location[i]\n",
    "                    answer += 'L'\n",
    "\n",
    "    return answer\n",
    "\n",
    "numbers = [7, 0, 8, 2, 8, 3, 1, 5, 7, 6, 2]\n",
    "hand = \"left\"\n",
    "solution(numbers, hand)"
   ]
  }
 ],
 "metadata": {
  "kernelspec": {
   "display_name": "Python 3",
   "language": "python",
   "name": "python3"
  },
  "language_info": {
   "codemirror_mode": {
    "name": "ipython",
    "version": 3
   },
   "file_extension": ".py",
   "mimetype": "text/x-python",
   "name": "python",
   "nbconvert_exporter": "python",
   "pygments_lexer": "ipython3",
   "version": "3.7.9"
  }
 },
 "nbformat": 4,
 "nbformat_minor": 5
}

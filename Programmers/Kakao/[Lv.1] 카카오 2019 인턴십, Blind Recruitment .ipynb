{
 "cells": [
  {
   "cell_type": "markdown",
   "id": "radical-astrology",
   "metadata": {},
   "source": [
    "## 크레인 인형뽑기 게임"
   ]
  },
  {
   "cell_type": "markdown",
   "id": "posted-evolution",
   "metadata": {},
   "source": [
    "### 최초 풀이"
   ]
  },
  {
   "cell_type": "code",
   "execution_count": 1,
   "id": "homeless-nerve",
   "metadata": {},
   "outputs": [
    {
     "data": {
      "text/plain": [
       "4"
      ]
     },
     "execution_count": 1,
     "metadata": {},
     "output_type": "execute_result"
    }
   ],
   "source": [
    "def solution(board, moves):\n",
    "    chosen = [-1]\n",
    "    boom = 0\n",
    "\n",
    "    for i in range(len(moves)):\n",
    "        for j in range(len(board)):\n",
    "            if board[j][moves[i]-1] != 0:\n",
    "                chosen.append(board[j][moves[i]-1])\n",
    "                if chosen[-1] == chosen[-2]:\n",
    "                    chosen = chosen[:-2]\n",
    "                    boom += 2\n",
    "\n",
    "                board[j][moves[i]-1] = 0\n",
    "                break\n",
    "\n",
    "    chosen.remove(-1)\n",
    "    \n",
    "    return boom\n",
    "\n",
    "board = [[0,0,0,0,0],[0,0,1,0,3],[0,2,5,0,1],[4,2,4,4,2],[3,5,1,3,1]]\n",
    "moves = [1,5,3,5,1,2,1,4]\n",
    "solution(board, moves)"
   ]
  },
  {
   "cell_type": "markdown",
   "id": "dying-convertible",
   "metadata": {},
   "source": [
    "## 실패율"
   ]
  },
  {
   "cell_type": "markdown",
   "id": "preliminary-specification",
   "metadata": {},
   "source": [
    "### 최초 풀이\n",
    "- 각 stage에 머물고 있는 사람 수 for문으로 구함"
   ]
  },
  {
   "cell_type": "code",
   "execution_count": 2,
   "id": "worse-helping",
   "metadata": {},
   "outputs": [
    {
     "data": {
      "text/plain": [
       "[3, 4, 2, 1, 5]"
      ]
     },
     "execution_count": 2,
     "metadata": {},
     "output_type": "execute_result"
    }
   ],
   "source": [
    "def solution(N, stages):\n",
    "    num_ppl = [0]*(N+1)\n",
    "\n",
    "    for i in range(len(stages)):\n",
    "        num_ppl[stages[i]-1] += 1\n",
    "\n",
    "    failure_rate = [num_ppl[i]/sum(num_ppl[i:]) for i in range(len(num_ppl)) if sum(num_ppl[i:]) != 0][:N]\n",
    "    if len(failure_rate) < N:     # ex. N=4, stages=[1,1,1,1,1] 인 경우\n",
    "        failure_rate = failure_rate + [0]*(N-len(failure_rate))\n",
    "\n",
    "    sorted_stage = sorted(range(len(failure_rate)), key=lambda k: failure_rate[k], reverse=True)\n",
    "    sorted_stage = [i+1 for i in sorted_stage]\n",
    "    return sorted_stage\n",
    "\n",
    "N = 5\n",
    "stages = [2, 1, 2, 6, 2, 4, 3, 3]\n",
    "solution(N, stages)"
   ]
  },
  {
   "cell_type": "markdown",
   "id": "thousand-smoke",
   "metadata": {},
   "source": [
    "### 수정 후 풀이\n",
    "- 각 stage에 머물고 있는 사람 수를 count를 사용하여 구함\n",
    "- 각 stage별 실패율을 dictionary 형태로 저장"
   ]
  },
  {
   "cell_type": "code",
   "execution_count": 3,
   "id": "mighty-advocacy",
   "metadata": {},
   "outputs": [
    {
     "data": {
      "text/plain": [
       "[3, 4, 2, 1, 5]"
      ]
     },
     "execution_count": 3,
     "metadata": {},
     "output_type": "execute_result"
    }
   ],
   "source": [
    "def solution(N, stages):\n",
    "    result = {}\n",
    "    sum_num_ppl = len(stages)\n",
    "    for i in range(1, N+1):\n",
    "        if sum_num_ppl != 0:\n",
    "            num_ppl = stages.count(i)\n",
    "            result[i] = num_ppl / sum_num_ppl\n",
    "            sum_num_ppl -= num_ppl\n",
    "        else:\n",
    "            result[i] = 0\n",
    "    return sorted(result, key=lambda x : result[x], reverse=True)\n",
    "\n",
    "N = 5\n",
    "stages = [2, 1, 2, 6, 2, 4, 3, 3]\n",
    "solution(N, stages)"
   ]
  }
 ],
 "metadata": {
  "kernelspec": {
   "display_name": "Python 3",
   "language": "python",
   "name": "python3"
  },
  "language_info": {
   "codemirror_mode": {
    "name": "ipython",
    "version": 3
   },
   "file_extension": ".py",
   "mimetype": "text/x-python",
   "name": "python",
   "nbconvert_exporter": "python",
   "pygments_lexer": "ipython3",
   "version": "3.7.9"
  }
 },
 "nbformat": 4,
 "nbformat_minor": 5
}

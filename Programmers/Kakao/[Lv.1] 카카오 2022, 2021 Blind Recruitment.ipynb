{
 "cells": [
  {
   "cell_type": "markdown",
   "id": "specific-conditions",
   "metadata": {},
   "source": [
    "## 신고 결과 받기"
   ]
  },
  {
   "cell_type": "markdown",
   "id": "legitimate-recognition",
   "metadata": {},
   "source": [
    "### 최초 풀이\n",
    "- matrix 형태로 행은 신고자, 열은 신고당한사람으로, A가 B를 신고했으면 1로 채움\n",
    "- 각 column별 합이 신고당한 id당 신고당한 횟수의 합\n",
    "- k개 이상의 신고받은 column에 대해서 행별(신고자별)로 합 계산\n",
    "- 좀 복잡함"
   ]
  },
  {
   "cell_type": "code",
   "execution_count": 1,
   "id": "starting-australia",
   "metadata": {},
   "outputs": [
    {
     "name": "stdout",
     "output_type": "stream",
     "text": [
      "[1, 3]\n"
     ]
    },
    {
     "data": {
      "text/plain": [
       "[2, 1, 1, 0]"
      ]
     },
     "execution_count": 1,
     "metadata": {},
     "output_type": "execute_result"
    }
   ],
   "source": [
    "def solution(id_list, report, k): \n",
    "    mat =[[0 for row in range(len(id_list))] for col in range(len(id_list))]\n",
    "    dic = {}\n",
    "    for i, ids in enumerate(id_list):\n",
    "        dic[ids] = i\n",
    "    \n",
    "    # 신고자(행), 신고당한사람(열) matrix 생성\n",
    "    for i in range(len(report)):\n",
    "        mat[dic[report[i].split(' ')[0]]][dic[report[i].split(' ')[1]]] = 1\n",
    "        \n",
    "    # 신고당한사람별 신고당한 횟수의 합\n",
    "    sum_called = [sum(col) for col in zip(*mat)]\n",
    "    sum_called_k = [i for i, sums in enumerate(sum_called) if sums>=k]\n",
    "    \n",
    "    # 신고자별 받을 안내문 수\n",
    "    singo = [0]*len(id_list)\n",
    "    for i in range(len(id_list)):\n",
    "        for j in sum_called_k:\n",
    "            if mat[i][j] == 1:\n",
    "                singo[i] += 1\n",
    "    return singo\n",
    "\n",
    "\n",
    "id_list = [\"muzi\", \"frodo\", \"apeach\", \"neo\"]\n",
    "report = [\"muzi frodo\",\"apeach frodo\",\"frodo neo\",\"muzi neo\",\"apeach muzi\"]\n",
    "k = 2\n",
    "solution(id_list, report, k)"
   ]
  },
  {
   "cell_type": "markdown",
   "id": "addressed-tolerance",
   "metadata": {},
   "source": [
    "### 다른 사람의 풀이\n",
    "- list.index()를 사용하여 id_list와 report의 index 연결하여 간단하게 풀이 가능"
   ]
  },
  {
   "cell_type": "code",
   "execution_count": 2,
   "id": "involved-medium",
   "metadata": {},
   "outputs": [
    {
     "data": {
      "text/plain": [
       "[2, 1, 1, 0]"
      ]
     },
     "execution_count": 2,
     "metadata": {},
     "output_type": "execute_result"
    }
   ],
   "source": [
    "def solution(id_list, report, k):\n",
    "    answer = [0] * len(id_list)    \n",
    "    reports = {x : 0 for x in id_list}\n",
    "\n",
    "    for r in set(report):\n",
    "        reports[r.split()[1]] += 1\n",
    "\n",
    "    for r in set(report):\n",
    "        if reports[r.split()[1]] >= k:\n",
    "            answer[id_list.index(r.split()[0])] += 1\n",
    "\n",
    "    return answer\n",
    "\n",
    "id_list = [\"muzi\", \"frodo\", \"apeach\", \"neo\"]\n",
    "report = [\"muzi frodo\",\"apeach frodo\",\"frodo neo\",\"muzi neo\",\"apeach muzi\"]\n",
    "k = 2\n",
    "solution(id_list, report, k)"
   ]
  },
  {
   "cell_type": "markdown",
   "id": "gross-musician",
   "metadata": {},
   "source": [
    "## 신규 아이디 추천"
   ]
  },
  {
   "cell_type": "markdown",
   "id": "present-track",
   "metadata": {},
   "source": [
    "### 최초 풀이\n",
    "- 정규방정식 이용"
   ]
  },
  {
   "cell_type": "code",
   "execution_count": 3,
   "id": "interim-pendant",
   "metadata": {},
   "outputs": [
    {
     "data": {
      "text/plain": [
       "'bat.y.abcdefghi'"
      ]
     },
     "execution_count": 3,
     "metadata": {},
     "output_type": "execute_result"
    }
   ],
   "source": [
    "import re\n",
    "\n",
    "def solution(new_id):\n",
    "    new_id = re.sub(r\"[^a-z0-9._-]\", \"\",new_id.lower())\n",
    "    new_id = re.sub('(([.])\\\\2{1,})', '.', new_id).strip('.')\n",
    "    if new_id == '':\n",
    "        new_id = 'a'\n",
    "    if len(new_id) >= 16:\n",
    "        new_id = new_id[:15].strip('.')\n",
    "    if len(new_id) <= 2:\n",
    "        new_id = new_id + new_id[-1]*(3-len(new_id))\n",
    "    \n",
    "    return new_id\n",
    "\n",
    "new_id = \"...!@BaT#*..y.abcdefghijklm\"\n",
    "solution(new_id)"
   ]
  }
 ],
 "metadata": {
  "kernelspec": {
   "display_name": "Python 3",
   "language": "python",
   "name": "python3"
  },
  "language_info": {
   "codemirror_mode": {
    "name": "ipython",
    "version": 3
   },
   "file_extension": ".py",
   "mimetype": "text/x-python",
   "name": "python",
   "nbconvert_exporter": "python",
   "pygments_lexer": "ipython3",
   "version": "3.7.9"
  }
 },
 "nbformat": 4,
 "nbformat_minor": 5
}

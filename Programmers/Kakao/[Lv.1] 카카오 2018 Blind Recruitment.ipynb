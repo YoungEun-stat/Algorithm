{
 "cells": [
  {
   "cell_type": "markdown",
   "id": "choice-former",
   "metadata": {},
   "source": [
    "## 비밀지도"
   ]
  },
  {
   "cell_type": "markdown",
   "id": "round-change",
   "metadata": {},
   "source": [
    "### 최초 풀이\n",
    "- bin을 사용하여 10진수를 2진수로 변환\n",
    "- 문자들의 길이를 0을 삽입하여 맞춰줌\n",
    "- replace를 사용하여 숫자를 #, 공백으로 변형"
   ]
  },
  {
   "cell_type": "code",
   "execution_count": 1,
   "id": "inner-boston",
   "metadata": {},
   "outputs": [
    {
     "data": {
      "text/plain": [
       "['#####', '# # #', '### #', '#  ##', '#####']"
      ]
     },
     "execution_count": 1,
     "metadata": {},
     "output_type": "execute_result"
    }
   ],
   "source": [
    "def solution(n, arr1, arr2):\n",
    "    new_arr1 = [bin(i)[2:] for i in arr1]\n",
    "    new_arr2 = [bin(i)[2:] for i in arr2]\n",
    "    result = []\n",
    "    \n",
    "    for i, j in zip(new_arr1, new_arr2):\n",
    "        result.append(str('0'*(n-len(str(int(i)+int(j))))+str(int(i)+int(j)))) \n",
    "\n",
    "    for i in range(n):\n",
    "        result[i] = result[i].replace('0', ' ').replace('1', '#').replace('2', '#')\n",
    "    return result\n",
    "\n",
    "\n",
    "n = 5\n",
    "arr1 = [9, 20, 28, 18, 11]\n",
    "arr2 = [30, 1, 21, 17, 28]\n",
    "solution(n, arr1, arr2)"
   ]
  },
  {
   "cell_type": "markdown",
   "id": "frank-thermal",
   "metadata": {},
   "source": [
    "### 다른 사람의 풀이\n",
    "- zip을 사용해 한번에 이진수로 변환\n",
    "- bin(i|j)를 사용하여 i, j를 각각 이진수로 변환 후, 모두 0이면 0으로, 둘 중에 하나라도 1이면 1로 문자열 변경\n",
    "- rjust()를 사용하여 우정렬 후, 길이를 맞추기 위해 0으로 왼쪽을 채워줌"
   ]
  },
  {
   "cell_type": "code",
   "execution_count": 2,
   "id": "alleged-houston",
   "metadata": {},
   "outputs": [
    {
     "name": "stdout",
     "output_type": "stream",
     "text": [
      "11111\n",
      "10101\n",
      "11101\n",
      "10011\n",
      "11111\n"
     ]
    },
    {
     "data": {
      "text/plain": [
       "['#####', '# # #', '### #', '#  ##', '#####']"
      ]
     },
     "execution_count": 2,
     "metadata": {},
     "output_type": "execute_result"
    }
   ],
   "source": [
    "def solution(n, arr1, arr2):\n",
    "    answer = []\n",
    "    for i,j in zip(arr1,arr2):\n",
    "        a12 = bin(i|j)[2:]\n",
    "        print(a12)\n",
    "        a12=a12.rjust(n,'0').replace('1','#').replace('0',' ')\n",
    "        answer.append(a12)\n",
    "    return answer\n",
    "\n",
    "n = 5\n",
    "arr1 = [9, 20, 28, 18, 11]\n",
    "arr2 = [30, 1, 21, 17, 28]\n",
    "solution(n, arr1, arr2)"
   ]
  },
  {
   "cell_type": "markdown",
   "id": "medieval-cricket",
   "metadata": {},
   "source": [
    "## 다트 게임"
   ]
  },
  {
   "cell_type": "markdown",
   "id": "convinced-ballot",
   "metadata": {},
   "source": [
    "### 최초 풀이\n",
    "- 연속된 문자열이 모두 정수인 경우 점수 10으로 인식\n",
    "- *연산의 경우, 그 앞의 모든 경우에 대해 2배를 적용하되, 마지막 기회의 보너스로 존재하면 맨 첫 기회를 뺀 나머지만 2배를 함"
   ]
  },
  {
   "cell_type": "code",
   "execution_count": 3,
   "id": "labeled-bristol",
   "metadata": {},
   "outputs": [
    {
     "data": {
      "text/plain": [
       "66"
      ]
     },
     "execution_count": 3,
     "metadata": {},
     "output_type": "execute_result"
    }
   ],
   "source": [
    "def solution(dartResult):\n",
    "    result = []\n",
    "    result2 = int(dartResult[0])\n",
    "    \n",
    "    cal = {'S':1, 'D':2, 'T':3}\n",
    "\n",
    "    for i in range(1,len(dartResult)):\n",
    "        if dartResult[i] in [str(k) for k in range(10)]:\n",
    "            if dartResult[i-1] == '1':\n",
    "                result2 = 10\n",
    "            else: \n",
    "                result2 = int(dartResult[i])\n",
    "\n",
    "        if dartResult[i] in ['S', 'D', 'T']:\n",
    "            result2 **= cal[dartResult[i]]\n",
    "            result.append(result2)\n",
    "\n",
    "        if dartResult[i] == '*':\n",
    "            if i == len(dartResult)-1:\n",
    "                return sum(result) * 2 - result[0]\n",
    "            else: \n",
    "                result = [int(n) * 2 for n in result]\n",
    "\n",
    "        if dartResult[i] == '#':\n",
    "            result2 *= (-1)\n",
    "            result[-1] = result2\n",
    "\n",
    "    return sum(result)\n",
    "\n",
    "dartResult = '1D*2S*3T*'\n",
    "solution(dartResult)"
   ]
  },
  {
   "cell_type": "markdown",
   "id": "sublime-nickel",
   "metadata": {},
   "source": [
    "### 다른 사람의 풀이\n",
    "- 두자리수인 10에 대해 k라는 문자로 대체함으로써 처리\n",
    "- answer의 index와 point의 index를 따로 처리"
   ]
  },
  {
   "cell_type": "code",
   "execution_count": 4,
   "id": "equivalent-donna",
   "metadata": {},
   "outputs": [
    {
     "data": {
      "text/plain": [
       "66"
      ]
     },
     "execution_count": 4,
     "metadata": {},
     "output_type": "execute_result"
    }
   ],
   "source": [
    "def solution(dartResult):\n",
    "    point = []\n",
    "    answer = []\n",
    "    dartResult = dartResult.replace('10','k')\n",
    "    point = ['10' if i == 'k' else i for i in dartResult]\n",
    "\n",
    "    i = -1\n",
    "    sdt = ['S', 'D', 'T']\n",
    "    for j in point:\n",
    "        if j in sdt :\n",
    "            answer[i] = answer[i] ** (sdt.index(j)+1)\n",
    "        elif j == '*':\n",
    "            answer[i] = answer[i] * 2\n",
    "            if i != 0 :\n",
    "                answer[i - 1] = answer[i - 1] * 2\n",
    "        elif j == '#':\n",
    "            answer[i] = answer[i] * (-1)\n",
    "        else:\n",
    "            answer.append(int(j))\n",
    "            i += 1\n",
    "    return sum(answer)\n",
    "\n",
    "dartResult = '1D*2S*3T*'\n",
    "solution(dartResult)"
   ]
  },
  {
   "cell_type": "markdown",
   "id": "changed-lambda",
   "metadata": {},
   "source": [
    "- 정규방정식 이용\n",
    "- compile과 findall을 활용하여 각 기회의 연산을 분리 ex. dart = [('1', 'D', * ), ('2', 'S', * ), ('3', 'T', * )]\n",
    "- i번째 기회의 연산 수행하여 i번째 dart 리스트 업데이트 + * 연산의 경우 i-1 연산의 결과도 동시에 업데이트 "
   ]
  },
  {
   "cell_type": "code",
   "execution_count": 5,
   "id": "forward-methodology",
   "metadata": {},
   "outputs": [
    {
     "data": {
      "text/plain": [
       "66"
      ]
     },
     "execution_count": 5,
     "metadata": {},
     "output_type": "execute_result"
    }
   ],
   "source": [
    "import re\n",
    "\n",
    "def solution(dartResult):\n",
    "    bonus = {'S' : 1, 'D' : 2, 'T' : 3}\n",
    "    option = {'' : 1, '*' : 2, '#' : -1}\n",
    "    p = re.compile('(\\d+)([SDT])([*#]?)')\n",
    "    dart = p.findall(dartResult)\n",
    "    \n",
    "    for i in range(len(dart)):\n",
    "        if dart[i][2] == '*' and i > 0:\n",
    "            dart[i-1] *= 2\n",
    "        dart[i] = int(dart[i][0]) ** bonus[dart[i][1]] * option[dart[i][2]]\n",
    "\n",
    "    answer = sum(dart)\n",
    "    return answer\n",
    "\n",
    "dartResult = '1D*2S*3T*'\n",
    "solution(dartResult)"
   ]
  }
 ],
 "metadata": {
  "kernelspec": {
   "display_name": "Python 3",
   "language": "python",
   "name": "python3"
  },
  "language_info": {
   "codemirror_mode": {
    "name": "ipython",
    "version": 3
   },
   "file_extension": ".py",
   "mimetype": "text/x-python",
   "name": "python",
   "nbconvert_exporter": "python",
   "pygments_lexer": "ipython3",
   "version": "3.7.9"
  }
 },
 "nbformat": 4,
 "nbformat_minor": 5
}

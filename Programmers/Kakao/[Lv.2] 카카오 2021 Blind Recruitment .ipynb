{
 "cells": [
  {
   "cell_type": "markdown",
   "id": "religious-indicator",
   "metadata": {},
   "source": [
    "## 메뉴 리뉴얼"
   ]
  },
  {
   "cell_type": "markdown",
   "id": "european-insulation",
   "metadata": {},
   "source": [
    "### 최초 풀이\n",
    "- 구현 실패\n",
    "- len에 따라 order를 sort해서 for문을 이용하여 앞 문자열의 조합들을 포함하는 문자열에 대해 개수를 세어보려고 했으나, 마지막 order에 대한 처리를 못하였음"
   ]
  },
  {
   "cell_type": "markdown",
   "id": "undefined-translation",
   "metadata": {},
   "source": [
    "### 다른 사람의 풀이\n",
    "- combinations를 사용하여 해당 문자열을 사용해 만들 수 있는 모든 조합을 생성하여 리스트에 저장\n",
    "- Counter를 이용하여 리스트에 있는 값들에 대해 (값, 개수)의 리스트를 생성\n",
    "- 코스의 개수에 대해 큰 for 문을 돌면서 주문개수가 가장 많은 값에 대한 order를 answer에 추가"
   ]
  },
  {
   "cell_type": "code",
   "execution_count": 1,
   "id": "modular-liverpool",
   "metadata": {},
   "outputs": [
    {
     "data": {
      "text/plain": [
       "['ACD', 'AD', 'ADE', 'CD', 'XYZ']"
      ]
     },
     "execution_count": 1,
     "metadata": {},
     "output_type": "execute_result"
    }
   ],
   "source": [
    "from itertools import combinations\n",
    "from collections import Counter\n",
    "def solution(orders, course):\n",
    "    answer = []\n",
    "    for k in course:\n",
    "        candidates = []\n",
    "        for menu_li in orders:\n",
    "            for li in combinations(menu_li, k):\n",
    "                res = ''.join(sorted(li))\n",
    "                candidates.append(res)\n",
    "        sorted_candidates = Counter(candidates).most_common()\n",
    "        answer += [menu for menu, cnt in sorted_candidates if cnt > 1 and cnt == sorted_candidates[0][1]]\n",
    "    return sorted(answer)\n",
    "\n",
    "\n",
    "orders = [\"ABCDE\", \"AB\", \"CD\", \"ADE\", \"XYZ\", \"XYZ\", \"ACD\"]\n",
    "course = [2,3,5]\n",
    "solution(orders, course)"
   ]
  },
  {
   "cell_type": "markdown",
   "id": "postal-lebanon",
   "metadata": {},
   "source": [
    "## 순위 검색"
   ]
  },
  {
   "cell_type": "markdown",
   "id": "technological-significance",
   "metadata": {},
   "source": [
    "### 최초 풀이\n",
    "- 모든 query에 대해 이를 만족시키는 info가 있는지 완전탐색\n",
    "- 완전탐색으로 효율성 감소"
   ]
  },
  {
   "cell_type": "code",
   "execution_count": 2,
   "id": "injured-steam",
   "metadata": {},
   "outputs": [
    {
     "data": {
      "text/plain": [
       "[1, 1, 1, 1, 2, 4]"
      ]
     },
     "execution_count": 2,
     "metadata": {},
     "output_type": "execute_result"
    }
   ],
   "source": [
    "def solution(info, query):\n",
    "    answer = []\n",
    "    for q in query:\n",
    "        q = q.replace('and ', '').split()\n",
    "        count = 0\n",
    "        for i in info:\n",
    "            i = i.split()\n",
    "            result = True\n",
    "            if int(i[4]) < int(q[4]):\n",
    "                result = False\n",
    "            else:\n",
    "                for j in range(4):\n",
    "                    if q[j] == '-':\n",
    "                        continue\n",
    "                    elif q[j] != i[j]:\n",
    "                        result = False\n",
    "                        break\n",
    "\n",
    "            if result == True:\n",
    "                count += 1\n",
    "        \n",
    "        answer.append(count)       \n",
    "            \n",
    "    return answer\n",
    "\n",
    "\n",
    "info = [\"java backend junior pizza 150\",\n",
    "         \"python frontend senior chicken 210\",\n",
    "         \"python frontend senior chicken 150\",\n",
    "         \"cpp backend senior pizza 260\",\n",
    "         \"java backend junior chicken 80\",\n",
    "         \"python backend senior chicken 50\"]\n",
    "query = [\"java and backend and junior and pizza 100\",\n",
    "         \"python and frontend and senior and chicken 200\",\n",
    "         \"cpp and - and senior and pizza 250\",\n",
    "         \"- and backend and senior and - 150\",\n",
    "         \"- and - and - and chicken 100\",\n",
    "         \"- and - and - and - 150\"]\n",
    "solution(info, query)"
   ]
  },
  {
   "cell_type": "markdown",
   "id": "centered-jonathan",
   "metadata": {},
   "source": [
    "### 다른 사람의 풀이\n",
    "- info로 만들 수 있는 모든 조합이 들어간 data를 {(조합):[점수]}로 구성 ('-' 포함)\n",
    "- query의 각 경우가 있는 조합들의 모든 점수들을 pool로 불러옴\n",
    "- query의 점수와 binary search(이분 탐색)을 이용하여 비교"
   ]
  },
  {
   "cell_type": "code",
   "execution_count": 3,
   "id": "characteristic-transport",
   "metadata": {},
   "outputs": [
    {
     "data": {
      "text/plain": [
       "[1, 1, 1, 1, 2, 4]"
      ]
     },
     "execution_count": 3,
     "metadata": {},
     "output_type": "execute_result"
    }
   ],
   "source": [
    "def solution(info, query):\n",
    "    data = dict()\n",
    "    for a in ['cpp', 'java', 'python', '-']:\n",
    "        for b in ['backend', 'frontend', '-']:\n",
    "            for c in ['junior', 'senior', '-']:\n",
    "                for d in ['chicken', 'pizza', '-']:\n",
    "                    data.setdefault((a, b, c, d), list())\n",
    "    for i in info:\n",
    "        i = i.split()\n",
    "        for a in [i[0], '-']:\n",
    "            for b in [i[1], '-']:\n",
    "                for c in [i[2], '-']:\n",
    "                    for d in [i[3], '-']:\n",
    "                        data[(a, b, c, d)].append(int(i[4]))\n",
    "\n",
    "    for k in data:\n",
    "        data[k].sort()\n",
    "\n",
    "    #print(data)\n",
    "\n",
    "    answer = list()\n",
    "    for q in query:\n",
    "        q = q.split()\n",
    "        \n",
    "        pool = data[(q[0], q[2], q[4], q[6])]\n",
    "        #print(pool)\n",
    "        find = int(q[7])\n",
    "        l = 0\n",
    "        r = len(pool)\n",
    "        mid = 0\n",
    "        while l < r:\n",
    "            mid = (r+l)//2\n",
    "            if pool[mid] >= find:\n",
    "                r = mid\n",
    "            else:\n",
    "                l = mid+1\n",
    "            # print(l, r, mid, answer)\n",
    "        # answer.append((pool, find, mid))\n",
    "        answer.append(len(pool)-l)\n",
    "\n",
    "    return answer\n",
    "\n",
    "info = [\"java backend junior pizza 150\",\n",
    "         \"python frontend senior chicken 210\",\n",
    "         \"python frontend senior chicken 150\",\n",
    "         \"cpp backend senior pizza 260\",\n",
    "         \"java backend junior chicken 80\",\n",
    "         \"python backend senior chicken 50\"]\n",
    "query = [\"java and backend and junior and pizza 100\",\n",
    "         \"python and frontend and senior and chicken 200\",\n",
    "         \"cpp and - and senior and pizza 250\",\n",
    "         \"- and backend and senior and - 150\",\n",
    "         \"- and - and - and chicken 100\",\n",
    "         \"- and - and - and - 150\"]\n",
    "solution(info, query)"
   ]
  }
 ],
 "metadata": {
  "kernelspec": {
   "display_name": "Python 3",
   "language": "python",
   "name": "python3"
  },
  "language_info": {
   "codemirror_mode": {
    "name": "ipython",
    "version": 3
   },
   "file_extension": ".py",
   "mimetype": "text/x-python",
   "name": "python",
   "nbconvert_exporter": "python",
   "pygments_lexer": "ipython3",
   "version": "3.7.9"
  }
 },
 "nbformat": 4,
 "nbformat_minor": 5
}

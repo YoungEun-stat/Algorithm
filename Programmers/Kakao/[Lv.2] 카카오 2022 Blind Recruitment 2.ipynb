{
 "cells": [
  {
   "cell_type": "markdown",
   "id": "cloudy-extent",
   "metadata": {},
   "source": [
    "## k진수에서 소수 개수 구하기"
   ]
  },
  {
   "cell_type": "markdown",
   "id": "centered-border",
   "metadata": {},
   "source": [
    "### 최초 풀이\n",
    "- divmod 함수로 몫과 나머지를 구해 k진수 생성\n",
    "- 에라토스테네스의 체: n의 제곱근까지만 약수의 여부를 검증하면 소수인지 아닌지 판별 가능"
   ]
  },
  {
   "cell_type": "code",
   "execution_count": 1,
   "id": "differential-friendly",
   "metadata": {},
   "outputs": [
    {
     "data": {
      "text/plain": [
       "3"
      ]
     },
     "execution_count": 1,
     "metadata": {},
     "output_type": "execute_result"
    }
   ],
   "source": [
    "def wlstn(n, q):\n",
    "    result = ''\n",
    "\n",
    "    while n > 0:\n",
    "        div, rest = divmod(n, q)\n",
    "        n = div\n",
    "        result = str(rest) + result\n",
    "\n",
    "    return result\n",
    "    \n",
    "def prime_num(n):\n",
    "    if n == 1:\n",
    "        return False\n",
    "    for i in range(2, int(n**0.5) + 1):\n",
    "        if n % i == 0:\n",
    "            return False\n",
    "    return True\n",
    "\n",
    "def solution(n, k):\n",
    "    changed = wlstn(n, k)\n",
    "    num_list = []\n",
    "    for i in changed.split('0'):\n",
    "        if i == '':\n",
    "            continue\n",
    "        elif prime_num(int(i)):\n",
    "            num_list.append(i)\n",
    "    return len(num_list)\n",
    "\n",
    "n = 437674\n",
    "k = 3\n",
    "solution(n, k)"
   ]
  }
 ],
 "metadata": {
  "kernelspec": {
   "display_name": "Python 3",
   "language": "python",
   "name": "python3"
  },
  "language_info": {
   "codemirror_mode": {
    "name": "ipython",
    "version": 3
   },
   "file_extension": ".py",
   "mimetype": "text/x-python",
   "name": "python",
   "nbconvert_exporter": "python",
   "pygments_lexer": "ipython3",
   "version": "3.7.9"
  }
 },
 "nbformat": 4,
 "nbformat_minor": 5
}

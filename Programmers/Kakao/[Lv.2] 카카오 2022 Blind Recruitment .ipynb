{
 "cells": [
  {
   "cell_type": "markdown",
   "id": "proper-lighter",
   "metadata": {},
   "source": [
    "## 양궁 대회"
   ]
  },
  {
   "cell_type": "markdown",
   "id": "changed-selection",
   "metadata": {},
   "source": [
    "### 최초 풀이\n",
    "- combinations_with_replacement로 복원 추출 조합 생성\n",
    "- 완전 탐색"
   ]
  },
  {
   "cell_type": "code",
   "execution_count": 80,
   "id": "acting-merchant",
   "metadata": {},
   "outputs": [
    {
     "data": {
      "text/plain": [
       "[1, 1, 2, 0, 1, 2, 2, 0, 0, 0, 0]"
      ]
     },
     "execution_count": 80,
     "metadata": {},
     "output_type": "execute_result"
    }
   ],
   "source": [
    "from itertools import combinations_with_replacement\n",
    "\n",
    "def solution(n, info):\n",
    "    max_score = 0\n",
    "    same_comb = []\n",
    "\n",
    "    for comb in list(combinations_with_replacement(range(11), n)):\n",
    "        poss = [0]*11\n",
    "        for i in comb:\n",
    "            poss[10-i] += 1\n",
    "\n",
    "        ryan = 0\n",
    "        apeach = 0\n",
    "        \n",
    "        # 비교\n",
    "        for idx, (p, i) in enumerate(zip(poss, info)):\n",
    "            if p > i:\n",
    "                ryan += (10-idx)\n",
    "            elif p == i == 0:\n",
    "                continue\n",
    "            elif p <= i:\n",
    "                apeach += (10-idx)\n",
    "                \n",
    "        # 최대 점수 차이 및 조합 업데이트\n",
    "        if (ryan - apeach) > max_score:\n",
    "            max_score = ryan - apeach\n",
    "            same_comb = [poss]\n",
    "        elif (ryan - apeach) == max_score:\n",
    "            same_comb.append(poss)\n",
    "    \n",
    "    # 이길 수 없는 경우\n",
    "    if max_score == 0:\n",
    "        return [-1]\n",
    "    \n",
    "    # 최대 점수 차이인 조합이 여러개인 경우\n",
    "    if len(same_comb) > 1:\n",
    "        for i in range(len(same_comb)):\n",
    "            same_comb[i] = ''.join([str(j) for j in same_comb[i]][::-1])\n",
    "        \n",
    "        # 정수로 만들어서 비교한 후 문자열로 변환\n",
    "        same_comb = str(max(map(int,same_comb))).rjust(11, '0')[::-1]\n",
    "\n",
    "    else:\n",
    "        same_comb = same_comb[0]\n",
    "\n",
    "    answer = []\n",
    "    for i in same_comb:\n",
    "        answer.append(int(i))\n",
    "\n",
    "    return answer\n",
    "\n",
    "\n",
    "n = 9\n",
    "info = [0,0,1,2,0,1,1,1,1,1,1]\n",
    "solution(n, info)"
   ]
  },
  {
   "cell_type": "markdown",
   "id": "painted-nylon",
   "metadata": {},
   "source": [
    "### 다른 사람의 풀이\n",
    "- dfs, 재귀함수 사용"
   ]
  },
  {
   "cell_type": "code",
   "execution_count": 79,
   "id": "located-charleston",
   "metadata": {},
   "outputs": [],
   "source": [
    "def score(ryan):\n",
    "    s = 0\n",
    "    for i in range(11):\n",
    "        if ryan[i] == info[i] == 0:\n",
    "            continue\n",
    "        if ryan[i] > info[i]:\n",
    "            s += 10 - i\n",
    "        else:\n",
    "            s -= 10 - i\n",
    "    return s\n",
    "\n",
    "def dfs(idx, left, ryan):\n",
    "        if idx == -1 and left:\n",
    "            return\n",
    "        if left == 0:\n",
    "            s = score(ryan)\n",
    "            if result < s:\n",
    "                answer = ryan[:]\n",
    "                result = s\n",
    "            return\n",
    "        for i in range(left, -1, -1):\n",
    "            ryan[idx] = i\n",
    "            dfs(idx-1, left-i, ryan)\n",
    "            ryan[idx] = 0\n",
    "\n",
    "def solution(n, info):\n",
    "    dfs(idx, left, ryan)\n",
    "    answer = [0 for _ in range(11)]\n",
    "    result = 0\n",
    "    dfs(10, n, [0 for _ in range(11)])\n",
    "    return answer if result != 0 else [-1]\n",
    "\n",
    "\n",
    "n = 9\n",
    "info = [0,0,1,2,0,1,1,1,1,1,1]\n",
    "solution(n, info)"
   ]
  },
  {
   "cell_type": "markdown",
   "id": "severe-inside",
   "metadata": {},
   "source": [
    "## 주차 요금 계산"
   ]
  },
  {
   "cell_type": "markdown",
   "id": "suspected-jamaica",
   "metadata": {},
   "source": [
    "### 최초 풀이\n",
    "- IN/OUT 판별하여 시간을 각각 -/+해주어 총 주차 시간 계산\n",
    "- 동일한 시간에 입/출차가 불가능하므로, 총 주차 시간이 0(00:00시 입차)이거나 출차 시간이 없어 음수인 경우엔 23:59 OUT으로 계산\n",
    "- //를 활용하여 추가 요금 계산"
   ]
  },
  {
   "cell_type": "code",
   "execution_count": 176,
   "id": "mediterranean-audit",
   "metadata": {},
   "outputs": [],
   "source": [
    "def solution(fees, records):\n",
    "\n",
    "    time = {}\n",
    "\n",
    "    for rec in records:\n",
    "        t, car_num, status = rec.split(' ')\n",
    "        if car_num not in time.keys():\n",
    "            time[car_num] = 0\n",
    "        if status == 'IN':\n",
    "            time[car_num] -= (int(t[:2])*60+int(t[3:]))\n",
    "        elif status == 'OUT':\n",
    "            time[car_num] += int(t[:2])*60+int(t[3:])\n",
    "\n",
    "\n",
    "    for i, v in time.items():\n",
    "        if v <= 0:\n",
    "            time[i] += 23*60+59\n",
    "\n",
    "    time = dict(sorted(time.items()))\n",
    "\n",
    "    fee = [0]*len(time)\n",
    "    for i, num in enumerate(time):\n",
    "        fee[i] += fees[1]\n",
    "        if time[num] > fees[0]:\n",
    "            if (time[num] - fees[0]) % fees[2] != 0:\n",
    "                fee[i] += (((time[num] - fees[0]) // fees[2]) + 1) * fees[3]\n",
    "            else:\n",
    "                fee[i] += (((time[num] - fees[0]) // fees[2])) * fees[3]\n",
    "    return fee\n",
    "\n",
    "\n",
    "fees = [180, 5000, 10, 600]\n",
    "records = [\"05:34 5961 IN\", \"06:00 0000 IN\", \"06:34 0000 OUT\", \"07:59 5961 OUT\",\n",
    "           \"07:59 0148 IN\", \"18:59 0000 IN\", \"19:09 0148 OUT\", \"22:59 5961 IN\", \n",
    "           \"23:00 5961 OUT\"]\n",
    "solution(fees, records)"
   ]
  }
 ],
 "metadata": {
  "kernelspec": {
   "display_name": "Python 3",
   "language": "python",
   "name": "python3"
  },
  "language_info": {
   "codemirror_mode": {
    "name": "ipython",
    "version": 3
   },
   "file_extension": ".py",
   "mimetype": "text/x-python",
   "name": "python",
   "nbconvert_exporter": "python",
   "pygments_lexer": "ipython3",
   "version": "3.7.9"
  }
 },
 "nbformat": 4,
 "nbformat_minor": 5
}

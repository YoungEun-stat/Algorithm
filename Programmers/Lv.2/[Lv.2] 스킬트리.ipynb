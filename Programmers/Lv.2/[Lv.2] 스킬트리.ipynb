{
 "cells": [
  {
   "cell_type": "markdown",
   "id": "industrial-press",
   "metadata": {},
   "source": [
    "## 스킬트리\n",
    "### 최초풀이\n",
    "- 스킬 순서를 인덱스를 활용하여 지정\n",
    "- sort를 사용하여 스킬 순서와 맞으면 return"
   ]
  },
  {
   "cell_type": "code",
   "execution_count": 1,
   "id": "difficult-supervisor",
   "metadata": {},
   "outputs": [],
   "source": [
    "def solution(skill, skill_trees):\n",
    "    cnt = 0\n",
    "    for i in skill_trees:\n",
    "        answer = []\n",
    "        for j in i:\n",
    "            if j in skill:\n",
    "                answer.append(skill.index(j))\n",
    "        if len(answer) == 0:\n",
    "            cnt +=1\n",
    "        elif answer == [i for i in range(len(answer))]:\n",
    "            cnt +=1\n",
    "    return cnt"
   ]
  },
  {
   "cell_type": "code",
   "execution_count": 2,
   "id": "talented-daniel",
   "metadata": {},
   "outputs": [
    {
     "data": {
      "text/plain": [
       "2"
      ]
     },
     "execution_count": 2,
     "metadata": {},
     "output_type": "execute_result"
    }
   ],
   "source": [
    "skill = \"CBD\"\n",
    "skill_trees = [\"BACDE\", \"CBADF\", \"AECB\", \"BDA\"]\n",
    "solution(skill, skill_trees)"
   ]
  },
  {
   "cell_type": "markdown",
   "id": "entire-causing",
   "metadata": {},
   "source": [
    "### 다른 사람의 풀이\n",
    "- for else문: for문이 중간에 break 등으로 끊기지 않고 끝까지 수행 되었을 때 else문이 수행됨\n",
    "\n",
    "- pop을 활용하여 사용한 스킬 하나씩 스킬 리스트에 있는 것인지 확인, 없으면 break, 있으면 +1"
   ]
  },
  {
   "cell_type": "code",
   "execution_count": 3,
   "id": "nonprofit-utilization",
   "metadata": {},
   "outputs": [],
   "source": [
    "def solution(skill, skill_trees):\n",
    "    answer = 0\n",
    "\n",
    "    for skills in skill_trees:\n",
    "        skill_list = list(skill)\n",
    "\n",
    "        for s in skills:\n",
    "            if s in skill:\n",
    "                if s != skill_list.pop(0):\n",
    "                    break\n",
    "        else:\n",
    "            answer += 1\n",
    "\n",
    "    return answer"
   ]
  },
  {
   "cell_type": "code",
   "execution_count": 4,
   "id": "documented-function",
   "metadata": {},
   "outputs": [
    {
     "data": {
      "text/plain": [
       "2"
      ]
     },
     "execution_count": 4,
     "metadata": {},
     "output_type": "execute_result"
    }
   ],
   "source": [
    "skill = \"CBD\"\n",
    "skill_trees = [\"BACDE\", \"CBADF\", \"AECB\", \"BDA\"]\n",
    "solution(skill, skill_trees)"
   ]
  }
 ],
 "metadata": {
  "kernelspec": {
   "display_name": "Python 3",
   "language": "python",
   "name": "python3"
  },
  "language_info": {
   "codemirror_mode": {
    "name": "ipython",
    "version": 3
   },
   "file_extension": ".py",
   "mimetype": "text/x-python",
   "name": "python",
   "nbconvert_exporter": "python",
   "pygments_lexer": "ipython3",
   "version": "3.7.9"
  }
 },
 "nbformat": 4,
 "nbformat_minor": 5
}

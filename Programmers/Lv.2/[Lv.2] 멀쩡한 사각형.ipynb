{
 "cells": [
  {
   "cell_type": "markdown",
   "id": "informative-prediction",
   "metadata": {},
   "source": [
    "## 멀쩡한 사각형\n",
    "### 최초 풀이\n",
    "- 양 변의 길이가 배수/약수 관계, 또는 공약수를 가지는지에 따라 계산 방법을 나누어 식을 세움"
   ]
  },
  {
   "cell_type": "code",
   "execution_count": 1,
   "id": "spare-coordinate",
   "metadata": {},
   "outputs": [],
   "source": [
    "def devide(w, h):\n",
    "    if w > h:\n",
    "        num = h\n",
    "    else: num = w\n",
    "    for i in range(num, 1, -1):\n",
    "        if w % i == 0 and h % i==0:\n",
    "            return i\n",
    "    return False\n",
    "\n",
    "\n",
    "def solution(w, h):\n",
    "    \n",
    "    if devide(w,h) == False:\n",
    "        if w > h:\n",
    "            result = w + (h-1)\n",
    "        else:\n",
    "            result = h + (w-1)\n",
    "    else:\n",
    "        w2 = w//devide(w,h)\n",
    "        h2 = h//devide(w,h)\n",
    "\n",
    "        if w > h:\n",
    "            result = w2 + (h2-1)\n",
    "            result *= devide(w,h)\n",
    "        elif w < h:\n",
    "            result = h2 + (w2-1)\n",
    "            result *= devide(w,h)\n",
    "        else:\n",
    "            result = w\n",
    "\n",
    "    return w * h - result  \n"
   ]
  },
  {
   "cell_type": "code",
   "execution_count": 2,
   "id": "sacred-hepatitis",
   "metadata": {},
   "outputs": [
    {
     "name": "stdout",
     "output_type": "stream",
     "text": [
      "40\n",
      "24\n"
     ]
    }
   ],
   "source": [
    "print(solution(5, 10))\n",
    "print(solution(4, 9))"
   ]
  },
  {
   "cell_type": "markdown",
   "id": "loved-killer",
   "metadata": {},
   "source": [
    "### 다른 사람의 풀이\n",
    "- gcd: 최대 공약수 = 교점(반복) 수"
   ]
  },
  {
   "cell_type": "code",
   "execution_count": 3,
   "id": "listed-idaho",
   "metadata": {},
   "outputs": [],
   "source": [
    "def gcd(a,b): return b if (a==0) else gcd(b%a,a)    \n",
    "def solution(w,h): return w*h-w-h+gcd(w,h)"
   ]
  },
  {
   "cell_type": "code",
   "execution_count": 4,
   "id": "divine-elizabeth",
   "metadata": {},
   "outputs": [
    {
     "data": {
      "text/plain": [
       "40"
      ]
     },
     "execution_count": 4,
     "metadata": {},
     "output_type": "execute_result"
    }
   ],
   "source": [
    "solution(5,10)"
   ]
  }
 ],
 "metadata": {
  "kernelspec": {
   "display_name": "Python 3",
   "language": "python",
   "name": "python3"
  },
  "language_info": {
   "codemirror_mode": {
    "name": "ipython",
    "version": 3
   },
   "file_extension": ".py",
   "mimetype": "text/x-python",
   "name": "python",
   "nbconvert_exporter": "python",
   "pygments_lexer": "ipython3",
   "version": "3.7.9"
  }
 },
 "nbformat": 4,
 "nbformat_minor": 5
}

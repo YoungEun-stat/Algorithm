{
 "cells": [
  {
   "cell_type": "markdown",
   "id": "dynamic-procedure",
   "metadata": {},
   "source": [
    "## 짝지어 제거하기\n",
    "### 최초 풀이\n",
    "- 빈 stack을 생성하여 맨 뒷 원소와 비교"
   ]
  },
  {
   "cell_type": "code",
   "execution_count": 1,
   "id": "extraordinary-gender",
   "metadata": {},
   "outputs": [
    {
     "data": {
      "text/plain": [
       "1"
      ]
     },
     "execution_count": 1,
     "metadata": {},
     "output_type": "execute_result"
    }
   ],
   "source": [
    "def solution(s):\n",
    "    answer = -1\n",
    "    stk = []\n",
    "    for i in s:\n",
    "        if len(stk) == 0:\n",
    "            stk.append(i)\n",
    "            continue\n",
    "        if i != stk[-1]:\n",
    "            stk.append(i)\n",
    "        else:\n",
    "            stk.pop()\n",
    "\n",
    "    if len(stk) == 0:\n",
    "        return 1\n",
    "    else:\n",
    "        return 0\n",
    "\n",
    "s = 'baabaa'\n",
    "solution(s)"
   ]
  }
 ],
 "metadata": {
  "kernelspec": {
   "display_name": "Python 3",
   "language": "python",
   "name": "python3"
  },
  "language_info": {
   "codemirror_mode": {
    "name": "ipython",
    "version": 3
   },
   "file_extension": ".py",
   "mimetype": "text/x-python",
   "name": "python",
   "nbconvert_exporter": "python",
   "pygments_lexer": "ipython3",
   "version": "3.7.9"
  }
 },
 "nbformat": 4,
 "nbformat_minor": 5
}

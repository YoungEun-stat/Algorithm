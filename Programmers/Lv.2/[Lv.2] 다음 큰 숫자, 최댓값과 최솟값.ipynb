{
 "cells": [
  {
   "cell_type": "markdown",
   "id": "sound-entertainment",
   "metadata": {},
   "source": [
    "## 다음 큰 숫자\n",
    "### 최초 풀이"
   ]
  },
  {
   "cell_type": "code",
   "execution_count": 1,
   "id": "robust-earthquake",
   "metadata": {},
   "outputs": [],
   "source": [
    "def solution(n):\n",
    "    count_one = bin(n).count('1')\n",
    "    i = n+1\n",
    "    while i > n:\n",
    "        if count_one == bin(i).count('1'):\n",
    "            return i\n",
    "        else:\n",
    "            i += 1"
   ]
  },
  {
   "cell_type": "code",
   "execution_count": 2,
   "id": "constitutional-artwork",
   "metadata": {},
   "outputs": [
    {
     "data": {
      "text/plain": [
       "23"
      ]
     },
     "execution_count": 2,
     "metadata": {},
     "output_type": "execute_result"
    }
   ],
   "source": [
    "solution(15)"
   ]
  },
  {
   "cell_type": "markdown",
   "id": "continent-operations",
   "metadata": {},
   "source": [
    "## 최댓값과 최솟값\n",
    "### 최초 풀이"
   ]
  },
  {
   "cell_type": "code",
   "execution_count": 3,
   "id": "aggressive-bumper",
   "metadata": {},
   "outputs": [],
   "source": [
    "def solution(s):\n",
    "    s = list(map(str, sorted(map(int, [s.split(' ')][0]))))\n",
    "    return ' '.join([s[0], s[-1]])"
   ]
  },
  {
   "cell_type": "code",
   "execution_count": 4,
   "id": "catholic-delaware",
   "metadata": {},
   "outputs": [
    {
     "data": {
      "text/plain": [
       "'-4 -1'"
      ]
     },
     "execution_count": 4,
     "metadata": {},
     "output_type": "execute_result"
    }
   ],
   "source": [
    "solution(\"-1 -2 -3 -4\")"
   ]
  }
 ],
 "metadata": {
  "kernelspec": {
   "display_name": "Python 3",
   "language": "python",
   "name": "python3"
  },
  "language_info": {
   "codemirror_mode": {
    "name": "ipython",
    "version": 3
   },
   "file_extension": ".py",
   "mimetype": "text/x-python",
   "name": "python",
   "nbconvert_exporter": "python",
   "pygments_lexer": "ipython3",
   "version": "3.7.9"
  }
 },
 "nbformat": 4,
 "nbformat_minor": 5
}

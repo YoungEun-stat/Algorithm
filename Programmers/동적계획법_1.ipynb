{
 "cells": [
  {
   "cell_type": "markdown",
   "id": "optical-excuse",
   "metadata": {},
   "source": [
    "## 정수 삼각형\n",
    "### 최초 풀이"
   ]
  },
  {
   "cell_type": "code",
   "execution_count": 1,
   "id": "natural-jefferson",
   "metadata": {},
   "outputs": [],
   "source": [
    "def solution(triangle):\n",
    "    triangle.reverse()\n",
    "    for i in range(1,len(triangle)):\n",
    "        for j in range(len(triangle[i])):\n",
    "            triangle[i][j] = max(triangle[i-1][j]+triangle[i][j], triangle[i-1][j+1]+triangle[i][j])\n",
    "    return triangle[len(triangle)-1][0]"
   ]
  },
  {
   "cell_type": "code",
   "execution_count": 2,
   "id": "multiple-inspection",
   "metadata": {},
   "outputs": [
    {
     "data": {
      "text/plain": [
       "30"
      ]
     },
     "execution_count": 2,
     "metadata": {},
     "output_type": "execute_result"
    }
   ],
   "source": [
    "triangle = [[7], [3, 8], [8, 1, 0], [2, 7, 4, 4], [4, 5, 2, 6, 5]]\n",
    "solution(triangle)"
   ]
  }
 ],
 "metadata": {
  "kernelspec": {
   "display_name": "Python 3",
   "language": "python",
   "name": "python3"
  },
  "language_info": {
   "codemirror_mode": {
    "name": "ipython",
    "version": 3
   },
   "file_extension": ".py",
   "mimetype": "text/x-python",
   "name": "python",
   "nbconvert_exporter": "python",
   "pygments_lexer": "ipython3",
   "version": "3.7.9"
  }
 },
 "nbformat": 4,
 "nbformat_minor": 5
}

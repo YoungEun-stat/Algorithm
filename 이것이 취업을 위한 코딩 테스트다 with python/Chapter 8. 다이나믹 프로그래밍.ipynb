{
 "cells": [
  {
   "cell_type": "markdown",
   "id": "changing-kinase",
   "metadata": {},
   "source": [
    "## 피보나치 수열"
   ]
  },
  {
   "cell_type": "markdown",
   "id": "reported-apartment",
   "metadata": {},
   "source": [
    "#### 점화식, 재귀함수"
   ]
  },
  {
   "cell_type": "code",
   "execution_count": 1,
   "id": "rocky-sheet",
   "metadata": {},
   "outputs": [
    {
     "name": "stdout",
     "output_type": "stream",
     "text": [
      "3\n"
     ]
    }
   ],
   "source": [
    "def fibo(x):\n",
    "    if x == 1 or x == 2:\n",
    "        return 1\n",
    "    return fibo(x - 1) + fibo(x - 2)    # 재귀함수 사용\n",
    "\n",
    "print(fibo(4))"
   ]
  },
  {
   "cell_type": "markdown",
   "id": "written-duplicate",
   "metadata": {},
   "source": [
    "#### 다이나믹 프로그래밍, 재귀함수 (Top-down 방식)"
   ]
  },
  {
   "cell_type": "code",
   "execution_count": 2,
   "id": "registered-italic",
   "metadata": {},
   "outputs": [
    {
     "name": "stdout",
     "output_type": "stream",
     "text": [
      "218922995834555169026\n"
     ]
    }
   ],
   "source": [
    "d = [0] * 100                               # 리스트 초기화\n",
    "\n",
    "def fibo(x):\n",
    "    if x == 1 or x == 2:                   # 종료 조건(1 혹은 2일 때 1을 반환)\n",
    "        return 1\n",
    "    \n",
    "    if d[x] != 0:                          # 이미 계산한 적 있는 문제면 그대로 반환\n",
    "        return d[x]\n",
    "    \n",
    "    d[x] = fibo(x - 1) + fibo(x - 2)       # 아직 계산하지 않은 문제면 피보나치 결과 반환\n",
    "    return d[x]\n",
    "\n",
    "print(fibo(99))"
   ]
  },
  {
   "cell_type": "markdown",
   "id": "devoted-miller",
   "metadata": {},
   "source": [
    "#### 다이나믹 프로그래밍 수행 시 호출되는 함수"
   ]
  },
  {
   "cell_type": "code",
   "execution_count": 3,
   "id": "structural-offense",
   "metadata": {},
   "outputs": [
    {
     "name": "stdout",
     "output_type": "stream",
     "text": [
      "f(6) f(5) f(4) f(3) f(2) f(1) f(2) f(3) f(4) "
     ]
    },
    {
     "data": {
      "text/plain": [
       "8"
      ]
     },
     "execution_count": 3,
     "metadata": {},
     "output_type": "execute_result"
    }
   ],
   "source": [
    "d = [0] * 100\n",
    "\n",
    "def fibo(x):\n",
    "    print('f(' + str(x) + ')', end=' ')\n",
    "    \n",
    "    if x == 1 or x == 2:\n",
    "        return 1\n",
    "    \n",
    "    if d[x] != 0:\n",
    "        return d[x]\n",
    "    \n",
    "    d[x] = fibo(x - 1) + fibo(x - 2)\n",
    "    return d[x]\n",
    "\n",
    "fibo(6)"
   ]
  },
  {
   "cell_type": "markdown",
   "id": "classified-emphasis",
   "metadata": {},
   "source": [
    "#### 반복문(Bottom-up 방식)"
   ]
  },
  {
   "cell_type": "code",
   "execution_count": 4,
   "id": "working-valve",
   "metadata": {},
   "outputs": [
    {
     "name": "stdout",
     "output_type": "stream",
     "text": [
      "218922995834555169026\n"
     ]
    }
   ],
   "source": [
    "d = [0] * 100\n",
    "\n",
    "d[1] = 1\n",
    "d[2] = 1\n",
    "n = 99\n",
    "\n",
    "for i in range(3, n + 1):\n",
    "    d[i] = d[i - 1] + d[i - 2]\n",
    "\n",
    "print(d[n])"
   ]
  },
  {
   "cell_type": "markdown",
   "id": "seeing-china",
   "metadata": {},
   "source": [
    "## 1로 만들기\n",
    "- X가 5의 배수이면 5로 나누고, 3의 배수이면 3으로 나누고, 2의 배수이면 2로 나눈다. \n",
    "- 또한, X에서 1을 뺄 수 있다. \n",
    "\n",
    "위 연산을 적절히 사용하여 1을 만들 때, 연산을 사용하는 횟수의 최솟값 구하기"
   ]
  },
  {
   "cell_type": "code",
   "execution_count": 5,
   "id": "after-malawi",
   "metadata": {},
   "outputs": [
    {
     "name": "stdout",
     "output_type": "stream",
     "text": [
      "2022\n",
      "9\n"
     ]
    }
   ],
   "source": [
    "x = int(input())\n",
    "\n",
    "# d의 index가 수, value가 해당 수에서 1을 만들 때 필요한 연산 수\n",
    "d = [0] * 1000001\n",
    "\n",
    "for i in range(2, x + 1):\n",
    "\n",
    "    d[i] = d[i - 1] + 1                      # 빼기 1, 연산횟수 + 1\n",
    "    \n",
    "    if i % 2 == 0:                          # x가 2의 배수이면\n",
    "        d[i] = min(d[i], d[i // 2] + 1)     # 나누기 2, 연산횟수 + 1\n",
    "\n",
    "    if i % 3 == 0:                          # x가 3의 배수이면\n",
    "        d[i] = min(d[i], d[i // 3] + 1)     # 나누기 3, 연산횟수 + 1\n",
    "\n",
    "    if i % 5 == 0:                          # x가 5의 배수이면\n",
    "        d[i] = min(d[i], d[i // 5] + 1)     # 나누기 5, 연산횟수 + 1\n",
    "\n",
    "print(d[x])"
   ]
  },
  {
   "cell_type": "markdown",
   "id": "dramatic-thanks",
   "metadata": {},
   "source": [
    "## 개미 전사\n",
    "\n",
    "일직선인 식량창고 중에서 창고가 서로 인접하지 않으면서 최대한 많은 식량을 얻을 수 있는 경우의 식량 구하기"
   ]
  },
  {
   "cell_type": "code",
   "execution_count": 6,
   "id": "outdoor-cleaning",
   "metadata": {},
   "outputs": [
    {
     "name": "stdout",
     "output_type": "stream",
     "text": [
      "6\n",
      "2 5 10 9 3 7\n",
      "21\n"
     ]
    }
   ],
   "source": [
    "n = int(input())\n",
    "array = list(map(int, input().split()))\n",
    "\n",
    "d = [0] * 100\n",
    "\n",
    "d[0] = array[0]                                  # 첫 번째 창고\n",
    "d[1] = max(array[0], array[1])                   # 두 번째 창고\n",
    "\n",
    "for i in range(2, n):                           # 세 번째 창고부터 n번째 창고까지\n",
    "    d[i] = max(d[i - 1], d[i - 2] + array[i])   # i번째 창고 기준, 앞 창고 선택 or 앞앞 창고 + 현재 창고 선택\n",
    "\n",
    "print(d[n - 1])             "
   ]
  },
  {
   "cell_type": "markdown",
   "id": "attended-occurrence",
   "metadata": {},
   "source": [
    "## 바닥 공사\n",
    "세로가 2, 가로가 N인 바닥을 1x2, 2x1, 2x2 타일로 채울 때, 바닥을 채우는 모든 경우의 수를 구하기"
   ]
  },
  {
   "cell_type": "code",
   "execution_count": 7,
   "id": "other-franchise",
   "metadata": {},
   "outputs": [
    {
     "name": "stdout",
     "output_type": "stream",
     "text": [
      "10\n",
      "683\n"
     ]
    }
   ],
   "source": [
    "n = int(input())\n",
    "\n",
    "d = [0] * 1001\n",
    "\n",
    "d[1] = 1\n",
    "d[2] = 3\n",
    "\n",
    "for i in range(3, n + 1):\n",
    "    d[i] = (d[i - 1] + 2 * d[i - 2]) % 796796    # 앞 열까지 타일 까는 경우의 수(1x2 타일로 나머지 채우기)\n",
    "                                                  # + 앞앞 열까지 타일 까는 경우의 수(2x2 or 2x1 타일 두개로 나머지 채우기)\n",
    "                                                  # 796796으로 나누는 이유는 d[i]가 너무 커지는 것을 방지하기 위함\n",
    "\n",
    "print(d[n])"
   ]
  },
  {
   "cell_type": "markdown",
   "id": "fitted-perth",
   "metadata": {},
   "source": [
    "## 효율적인 화폐 구성\n",
    "\n",
    "N가지 종류로 화폐들의 개수를 최소한으로 사용하여 가치의 합이 M원이 되도록할 때, 화폐 개수 구하기\n",
    "\n",
    "(단, 불가능한 경우 -1 출력)"
   ]
  },
  {
   "cell_type": "code",
   "execution_count": 8,
   "id": "preceding-wallpaper",
   "metadata": {},
   "outputs": [
    {
     "name": "stdout",
     "output_type": "stream",
     "text": [
      "2 15\n",
      "2\n",
      "3\n",
      "5\n"
     ]
    }
   ],
   "source": [
    "n, m = map(int, input().split())\n",
    "array = []\n",
    "for i in range(n):\n",
    "    array.append(int(input()))\n",
    "\n",
    "d = [10001] * (m + 1)\n",
    "\n",
    "d[0] = 0\n",
    "for i in range(n):                                    # 화폐 종류에 대해\n",
    "    for j in range(array[i], m + 1):                  # 해당 화폐 금액(k) 이상의 모든 수에 대해\n",
    "        if d[j - array[i]] != 10001:                  # 금액 (j-k)를 만들 수 있는 방법이 존재하면\n",
    "            d[j] = min(d[j], d[j - array[i]] + 1)     # 해당 방법의 최소한의 화폐 개수 a(j-k)에 +1 (k라는 화폐 하나 추가)\n",
    "\n",
    "if d[m] == 10001:                                     # 최종적으로 M원을 만드는 방법이 없는 경우\n",
    "    print(-1)\n",
    "else:\n",
    "    print(d[m])"
   ]
  }
 ],
 "metadata": {
  "kernelspec": {
   "display_name": "Python 3",
   "language": "python",
   "name": "python3"
  },
  "language_info": {
   "codemirror_mode": {
    "name": "ipython",
    "version": 3
   },
   "file_extension": ".py",
   "mimetype": "text/x-python",
   "name": "python",
   "nbconvert_exporter": "python",
   "pygments_lexer": "ipython3",
   "version": "3.7.9"
  }
 },
 "nbformat": 4,
 "nbformat_minor": 5
}

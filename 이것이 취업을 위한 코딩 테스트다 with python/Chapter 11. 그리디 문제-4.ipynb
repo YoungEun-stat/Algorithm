{
 "cells": [
  {
   "cell_type": "markdown",
   "id": "palestinian-maria",
   "metadata": {},
   "source": [
    "### Q4. 만들 수 없는 금액\n",
    "\n",
    "N개의 동전을 이용하여 만들 수 없는 양의 정수 금액 중 최솟값을 구하는 문제"
   ]
  },
  {
   "cell_type": "markdown",
   "id": "interior-image",
   "metadata": {},
   "source": [
    "#### 모범 답안"
   ]
  },
  {
   "cell_type": "code",
   "execution_count": 2,
   "id": "color-cocktail",
   "metadata": {},
   "outputs": [
    {
     "name": "stdout",
     "output_type": "stream",
     "text": [
      "5\n",
      "3 2 1 1 9\n",
      "8\n"
     ]
    }
   ],
   "source": [
    "n = int(input())\n",
    "data = list(map(int, input().split()))\n",
    "data.sort()\n",
    "\n",
    "target = 1\n",
    "for x in data:\n",
    "\n",
    "    if target < x:   # 만들 수 없는 금액을 찾았을 때\n",
    "        break        # 반복 종료\n",
    "    target += x      # 만들 수 있는 금액 local 최대치 없데이트\n",
    "\n",
    "print(target)"
   ]
  }
 ],
 "metadata": {
  "kernelspec": {
   "display_name": "Python 3",
   "language": "python",
   "name": "python3"
  },
  "language_info": {
   "codemirror_mode": {
    "name": "ipython",
    "version": 3
   },
   "file_extension": ".py",
   "mimetype": "text/x-python",
   "name": "python",
   "nbconvert_exporter": "python",
   "pygments_lexer": "ipython3",
   "version": "3.7.9"
  }
 },
 "nbformat": 4,
 "nbformat_minor": 5
}

{
 "cells": [
  {
   "cell_type": "markdown",
   "id": "defensive-confidence",
   "metadata": {},
   "source": [
    "## 다익스트라 알고리즘"
   ]
  },
  {
   "cell_type": "code",
   "execution_count": 1,
   "id": "mexican-expert",
   "metadata": {},
   "outputs": [
    {
     "name": "stdout",
     "output_type": "stream",
     "text": [
      "6 11\n",
      "1\n",
      "1 2 2\n",
      "1 3 5\n",
      "1 4 1\n",
      "2 3 3 \n",
      "2 4 2\n",
      "3 2 3\n",
      "3 6 5\n",
      "4 3 3 \n",
      "4 5 1\n",
      "5 3 1\n",
      "5 6 2\n",
      "0\n",
      "2\n",
      "3\n",
      "1\n",
      "2\n",
      "4\n"
     ]
    }
   ],
   "source": [
    "# import sys\n",
    "# input = sys.stdin.readline\n",
    "INF = int(1e9) \n",
    "\n",
    "n, m = map(int, input().split())\n",
    "start = int(input())\n",
    "graph = [[] for i in range(n + 1)]\n",
    "visited = [False] * (n + 1)               # 방문 유무 \n",
    "distance = [INF] * (n + 1)                 # 최단 거리 테이블\n",
    "\n",
    "for _ in range(m):\n",
    "    a, b, c = map(int, input().split())\n",
    "    graph[a].append((b, c))                 # a번 노드에서 b번 노드로 가는 비용: c\n",
    "\n",
    "# 방문하지 않은 노드 중에서, 가장 최단 거리가 짧은 노드의 번호를 반환\n",
    "def get_smallest_node():\n",
    "    min_value = INF\n",
    "    index = 0 \n",
    "    for i in range(1, n + 1):\n",
    "        if distance[i] < min_value and not visited[i]:   # 최단 거리이고 방문하지 않았을 경우\n",
    "            min_value = distance[i]                       # 최단거리들 중 최단거리 업데이트\n",
    "            index = i\n",
    "    return index                                         # 최단거리가 가장 짧은 노드 번호 반환\n",
    "\n",
    "def dijkstra(start):\n",
    "    distance[start] = 0\n",
    "    visited[start] = True\n",
    "    for j in graph[start]:                     # 출발 노드에서\n",
    "        distance[j[0]] = j[1]                  # 연결된 다른 노드로 가는 비용 업데이트\n",
    "    for i in range(n - 1):                    # 시작 노드를 제외한 전체 n - 1개의 노드에 대해\n",
    "        now = get_smallest_node()              # 현재 최단 거리가 가장 짧은 노드\n",
    "        visited[now] = True                   # 방문 처리\n",
    "\n",
    "        for j in graph[now]:                  # 현재 노드와 연결된 다른 노드 확인 \n",
    "            cost = distance[now] + j[1]       # 비용 = 현재 노드까지의 비용 + 다른 노드로 이동하는데 드는 비용\n",
    "\n",
    "            if cost < distance[j[0]]:         # 현재 노드를 거쳐서 다른 노드로 이동하는 거리가 더 짧은 경우\n",
    "                distance[j[0]] = cost         # 그 다른 노드 비용 업데이트\n",
    "\n",
    "\n",
    "dijkstra(start)                               # 알고리즘 수행\n",
    "\n",
    "# 모든 노드로 가기 위한 최단 거리를 출력\n",
    "for i in range(1, n + 1):\n",
    "    \n",
    "    if distance[i] == INF:           # 도달할 수 없는 경우\n",
    "        print(\"INFINITY\")            # INFINITY라고 출력\n",
    "    \n",
    "    else:                            # 도달할 수 있는 경우 \n",
    "        print(distance[i])           # 거리 출력"
   ]
  },
  {
   "cell_type": "markdown",
   "id": "homeless-amplifier",
   "metadata": {},
   "source": [
    "## 개선된 다익스트라 알고리즘"
   ]
  },
  {
   "cell_type": "code",
   "execution_count": 2,
   "id": "simplified-watch",
   "metadata": {},
   "outputs": [
    {
     "name": "stdout",
     "output_type": "stream",
     "text": [
      "6 11\n",
      "1\n",
      "1 2 2\n",
      "1 3 5\n",
      "1 4 1\n",
      "2 3 3\n",
      "2 4 2\n",
      "3 2 3\n",
      "3 6 5\n",
      "4 3 3\n",
      "4 5 1\n",
      "5 3 1\n",
      "5 6 2\n",
      "[(1, 4), (5, 3), (2, 2)]\n",
      "[(2, 2), (2, 5), (4, 3), (5, 3)]\n",
      "[(2, 5), (5, 3), (4, 3)]\n",
      "[(3, 3), (4, 6), (4, 3), (5, 3)]\n",
      "[(4, 3), (4, 6), (5, 3)]\n",
      "[(5, 3)]\n",
      "0\n",
      "2\n",
      "3\n",
      "1\n",
      "2\n",
      "4\n"
     ]
    }
   ],
   "source": [
    "import heapq\n",
    "#import sys\n",
    "#input = sys.stdin.readline\n",
    "INF = int(1e9)\n",
    "\n",
    "n, m = map(int, input().split())\n",
    "start = int(input())\n",
    "graph = [[] for i in range(n + 1)]\n",
    "distance = [INF] * (n + 1)                     # 최단 거리 테이블\n",
    "\n",
    "for _ in range(m):\n",
    "    a, b, c = map(int, input().split())\n",
    "    graph[a].append((b, c))                        # a번 노드에서 b번 노드로 가는 비용: c\n",
    "\n",
    "def dijkstra(start):\n",
    "    q = []\n",
    "    heapq.heappush(q, (0, start))                  # 시작 노드로 가기 위한 최단 경로는 0으로 설정, 큐에 삽입\n",
    "    distance[start] = 0\n",
    "    while q:                                      # 큐가 비어있지 않다면\n",
    "        dist, now = heapq.heappop(q)               # 최단 거리가 가장 짧은 노드에 대한 정보 꺼내기 (거리, 노드)\n",
    "\n",
    "        if distance[now] < dist:                   # 현재 노드가 이미 처리된 적이 있는 노드면 무시\n",
    "            continue\n",
    "\n",
    "        for i in graph[now]:                       # 현재 노드와 연결된 다른 인접한 노드 확인\n",
    "            cost = dist + i[1]                     # 비용 = 현재 노드까지의 비용 + 다른 노드로 이동하는데 드는 비용\n",
    "\n",
    "            if cost < distance[i[0]]:              # 현재 노드를 거쳐서, 다른 노드로 이동하는 거리가 더 짧은 경우\n",
    "                distance[i[0]] = cost              # 그 다른 노드 비용 업데이트\n",
    "                heapq.heappush(q, (cost, i[0]))    # 큐에 (거리, 노드) 삽입\n",
    "        print(q)\n",
    "\n",
    "dijkstra(start)                                    # 알고리즘 수행\n",
    "\n",
    "# 모든 노드로 가기 위한 최단 거리를 출력\n",
    "for i in range(1, n + 1):\n",
    "    \n",
    "    if distance[i] == INF:           # 도달할 수 없는 경우\n",
    "        print(\"INFINITY\")            # INFINITY라고 출력\n",
    "    \n",
    "    else:                            # 도달할 수 있는 경우 \n",
    "        print(distance[i])           # 거리 출력"
   ]
  },
  {
   "cell_type": "markdown",
   "id": "foreign-clone",
   "metadata": {},
   "source": [
    "## 플로이드 워셜 알고리즘"
   ]
  },
  {
   "cell_type": "code",
   "execution_count": 3,
   "id": "ultimate-blanket",
   "metadata": {},
   "outputs": [
    {
     "name": "stdout",
     "output_type": "stream",
     "text": [
      "4\n",
      "7\n",
      "1 2 4\n",
      "1 4 6\n",
      "2 1 3\n",
      "2 3 7\n",
      "3 1 5\n",
      "3 4 4\n",
      "4 3 2\n",
      "0 4 8 6 \n",
      "3 0 7 9 \n",
      "5 9 0 4 \n",
      "7 11 2 0 \n"
     ]
    }
   ],
   "source": [
    "INF = int(1e9)\n",
    "\n",
    "n = int(input())\n",
    "m = int(input())\n",
    "graph = [[INF] * (n + 1) for _ in range(n + 1)]\n",
    "\n",
    "# 자기 자신으로 가는 비용: 0\n",
    "for a in range(1, n + 1):\n",
    "    for b in range(1, n + 1):\n",
    "        if a == b:\n",
    "            graph[a][b] = 0\n",
    "\n",
    "for _ in range(m):\n",
    "    a, b, c = map(int, input().split())\n",
    "    graph[a][b] = c                        # a에서 b로 가는 비용: c\n",
    "\n",
    "# 점화식에 따라 플로이드 워셜 알고리즘을 수행\n",
    "for k in range(1, n + 1):                                             # k를 거침\n",
    "    for a in range(1, n + 1):                                         # a에서\n",
    "        for b in range(1, n + 1):                                     # b로\n",
    "            graph[a][b] = min(graph[a][b], graph[a][k] + graph[k][b])  # a->b일 때 비용과 a->k->b일 때 비용 중 작은 것으로 업데이트\n",
    "\n",
    "\n",
    "for a in range(1, n + 1):\n",
    "    for b in range(1, n + 1):\n",
    "        if graph[a][b] == 1e9:                 # 도달할 수 없는 경우\n",
    "            print(\"INFINITY\", end=\" \")         # INFINITY라고 출력\n",
    "        else:                                  # 도달할 수 있는 경우\n",
    "            print(graph[a][b], end=\" \")        # 거리를 출력\n",
    "    print()"
   ]
  },
  {
   "cell_type": "markdown",
   "id": "photographic-moment",
   "metadata": {},
   "source": [
    "## 미래 도시\n",
    "N개의 도시는 서로 도로를 통해 양방향으로 연결되어 있고, 모두 1만큼의 시간으로 이동 가능하다. \n",
    "\n",
    "방문 판매원 A는 현재 1번 회사에 위치하며, K번 회사를 방문한 뒤에 X번 회사에 방문하고자 한다. \n",
    "\n",
    "이 때 최소 이동시간을 출력하기. (단, 도달할 수 없으면 -1 출력)"
   ]
  },
  {
   "cell_type": "code",
   "execution_count": 4,
   "id": "straight-drawing",
   "metadata": {},
   "outputs": [
    {
     "name": "stdout",
     "output_type": "stream",
     "text": [
      "4 2\n",
      "1 3\n",
      "2 4\n",
      "3 4\n",
      "-1\n"
     ]
    }
   ],
   "source": [
    "INF = int(1e9)\n",
    "\n",
    "n, m = map(int, input().split())\n",
    "graph = [[INF] * (n + 1) for _ in range(n + 1)]\n",
    "\n",
    "# 자기 자신으로 가는 비용: 0\n",
    "for a in range(1, n + 1):\n",
    "    for b in range(1, n + 1):\n",
    "        if a == b:\n",
    "            graph[a][b] = 0\n",
    "\n",
    "for _ in range(m):\n",
    "    a, b = map(int, input().split())\n",
    "    graph[a][b] = 1                    # a->b 비용: 1\n",
    "    graph[b][a] = 1                    # b->a 비용: 1\n",
    "\n",
    "x, k = map(int, input().split())\n",
    "\n",
    "# 점화식에 따라 플로이드 워셜 알고리즘을 수행\n",
    "for k in range(1, n + 1):\n",
    "    for a in range(1, n + 1):\n",
    "        for b in range(1, n + 1):\n",
    "            graph[a][b] = min(graph[a][b], graph[a][k] + graph[k][b])\n",
    "\n",
    "# 수행된 결과\n",
    "distance = graph[1][k] + graph[k][x]        # 1->k 최소 비용 + k->x 최소 비용\n",
    "\n",
    "if distance >= 1e9:       # 도달할 수 없는 경우\n",
    "    print(\"-1\")           # -1을 출력\n",
    "else:                     # 도달할 수 있는 경우\n",
    "    print(distance)       # 최단 거리를 출력"
   ]
  },
  {
   "cell_type": "markdown",
   "id": "secure-sharing",
   "metadata": {},
   "source": [
    "## 전보\n",
    "N개의 도시가 있는 어떤 나라의 C라는 도시에서 최대한 많은 도시로 메시지를 보내고자 할 때, \n",
    "\n",
    "C에서 보낸 메시지를 받게 되는 도시의 개수와 이 도시들이 모두 메시지를 받는 데까지 걸리는 시간 계산하기.\n",
    "\n",
    "(단, 도시와 도시 간 통로는 쌍방향이 아닐 수 있음)"
   ]
  },
  {
   "cell_type": "code",
   "execution_count": 1,
   "id": "related-holocaust",
   "metadata": {},
   "outputs": [
    {
     "name": "stdout",
     "output_type": "stream",
     "text": [
      "3 2 1\n",
      "1 2 4\n",
      "1 3 2\n",
      "2 4\n"
     ]
    }
   ],
   "source": [
    "import heapq\n",
    "#import sys\n",
    "#input = sys.stdin.readline\n",
    "INF = int(1e9)\n",
    "\n",
    "n, m, start = map(int, input().split())\n",
    "graph = [[] for i in range(n + 1)]\n",
    "distance = [INF] * (n + 1)\n",
    "\n",
    "for _ in range(m):\n",
    "    x, y, z = map(int, input().split())\n",
    "    graph[x].append((y, z))                        # x->y 비용: z\n",
    "\n",
    "def dijkstra(start):\n",
    "    q = []\n",
    "    heapq.heappush(q, (0, start))                  # 시작 노드로 가기 위한 최단 경로는 0으로 설정, 큐에 삽입\n",
    "    distance[start] = 0\n",
    "    while q:                                      # 큐가 비어있지 않다면\n",
    "        dist, now = heapq.heappop(q)               # 최단 거리가 가장 짧은 노드에 대한 정보를 꺼내기\n",
    "        if distance[now] < dist:\n",
    "            continue\n",
    "        \n",
    "        for i in graph[now]:                       # 현재 노드와 연결된 다른 인접한 노드에 대해\n",
    "            cost = dist + i[1]                     # 비용 = 현재 노드까지의 비용 + 다른 노드로 이동하는데 드는 비용\n",
    "\n",
    "            if cost < distance[i[0]]:              # 현재 노드를 거쳐서, 다른 노드로 이동하는 거리가 더 짧은 경우\n",
    "                distance[i[0]] = cost              # 비용 업데이트\n",
    "                heapq.heappush(q, (cost, i[0]))    # 큐에 (거리, 노드) 삽입\n",
    "\n",
    "\n",
    "dijkstra(start)                                    # 알고리즘을 수행\n",
    "\n",
    "\n",
    "count = 0                                         # 도달할 수 있는 노드의 개수\n",
    "max_distance = 0                                  # 도달할 수 있는 노드 중에서, 가장 멀리 있는 노드와의 최단 거리\n",
    "\n",
    "for d in distance:\n",
    "    if d != 1e9:                                  # 도달할 수 있는 노드인 경우\n",
    "        count += 1                                # 도달할 수 있는 노드 개수 +1\n",
    "        max_distance = max(max_distance, d)       # 도달할 수 있는 노드 중 거리가 가장 먼 노드까지의 거리\n",
    "\n",
    "print(count - 1, max_distance)"
   ]
  }
 ],
 "metadata": {
  "kernelspec": {
   "display_name": "Python 3",
   "language": "python",
   "name": "python3"
  },
  "language_info": {
   "codemirror_mode": {
    "name": "ipython",
    "version": 3
   },
   "file_extension": ".py",
   "mimetype": "text/x-python",
   "name": "python",
   "nbconvert_exporter": "python",
   "pygments_lexer": "ipython3",
   "version": "3.7.9"
  }
 },
 "nbformat": 4,
 "nbformat_minor": 5
}

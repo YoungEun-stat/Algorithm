{
 "cells": [
  {
   "cell_type": "markdown",
   "id": "focal-involvement",
   "metadata": {},
   "source": [
    "## 서로소 집합 자료구조"
   ]
  },
  {
   "cell_type": "code",
   "execution_count": 1,
   "id": "sunset-pension",
   "metadata": {},
   "outputs": [],
   "source": [
    "# 특정 원소가 속한 집합 찾기\n",
    "def find_parent(parent, x):\n",
    "    if parent[x] != x:                                    # 루트 노드가 아니면\n",
    "        parent[x] = find_parent(parent, parent[x])        # 루트 노드를 찾을 때까지 재귀적으로 호출\n",
    "    return parent[x]\n",
    "\n",
    "# 두 원소가 속한 집합을 합치기\n",
    "def union_parent(parent, a, b):\n",
    "    a = find_parent(parent, a)                           # a의 루트 노드 찾기                \n",
    "    b = find_parent(parent, b)                           # b의 루트 노드 찾기\n",
    "    if a < b:                                            # a의 루트노드가 b의 루트노드보다 작으면\n",
    "        parent[b] = a                                    # b의 루트노드를 a로 변경\n",
    "    else:                                                # 반대의 경우\n",
    "        parent[a] = b                                    # a의 로트노드를 b로 변경"
   ]
  },
  {
   "cell_type": "code",
   "execution_count": 2,
   "id": "stable-melbourne",
   "metadata": {},
   "outputs": [
    {
     "name": "stdout",
     "output_type": "stream",
     "text": [
      "6 4\n",
      "1 4\n",
      "2 3\n",
      "2 4\n",
      "5 6\n",
      "각 원소가 속한 집합: 1 1 1 1 5 5 \n",
      "부모 테이블: 1 1 1 1 5 5 "
     ]
    }
   ],
   "source": [
    "v, e = map(int, input().split())\n",
    "parent = [0] * (v + 1)                           # 부모 테이블 초기화\n",
    "\n",
    "for i in range(1, v + 1):\n",
    "    parent[i] = i                                # 부모 테이블상에서 부모를 자기 자신으로 초기화\n",
    "\n",
    "for i in range(e):                               # 모든 엣지에 대해\n",
    "    a, b = map(int, input().split())\n",
    "    union_parent(parent, a, b)                   # Union 연산 수행\n",
    "\n",
    "    \n",
    "# 각 원소가 속한 집합 출력하기\n",
    "print('각 원소가 속한 집합: ', end='')\n",
    "for i in range(1, v + 1):\n",
    "    print(find_parent(parent, i), end=' ')\n",
    "\n",
    "print()\n",
    "\n",
    "# 부모 테이블 내용 출력하기\n",
    "print('부모 테이블: ', end='')\n",
    "for i in range(1, v + 1):\n",
    "    print(parent[i], end=' ')"
   ]
  },
  {
   "cell_type": "code",
   "execution_count": 3,
   "id": "criminal-wagon",
   "metadata": {},
   "outputs": [
    {
     "name": "stdout",
     "output_type": "stream",
     "text": [
      "3 3\n",
      "1 2\n",
      "1 3\n",
      "2 3\n",
      "사이클이 발생했습니다.\n"
     ]
    }
   ],
   "source": [
    "v, e = map(int, input().split())\n",
    "parent = [0] * (v + 1)                           # 부모 테이블 초기화\n",
    "\n",
    "for i in range(1, v + 1):\n",
    "    parent[i] = i                                # 부모 테이블상에서 부모를 자기 자신으로 초기화\n",
    "\n",
    "##### 사이클 #####\n",
    "\n",
    "cycle = False # 사이클 발생 여부\n",
    "\n",
    "for i in range(e):\n",
    "    a, b = map(int, input().split())\n",
    "    \n",
    "    if find_parent(parent, a) == find_parent(parent, b):          # 사이클이 발생한 경우\n",
    "        cycle = True\n",
    "        break                                                     # 종료\n",
    "\n",
    "    else:                                                         # 사이클이 발생하지 않았으면\n",
    "        union_parent(parent, a, b)                                # 합집합(Union) 연산 수행\n",
    "\n",
    "if cycle:\n",
    "    print(\"사이클이 발생했습니다.\")\n",
    "else:\n",
    "    print(\"사이클이 발생하지 않았습니다.\")"
   ]
  },
  {
   "cell_type": "markdown",
   "id": "speaking-confusion",
   "metadata": {},
   "source": [
    "## 크루스칼 알고리즘"
   ]
  },
  {
   "cell_type": "code",
   "execution_count": 4,
   "id": "referenced-coast",
   "metadata": {},
   "outputs": [
    {
     "name": "stdout",
     "output_type": "stream",
     "text": [
      "7 9\n",
      "1 2 29\n",
      "1 5 75\n",
      "2 3 35\n",
      "2 6 34\n",
      "3 4 7\n",
      "4 6 23\n",
      "4 7 13\n",
      "5 6 53\n",
      "6 7 25\n",
      "159\n"
     ]
    }
   ],
   "source": [
    "v, e = map(int, input().split())\n",
    "parent = [0] * (v + 1)                           # 부모 테이블 초기화\n",
    "\n",
    "edges = []\n",
    "result = 0                                       # 총 비용 초기화\n",
    "\n",
    "for i in range(1, v + 1):\n",
    "    parent[i] = i                                # 부모 테이블상에서 부모를 자기 자신으로 초기화\n",
    "\n",
    "\n",
    "for _ in range(e):\n",
    "    a, b, cost = map(int, input().split())\n",
    "    edges.append((cost, a, b))                   # (비용, a, b)\n",
    "\n",
    "edges.sort()                                     # 비용 순으로 오름차순 sort\n",
    "\n",
    "for edge in edges:                              # 모든 간선에 대해\n",
    "    cost, a, b = edge \n",
    "\n",
    "    if find_parent(parent, a) != find_parent(parent, b):       # 사이클이 발생하지 않는 경우에\n",
    "        union_parent(parent, a, b)                              # 합집합(Union) 연산 수행\n",
    "        result += cost                                          # 총 비용 업데이트\n",
    "\n",
    "print(result)"
   ]
  },
  {
   "cell_type": "markdown",
   "id": "imperial-guitar",
   "metadata": {},
   "source": [
    "## 위상 정렬"
   ]
  },
  {
   "cell_type": "code",
   "execution_count": 5,
   "id": "lyric-intention",
   "metadata": {},
   "outputs": [
    {
     "name": "stdout",
     "output_type": "stream",
     "text": [
      "7 8\n",
      "1 2\n",
      "1 5\n",
      "2 3\n",
      "2 6\n",
      "3 4\n",
      "4 7\n",
      "5 6\n",
      "6 4\n",
      "1 2 5 3 6 4 7 "
     ]
    }
   ],
   "source": [
    "from collections import deque\n",
    "\n",
    "v, e = map(int, input().split())\n",
    "indegree = [0] * (v + 1)                      # 진입 차수 초기화\n",
    "graph = [[] for i in range(v + 1)]\n",
    "\n",
    "for _ in range(e):\n",
    "    a, b = map(int, input().split())\n",
    "    graph[a].append(b)                        # 노드 A에서 B로 이동\n",
    "    indegree[b] += 1                          # 노드 B 진입 차수를 1 증가\n",
    "\n",
    "# 위상 정렬 함수\n",
    "def topology_sort():\n",
    "    result = []                               # 알고리즘 수행 결과 리스트\n",
    "    q = deque()                               # 큐 기능을 위한 deque 라이브러리 사용\n",
    "\n",
    "    for i in range(1, v + 1):                # 모든 노드에 대해\n",
    "        if indegree[i] == 0:                 # 진입 차수가 0이면\n",
    "            q.append(i)                       # 해당 노드를 큐에 삽입\n",
    "\n",
    "    while q:                                 # 큐가 빌 때까지 반복\n",
    "        now = q.popleft()                     # 큐에서 노드 꺼내기\n",
    "        result.append(now)                    # 해당 노드 result에 추가\n",
    "\n",
    "        for i in graph[now]:                 # 해당 원소와 연결된 노드들에 대해\n",
    "            indegree[i] -= 1                 # 진입차수에서 1 빼기\n",
    "\n",
    "            if indegree[i] == 0:             # 새롭게 진입차수가 0이 되면\n",
    "                q.append(i)                   # 해당 노드 큐에 삽입\n",
    "                \n",
    "    # 결과 출력             \n",
    "    for i in result:\n",
    "        print(i, end=' ')\n",
    "\n",
    "topology_sort()"
   ]
  }
 ],
 "metadata": {
  "kernelspec": {
   "display_name": "Python 3",
   "language": "python",
   "name": "python3"
  },
  "language_info": {
   "codemirror_mode": {
    "name": "ipython",
    "version": 3
   },
   "file_extension": ".py",
   "mimetype": "text/x-python",
   "name": "python",
   "nbconvert_exporter": "python",
   "pygments_lexer": "ipython3",
   "version": "3.7.9"
  }
 },
 "nbformat": 4,
 "nbformat_minor": 5
}

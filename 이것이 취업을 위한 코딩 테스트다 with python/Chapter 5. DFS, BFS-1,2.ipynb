{
 "cells": [
  {
   "cell_type": "markdown",
   "id": "executed-jonathan",
   "metadata": {},
   "source": [
    "### 팩토리얼 예제"
   ]
  },
  {
   "cell_type": "code",
   "execution_count": 1,
   "id": "sound-transmission",
   "metadata": {},
   "outputs": [
    {
     "name": "stdout",
     "output_type": "stream",
     "text": [
      "반복적으로 구현: 120\n",
      "재귀적으로 구현: 120\n"
     ]
    }
   ],
   "source": [
    "# 반복적으로 구현한 n!\n",
    "def factorial_iterative(n):        \n",
    "    result = 1\n",
    "    # 1부터 n까지의 수를 차례대로 곱하기\n",
    "    for i in range(1, n + 1):\n",
    "       result *= i\n",
    "    return result\n",
    "\n",
    "# 재귀적으로 구현한 n!\n",
    "def factorial_recursive(n):        \n",
    "    if n <= 1:         # n이 1 이하인 경우 \n",
    "        return 1       # 1을 반환\n",
    "    return n * factorial_recursive(n - 1)   # n! = n * (n - 1)!\n",
    "\n",
    "print('반복적으로 구현:', factorial_iterative(5))\n",
    "print('재귀적으로 구현:', factorial_recursive(5))"
   ]
  },
  {
   "cell_type": "markdown",
   "id": "cutting-rates",
   "metadata": {},
   "source": [
    "### DFS"
   ]
  },
  {
   "cell_type": "code",
   "execution_count": 2,
   "id": "sought-trouble",
   "metadata": {},
   "outputs": [
    {
     "name": "stdout",
     "output_type": "stream",
     "text": [
      "1 2 7 6 8 3 4 5 "
     ]
    }
   ],
   "source": [
    "# DFS 함수 정의\n",
    "def dfs(graph, v, visited):\n",
    "    visited[v] = True                # 현재 노드를 방문 처리\n",
    "    print(v, end=' ')\n",
    "    \n",
    "    for i in graph[v]:               # 현재 노드와 연결된 다른 노드를 재귀적으로 방문\n",
    "        if not visited[i]:           # 방문하지 않았으면\n",
    "            dfs(graph, i, visited)    # 재귀 함수 호출(방문 처리, 이웃 노드도 마찬가지로)\n",
    "\n",
    "# 각 노드가 연결된 정보를 리스트로 표현\n",
    "graph = [\n",
    "  [],\n",
    "  [2, 3, 8],\n",
    "  [1, 7],\n",
    "  [1, 4, 5],\n",
    "  [3, 5],\n",
    "  [3, 4],\n",
    "  [7],\n",
    "  [2, 6, 8],\n",
    "  [1, 7]\n",
    "]\n",
    "\n",
    "# 각 노드가 방문된 정보를 리스트로 표현\n",
    "visited = [False] * 9\n",
    "\n",
    "# 함수 호출\n",
    "dfs(graph, 1, visited)"
   ]
  },
  {
   "cell_type": "markdown",
   "id": "exciting-gregory",
   "metadata": {},
   "source": [
    "### BFS"
   ]
  },
  {
   "cell_type": "code",
   "execution_count": 3,
   "id": "assumed-trauma",
   "metadata": {},
   "outputs": [
    {
     "name": "stdout",
     "output_type": "stream",
     "text": [
      "1 2 3 8 7 4 5 6 "
     ]
    }
   ],
   "source": [
    "from collections import deque\n",
    "\n",
    "# BFS 함수 정의\n",
    "def bfs(graph, start, visited):\n",
    "    queue = deque([start])          # 큐(Queue) 구현을 위해 deque 라이브러리 사용\n",
    "    visited[start] = True          # 현재 노드를 방문 처리\n",
    "    \n",
    "    while queue:                    # 큐가 빌 때까지 반복\n",
    "        v = queue.popleft()         # 큐에서 하나의 원소 뽑아 저장, 큐에서는 삭제\n",
    "        print(v, end=' ')\n",
    "\n",
    "        for i in graph[v]:          # 해당 원소와 연결되고, 아직 방문하지 않은 원소들 전체 큐에 삽입\n",
    "            if not visited[i]:      # 방문하지 않았으면\n",
    "                queue.append(i)      # 큐에 추가\n",
    "                visited[i] = True   # 방문 처리\n",
    "\n",
    "# 각 노드가 연결된 정보를 리스트로 표현\n",
    "graph = [\n",
    "  [],\n",
    "  [2, 3, 8],\n",
    "  [1, 7],\n",
    "  [1, 4, 5],\n",
    "  [3, 5],\n",
    "  [3, 4],\n",
    "  [7],\n",
    "  [2, 6, 8],\n",
    "  [1, 7]\n",
    "]\n",
    "\n",
    "# 각 노드가 방문된 정보를 리스트로 표현\n",
    "visited = [False] * 9\n",
    "\n",
    "# 함수 호출\n",
    "bfs(graph, 1, visited)"
   ]
  }
 ],
 "metadata": {
  "kernelspec": {
   "display_name": "Python 3",
   "language": "python",
   "name": "python3"
  },
  "language_info": {
   "codemirror_mode": {
    "name": "ipython",
    "version": 3
   },
   "file_extension": ".py",
   "mimetype": "text/x-python",
   "name": "python",
   "nbconvert_exporter": "python",
   "pygments_lexer": "ipython3",
   "version": "3.7.9"
  }
 },
 "nbformat": 4,
 "nbformat_minor": 5
}

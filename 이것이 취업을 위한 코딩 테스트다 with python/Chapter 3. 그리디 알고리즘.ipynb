{
 "cells": [
  {
   "cell_type": "markdown",
   "id": "differential-collective",
   "metadata": {},
   "source": [
    "## 예제 3.1 거스름돈"
   ]
  },
  {
   "cell_type": "code",
   "execution_count": 1,
   "id": "ultimate-sodium",
   "metadata": {},
   "outputs": [
    {
     "name": "stdout",
     "output_type": "stream",
     "text": [
      "6\n"
     ]
    }
   ],
   "source": [
    "n = 1260   # 총 거스름돈\n",
    "count = 0  # 동전 개수\n",
    "\n",
    "coin_types = [500, 100, 50, 10]\n",
    "\n",
    "for coin in coin_types:\n",
    "    count += n // coin   # 몫(정수) = 해당 coin의 개수\n",
    "    n %= coin            # 나머지 금액을 n에 다시 저장\n",
    "    \n",
    "print(count)  # 총 동전 개수 출력"
   ]
  },
  {
   "cell_type": "markdown",
   "id": "alternative-stick",
   "metadata": {},
   "source": [
    "## 큰 수의 법칙"
   ]
  },
  {
   "cell_type": "code",
   "execution_count": 2,
   "id": "modern-render",
   "metadata": {},
   "outputs": [
    {
     "name": "stdout",
     "output_type": "stream",
     "text": [
      "5 8 3\n",
      "2 4 5 4 6\n",
      "46\n"
     ]
    }
   ],
   "source": [
    "n, m, k = map(int, input().split())     # 첫 번째줄 입력\n",
    "data = list(map(int, input().split()))  # 두 번째줄 입력\n",
    "\n",
    "data.sort()         # 오름차순 정렬\n",
    "first = data[n-1]   # 가장 큰 수\n",
    "second = data[n-2]  # 2번째로 큰 수\n",
    "\n",
    "result = 0  # 합\n",
    "\n",
    "while True:\n",
    "    for i in range(k):    # 가장 큰 수 k번 더할 것\n",
    "        if m == 0:        # 숫자를 더이상 더하지 않아도 되는 경우\n",
    "            break \n",
    "        result += first   # 그게 아니면, 가장 큰 수 누적합\n",
    "        m -= 1            # 숫자 더해질 수 있는 횟수 차감\n",
    "    if m==0:              # 숫자를 더이상 더하지 않아도 되는 경우\n",
    "        break\n",
    "    result += second      # 그게 아니면, 2번째로 큰 수 누적합\n",
    "    m -= 1                # 숫자 더해질 수 있는 횟수 차감\n",
    "\n",
    "print(result)"
   ]
  },
  {
   "cell_type": "code",
   "execution_count": 3,
   "id": "educated-boulder",
   "metadata": {},
   "outputs": [
    {
     "name": "stdout",
     "output_type": "stream",
     "text": [
      "5 8 3\n",
      "2 4 5 4 6\n",
      "46\n"
     ]
    }
   ],
   "source": [
    "n, m, k = map(int, input().split())     # 첫 번째줄 입력\n",
    "data = list(map(int, input().split()))  # 두 번째줄 입력\n",
    "\n",
    "data.sort()         # 오름차순 정렬\n",
    "first = data[n-1]   # 가장 큰 수\n",
    "second = data[n-2]  # 2번째로 큰 수\n",
    "\n",
    "count = int(m / (k+1)) * k   # 나누어 떨어지는 경우 가장 큰 수를 더하는 횟수\n",
    "count += m % (k+1)           # 나누어 떨어지지 않는 경우 가장 큰 수를 더하는 횟수\n",
    "\n",
    "result = 0\n",
    "result += count * first          # 가장 큰 수들 더하는 횟수 * 가장 큰 수\n",
    "result += (m - count) * second   # 두 번째로 큰 수들 더하는 횟수 * 두 번째로 큰 수\n",
    "\n",
    "print(result)"
   ]
  },
  {
   "cell_type": "markdown",
   "id": "micro-composite",
   "metadata": {},
   "source": [
    "## 숫자 카드 게임"
   ]
  },
  {
   "cell_type": "markdown",
   "id": "grave-explanation",
   "metadata": {},
   "source": [
    "### A1."
   ]
  },
  {
   "cell_type": "code",
   "execution_count": 4,
   "id": "possible-therapist",
   "metadata": {},
   "outputs": [
    {
     "name": "stdout",
     "output_type": "stream",
     "text": [
      "3 3 \n",
      "3 1 2\n",
      "4 1 4\n",
      "2 2 2\n",
      "2\n"
     ]
    }
   ],
   "source": [
    "n, m = map(int, input().split())\n",
    "\n",
    "result = 0   \n",
    "\n",
    "for i in range(n):\n",
    "    data = list(map(int, input().split()))  # 한 줄(행)씩 리스트로 받아옴\n",
    "    min_value = min(data)   # 최솟값\n",
    "    result = max(result, min_value)   # 이전 결과와 현재 최솟값 비교\n",
    "    \n",
    "print(result)"
   ]
  },
  {
   "cell_type": "code",
   "execution_count": 5,
   "id": "auburn-imperial",
   "metadata": {},
   "outputs": [
    {
     "name": "stdout",
     "output_type": "stream",
     "text": [
      "2 4 \n",
      "7 3 1 8\n",
      "3 3 3 4\n",
      "3\n"
     ]
    }
   ],
   "source": [
    "n, m = map(int, input().split())\n",
    "\n",
    "result = 0   \n",
    "\n",
    "for i in range(n):\n",
    "    data = list(map(int, input().split()))  # 한 줄(행)씩 리스트로 받아옴\n",
    "    min_value = min(data)                   # 최솟값\n",
    "    result = max(result, min_value)         # 이전 결과와 현재 최솟값 비교\n",
    "    \n",
    "print(result)"
   ]
  },
  {
   "cell_type": "markdown",
   "id": "mysterious-eleven",
   "metadata": {},
   "source": [
    "### A2."
   ]
  },
  {
   "cell_type": "code",
   "execution_count": 6,
   "id": "miniature-coordinate",
   "metadata": {},
   "outputs": [
    {
     "name": "stdout",
     "output_type": "stream",
     "text": [
      "3 3 \n",
      "3 1 2\n",
      "4 1 4\n",
      "2 2 2\n",
      "2\n"
     ]
    }
   ],
   "source": [
    "n, m = map(int, input().split())\n",
    "\n",
    "result = 0   \n",
    "\n",
    "for i in range(n):\n",
    "    data = list(map(int, input().split()))  # 한 줄(행)씩 리스트로 받아옴\n",
    "    min_value = 10001   # 임의의 큰 수 지정\n",
    "    for a in data:     # 해당 행의 데이터 하나씩\n",
    "        min_value = min(a, min_value)   # 해당 행에서 반복 비교\n",
    "    result = max(result, min_value)     # 이전 결과와 현재 최솟값 비교\n",
    "    \n",
    "print(result)"
   ]
  },
  {
   "cell_type": "code",
   "execution_count": 7,
   "id": "numeric-furniture",
   "metadata": {},
   "outputs": [
    {
     "name": "stdout",
     "output_type": "stream",
     "text": [
      "2 4 \n",
      "7 3 1 8\n",
      "3 3 3 4\n",
      "3\n"
     ]
    }
   ],
   "source": [
    "n, m = map(int, input().split())\n",
    "\n",
    "result = 0   \n",
    "\n",
    "for i in range(n):\n",
    "    data = list(map(int, input().split()))  # 한 줄(행)씩 리스트로 받아옴\n",
    "    min_value = 10001    # 임의의 큰 수 지정\n",
    "    for a in data:       # 해당 행의 데이터 하나씩\n",
    "        min_value = min(a, min_value)   # 해당 행에서 반복 비교\n",
    "    result = max(result, min_value)     # 이전 결과와 현재 최솟값 비교\n",
    "    \n",
    "print(result)"
   ]
  },
  {
   "cell_type": "markdown",
   "id": "cathedral-ability",
   "metadata": {},
   "source": [
    "## 1이 될 때까지"
   ]
  },
  {
   "cell_type": "code",
   "execution_count": 8,
   "id": "basic-latter",
   "metadata": {},
   "outputs": [
    {
     "name": "stdout",
     "output_type": "stream",
     "text": [
      "55 4\n",
      "8\n"
     ]
    }
   ],
   "source": [
    "n, k = map(int, input().split())\n",
    "result = 0\n",
    "\n",
    "while n >= k:          # 주어진 조건\n",
    "    while n % k !=0:   # 나누어 떨어지지 않는 경우\n",
    "        n -= 1          # 1 빼기\n",
    "        result += 1     # 횟수 1 증가\n",
    "    n //= k             # n을 k로 나누고 그 결과를 n에 저장\n",
    "    result += 1         # 횟수 1 증가\n",
    "    \n",
    "while n>1:             # 1< n <k일 경우\n",
    "    n -= 1             # 1 빼기\n",
    "    result += 1        # 횟수 1 증가\n",
    "    \n",
    "print(result)"
   ]
  },
  {
   "cell_type": "code",
   "execution_count": 9,
   "id": "running-phrase",
   "metadata": {},
   "outputs": [
    {
     "name": "stdout",
     "output_type": "stream",
     "text": [
      "55 4\n",
      "8\n"
     ]
    }
   ],
   "source": [
    "n, k = map(int, input().split())\n",
    "result = 0\n",
    "\n",
    "while True:                # 주어진 조건\n",
    "    target = n//k * k       # k의 배수가 되도록 만듦(나머지 없앰)\n",
    "    result += (n-target)    # 위에서 없앤 나머지 수(=1을 뺀 횟수)\n",
    "    n = target              # update\n",
    "    \n",
    "    if n < k:               # 나눌 수 없으면 반복문 탈출 (**)\n",
    "        break\n",
    "    \n",
    "    result += 1             # n을 k로 나눈 횟수 1 증가\n",
    "    n //= k                 # n을 k로 나눈 결과로 다시 n update\n",
    "    \n",
    "result += (n-1)             # (**)의 경우 n은 k로 더이상 나눌 수 없으므로 \n",
    "                            # 해당 수는 1을 빼어 n=0이 되게 하는 횟수와 동일\n",
    "                            \n",
    "print(result)"
   ]
  }
 ],
 "metadata": {
  "kernelspec": {
   "display_name": "Python 3",
   "language": "python",
   "name": "python3"
  },
  "language_info": {
   "codemirror_mode": {
    "name": "ipython",
    "version": 3
   },
   "file_extension": ".py",
   "mimetype": "text/x-python",
   "name": "python",
   "nbconvert_exporter": "python",
   "pygments_lexer": "ipython3",
   "version": "3.7.9"
  }
 },
 "nbformat": 4,
 "nbformat_minor": 5
}

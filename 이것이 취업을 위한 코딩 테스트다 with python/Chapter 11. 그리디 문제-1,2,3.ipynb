{
 "cells": [
  {
   "cell_type": "markdown",
   "id": "latin-moisture",
   "metadata": {},
   "source": [
    "### Q1. 모험가 길드(그룹만들기)\n",
    "\n",
    "공포도가 X인 모험가는 반드시 X명 이상으로 구성한 그룹에 참여. 그룹 수의 최댓값 구하기"
   ]
  },
  {
   "cell_type": "code",
   "execution_count": 1,
   "id": "declared-warrior",
   "metadata": {},
   "outputs": [
    {
     "name": "stdout",
     "output_type": "stream",
     "text": [
      "5\n",
      "2 3 1 2 2\n",
      "2\n"
     ]
    }
   ],
   "source": [
    "n = map(int, input().split())\n",
    "data = list(map(int, input().split())) \n",
    "\n",
    "data.sort()\n",
    "\n",
    "result = 0\n",
    "count = 0\n",
    "\n",
    "for i in data:          # data를 돌아가면서 탐색\n",
    "    count += 1          # 그룹에 해당 데이터 포함\n",
    "    if count >= i:      # 해당 데이터가 그룹의 데이터 개수보다 작거나 같으면\n",
    "        result += 1     # 그룹 생성\n",
    "        count = 0       # 새로운 그룹 데이터 개수(초기화)\n",
    "        \n",
    "print(result)"
   ]
  },
  {
   "cell_type": "markdown",
   "id": "passing-hundred",
   "metadata": {},
   "source": [
    "### Q2. 곱하기 혹은 더하기\n",
    "주어진 문자열에 차례대로 +, x를 대입하여 가장 큰 수 만들기"
   ]
  },
  {
   "cell_type": "code",
   "execution_count": 2,
   "id": "tracked-evans",
   "metadata": {},
   "outputs": [
    {
     "name": "stdout",
     "output_type": "stream",
     "text": [
      "0458103\n",
      "483\n"
     ]
    }
   ],
   "source": [
    "data = input()\n",
    "\n",
    "result = int(data[0])\n",
    "\n",
    "for i in range(1,len(str(data))):\n",
    "    if (int(data[i]) <= 1) or (result <= 1):\n",
    "        result += int(data[i])\n",
    "    else:\n",
    "        result *= int(data[i])\n",
    "print(result)"
   ]
  },
  {
   "cell_type": "markdown",
   "id": "large-association",
   "metadata": {},
   "source": [
    "### Q3. 문자열 뒤집기\n",
    "\n",
    "주어진 문자열을 모두 같은 수로 만들기 위해 뒤집어야 하는 최소 횟수 구하기"
   ]
  },
  {
   "cell_type": "code",
   "execution_count": 3,
   "id": "varied-pathology",
   "metadata": {},
   "outputs": [
    {
     "name": "stdout",
     "output_type": "stream",
     "text": [
      "0010100011101101001\n",
      "6\n"
     ]
    }
   ],
   "source": [
    "data = input()\n",
    "\n",
    "count = 0\n",
    "\n",
    "for i in range(1,len(data)):\n",
    "    if data[i] != data[i-1]:   # 앞, 뒷 문자가 다르면 \n",
    "        count += 1             # 앞, 뒤 나누는 개수 +1\n",
    "print((count+1) // 2)          \n",
    "\n",
    "# 이 문제는 여러 시도 결과 규칙을 찾아서 풀었습니다."
   ]
  },
  {
   "cell_type": "markdown",
   "id": "convenient-fitness",
   "metadata": {},
   "source": [
    "#### 모범답안"
   ]
  },
  {
   "cell_type": "code",
   "execution_count": 4,
   "id": "mexican-pillow",
   "metadata": {},
   "outputs": [
    {
     "name": "stdout",
     "output_type": "stream",
     "text": [
      "0010100011101101001\n",
      "6\n"
     ]
    }
   ],
   "source": [
    "data = input()\n",
    "\n",
    "count0 = 0   # 모두 0으로 바꾸는 경우\n",
    "count1 = 0   # 모두 1로 바꾸는 경우\n",
    "\n",
    "# 첫 번째 원소에 대해서 처리\n",
    "if data[0] == '1':\n",
    "    count0 += 1\n",
    "else:\n",
    "    count1 += 1\n",
    "\n",
    "# 두 번째 원소부터\n",
    "for i in range(len(data) - 1):\n",
    "    if data[i] != data[i + 1]:       # 앞, 뒷 문자가 다르면\n",
    "        if data[i + 1] == '1':       # 뒷 문자가 1인 경우\n",
    "            count0 += 1              # 0으로 바꾸기\n",
    "        else:                        # 뒷 문자가 0인 경우\n",
    "            count1 += 1              # 1로 바꾸기\n",
    "\n",
    "print(min(count0, count1))           # 모두 0과 1로 바꿀 때 필요한 횟수 중 작은 값"
   ]
  }
 ],
 "metadata": {
  "kernelspec": {
   "display_name": "Python 3",
   "language": "python",
   "name": "python3"
  },
  "language_info": {
   "codemirror_mode": {
    "name": "ipython",
    "version": 3
   },
   "file_extension": ".py",
   "mimetype": "text/x-python",
   "name": "python",
   "nbconvert_exporter": "python",
   "pygments_lexer": "ipython3",
   "version": "3.7.9"
  }
 },
 "nbformat": 4,
 "nbformat_minor": 5
}

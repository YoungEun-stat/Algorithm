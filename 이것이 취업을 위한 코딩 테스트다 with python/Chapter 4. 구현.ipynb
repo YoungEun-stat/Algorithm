{
 "cells": [
  {
   "cell_type": "markdown",
   "id": "alternate-insight",
   "metadata": {},
   "source": [
    "## 예제 4.1 상하좌우"
   ]
  },
  {
   "cell_type": "code",
   "execution_count": 8,
   "id": "several-individual",
   "metadata": {},
   "outputs": [
    {
     "name": "stdout",
     "output_type": "stream",
     "text": [
      "5\n",
      "R R R U D D \n",
      "3 4\n"
     ]
    }
   ],
   "source": [
    "n = int(input())\n",
    "x, y = 1, 1\n",
    "plans = input().split()\n",
    "\n",
    "dx = [0, 0, -1, 1]\n",
    "dy = [-1, 1, 0, 0]\n",
    "move_types = ['L', 'R', 'U', 'D']\n",
    "\n",
    "for plan in plans:                              # 주어진 이동 방향\n",
    "    for i in range(len(move_types)):            # 이동 방향 종류\n",
    "        if plan == move_types[i]:               # 주어진 이동 방향과 같으면\n",
    "            nx = x + dx[i]                      # x좌표 update\n",
    "            ny = y + dy[i]                      # y좌표 update\n",
    "    if nx < 1 or ny < 1 or nx > n or ny > n:   # 좌표 범위 벗어나면\n",
    "        continue                               # 무시\n",
    "    x, y, = nx, ny                              # 이동\n",
    "    \n",
    "print(x, y)"
   ]
  },
  {
   "cell_type": "markdown",
   "id": "above-recognition",
   "metadata": {},
   "source": [
    "## 예제 4.2 시각"
   ]
  },
  {
   "cell_type": "code",
   "execution_count": 9,
   "id": "yellow-return",
   "metadata": {},
   "outputs": [
    {
     "name": "stdout",
     "output_type": "stream",
     "text": [
      "5\n",
      "11475\n"
     ]
    }
   ],
   "source": [
    "n = int(input())\n",
    "\n",
    "count = 0                                            # count 초기화\n",
    "for i in range(n+1):                                # 시 탐색\n",
    "    for j in range(60):                             # 분 탐색\n",
    "        for k in range(60):                         # 초 탐색\n",
    "            if '3' in str(i) + str(j) + str(k):     # '3'이 문자열에 있으면\n",
    "                count += 1                          # count 1 증가\n",
    "                \n",
    "print(count)"
   ]
  },
  {
   "cell_type": "markdown",
   "id": "instructional-blind",
   "metadata": {},
   "source": [
    "## 왕실의 나이트"
   ]
  },
  {
   "cell_type": "code",
   "execution_count": 12,
   "id": "original-witch",
   "metadata": {},
   "outputs": [
    {
     "name": "stdout",
     "output_type": "stream",
     "text": [
      "a1\n",
      "2\n"
     ]
    }
   ],
   "source": [
    "input_data = input()\n",
    "row = int(input_data[1])\n",
    "col = int(ord(input_data[0])) - int(ord('a')) + 1\n",
    "\n",
    "steps = [(-2, 1), (-2, -1), (2, 1), (2, -1), (-1, 2), (-1, -2), (1, 2), (1, -2)]\n",
    "\n",
    "result = 0\n",
    "for step in steps:\n",
    "    next_row = row + step[0]\n",
    "    next_col = col + step[1]\n",
    "    \n",
    "    if next_row >=1 and next_row <=8 and next_col >=1 and next_col <= 8:\n",
    "        result += 1\n",
    "\n",
    "print(result)"
   ]
  },
  {
   "cell_type": "markdown",
   "id": "integral-mathematics",
   "metadata": {},
   "source": [
    "## 게임 개발"
   ]
  },
  {
   "cell_type": "code",
   "execution_count": 13,
   "id": "hybrid-investigator",
   "metadata": {},
   "outputs": [
    {
     "name": "stdout",
     "output_type": "stream",
     "text": [
      "4 4\n",
      "1 1 0\n",
      "1 1 1 1\n",
      "1 0 0 1\n",
      "1 1 0 1\n",
      "1 1 1 1\n",
      "3\n"
     ]
    }
   ],
   "source": [
    "n, m = map(int, input().split())\n",
    "\n",
    "d = [[0] * m for _ in range(n)]                # 방문 위치 저장 맵(별도)\n",
    "\n",
    "x, y, direction = map(int, input().split())     # 현재 좌표\n",
    "d[x][y] = 1                                     # 현재 좌표 방문 처리\n",
    "\n",
    "array = []\n",
    "for i in range(n):\n",
    "    array.append(list(map(int, input().split())))   # 전체 맵 정보\n",
    "\n",
    "# 북, 동, 남, 서 이동 좌표 지정(왼쪽을 바라보는 것 기준)\n",
    "dx = [-1, 0, 1, 0]\n",
    "dy = [0, 1, 0, -1]\n",
    "\n",
    "# 왼쪽으로 회전하는 함수\n",
    "def turn_left():\n",
    "    global direction\n",
    "    direction -= 1           # 왼쪽으로 회전\n",
    "    if direction == -1:     # -1은\n",
    "        direction = 3       # 서쪽\n",
    "\n",
    "# 시뮬레이션\n",
    "count = 1                   # 방문 칸 1(현재 칸 포함)\n",
    "turn_time = 0               # 해당 자리에서 회전 횟수\n",
    "while True:\n",
    "    turn_left()             # 왼쪽으로 회전\n",
    "    nx = x + dx[direction]  # 이동할 좌표\n",
    "    ny = y + dy[direction]  # 이동할 좌표\n",
    "    \n",
    "    # 회전한 이후 정면에 가보지 않은 칸이 존재\n",
    "    if d[nx][ny] == 0 and array[nx][ny] == 0:\n",
    "        d[nx][ny] = 1       # 방문한 칸으로 표시\n",
    "        x = nx              # 이동\n",
    "        y = ny              # 이동\n",
    "        count += 1          # 이동 횟수\n",
    "        turn_time = 0       # 방향 유지\n",
    "        continue\n",
    "        \n",
    "    # 회전한 이후 정면에 가보지 않은 칸이 없거나 바다\n",
    "    else:\n",
    "        turn_time += 1      # 해당 자리에서 회전(방향 변경)\n",
    "        \n",
    "    # 네 방향 모두 갈 수 없는 경우\n",
    "    if turn_time == 4:          # 회전을 모두 해서 다시 첫 방향에 돌아옴\n",
    "        nx = x - dx[direction]  # 뒤쪽으로 움직임\n",
    "        ny = y - dy[direction]  # 뒤쪽으로 움직임\n",
    "\n",
    "        if array[nx][ny] == 0:  # 뒤로 갈 수 있으면\n",
    "            x = nx              # 이동\n",
    "            y = ny              # 이동\n",
    "        else:                   # 뒤가 바다여서 못 가면\n",
    "            break               # 움직임 종료\n",
    "        turn_time = 0           # 방향 유지\n",
    "\n",
    "# 정답 출력\n",
    "print(count)"
   ]
  }
 ],
 "metadata": {
  "kernelspec": {
   "display_name": "Python 3",
   "language": "python",
   "name": "python3"
  },
  "language_info": {
   "codemirror_mode": {
    "name": "ipython",
    "version": 3
   },
   "file_extension": ".py",
   "mimetype": "text/x-python",
   "name": "python",
   "nbconvert_exporter": "python",
   "pygments_lexer": "ipython3",
   "version": "3.7.9"
  }
 },
 "nbformat": 4,
 "nbformat_minor": 5
}

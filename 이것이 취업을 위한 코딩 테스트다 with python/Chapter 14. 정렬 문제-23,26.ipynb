{
 "cells": [
  {
   "cell_type": "markdown",
   "id": "least-stamp",
   "metadata": {},
   "source": [
    "## 23. 국영수\n",
    "학생 N명에 대해 국어, 영어, 수학 점수가 주어졌을 때, \n",
    "1. 국어 점수 감소\n",
    "2. 국어 점수 같으면 영어 점수 증가\n",
    "3. 둘다 같으면 수학 점수 감소\n",
    "4. 셋 다 같으면 이름 사전순\n",
    "\n",
    "으로 이름 정렬하기"
   ]
  },
  {
   "cell_type": "markdown",
   "id": "retained-scholarship",
   "metadata": {},
   "source": [
    "### 수정 후 최종 풀이 - sorted() 사용"
   ]
  },
  {
   "cell_type": "code",
   "execution_count": 1,
   "id": "favorite-drive",
   "metadata": {},
   "outputs": [
    {
     "name": "stdout",
     "output_type": "stream",
     "text": [
      "4\n",
      "amy 10 19 7\n",
      "jenny 10 18 10\n",
      "james 9 15 17\n",
      "erin 14 15 17\n",
      "erin\n",
      "jenny\n",
      "amy\n",
      "james\n"
     ]
    }
   ],
   "source": [
    "n = int(input())\n",
    "\n",
    "lists = []\n",
    "for i in range(n):\n",
    "    input_data = input().split()\n",
    "    lists.append((input_data[0], int(input_data[1]), int(input_data[2]), int(input_data[3])))\n",
    "    \n",
    "# sorted() 사용\n",
    "lists = sorted(lists, key = lambda x: (-int(x[1]), int(x[2]), -int(x[3]), x[0]))    # default: 오름차순\n",
    "\n",
    "for i in lists:\n",
    "    print(i[0])"
   ]
  },
  {
   "cell_type": "markdown",
   "id": "broken-arrow",
   "metadata": {},
   "source": [
    "### 수정 후 최종 풀이 - sort() 사용"
   ]
  },
  {
   "cell_type": "code",
   "execution_count": 2,
   "id": "permanent-mongolia",
   "metadata": {
    "scrolled": true
   },
   "outputs": [
    {
     "name": "stdout",
     "output_type": "stream",
     "text": [
      "4\n",
      "amy 10 19 7\n",
      "jenny 10 18 10\n",
      " james 9 15 17 \n",
      "erin 14 15 17\n",
      "erin\n",
      "jenny\n",
      "amy\n",
      "james\n"
     ]
    }
   ],
   "source": [
    "n = int(input())\n",
    "\n",
    "lists = []\n",
    "for i in range(n):\n",
    "    input_data = input().split()\n",
    "    lists.append((input_data[0], int(input_data[1]), int(input_data[2]), int(input_data[3])))\n",
    "    \n",
    "# sort() 사용\n",
    "lists.sort(key = lambda x: (-int(x[1]), int(x[2]), -int(x[3]), x[0]))    # default: 오름차순\n",
    "\n",
    "for i in lists:\n",
    "    print(i[0])"
   ]
  },
  {
   "cell_type": "markdown",
   "id": "arbitrary-fruit",
   "metadata": {},
   "source": [
    "## 26. 카드 정렬하기\n",
    "\n",
    "n개의 묶음 중 두 묶음씩 더하여 하나로 만드는 데 수행해야하는 비교의 최소 횟수 구하기\n",
    "\n",
    "ex. A개, B개 묶음 2개 있다고 하면 A+B번의 비교가 필요함"
   ]
  },
  {
   "cell_type": "markdown",
   "id": "advisory-freight",
   "metadata": {},
   "source": [
    "### 최초 풀이"
   ]
  },
  {
   "cell_type": "code",
   "execution_count": 3,
   "id": "devoted-world",
   "metadata": {
    "scrolled": true
   },
   "outputs": [
    {
     "name": "stdout",
     "output_type": "stream",
     "text": [
      "4\n",
      "10\n",
      "10\n",
      "40\n",
      "50\n",
      "190\n"
     ]
    }
   ],
   "source": [
    "n = int(input())\n",
    "\n",
    "lists = []\n",
    "for i in range(n):\n",
    "    input_data = int(input())\n",
    "    lists.append(input_data)\n",
    "\n",
    "added = []                                      # 두 묶음의 합을 추가하는 리스트\n",
    " \n",
    "while len(lists) > 1:                          # 리스트의 묶음이 1개가 될 때까지 반복\n",
    "    lists.sort()                                # 오름차순 정렬\n",
    "    added.append(lists[0]+lists[1])             # 가장 작은 수를 가지는 두 개의 묶음의 합을 added 리스트에 추가\n",
    "    lists = lists[2:] + [lists[0]+lists[1]]    # 리스트 업데이트\n",
    "\n",
    "print(sum(added))                               # 합들의 합으로 최종 출력"
   ]
  },
  {
   "cell_type": "markdown",
   "id": "contemporary-watts",
   "metadata": {},
   "source": [
    "### 모범답안\n",
    "heap 자료 구조 활용"
   ]
  },
  {
   "cell_type": "code",
   "execution_count": 4,
   "id": "numerous-pension",
   "metadata": {},
   "outputs": [
    {
     "name": "stdout",
     "output_type": "stream",
     "text": [
      "4\n",
      "10\n",
      "10\n",
      "40\n",
      "50\n",
      "190\n"
     ]
    }
   ],
   "source": [
    "import heapq\n",
    "\n",
    "n = int(input())\n",
    "\n",
    "heap = []\n",
    "for i in range(n):\n",
    "    data = int(input())\n",
    "    heapq.heappush(heap, data)\n",
    "\n",
    "result = 0\n",
    "\n",
    "while len(heap) != 1:                       # 힙(Heap) 리스트의 묶음이 1개가 될 때까지 반복\n",
    "    one = heapq.heappop(heap)               # 가장 작은 묶음 꺼내기\n",
    "    two = heapq.heappop(heap)               # 2번째로 가장 작은 묶음 꺼내기\n",
    "\n",
    "    sum_value = one + two                   # 꺼낸 두 카드 묶음 합\n",
    "    result += sum_value                     # 이를 누적합\n",
    "    heapq.heappush(heap, sum_value)         # 합을 리스트에 다시 추가\n",
    "\n",
    "print(result)"
   ]
  }
 ],
 "metadata": {
  "kernelspec": {
   "display_name": "Python 3",
   "language": "python",
   "name": "python3"
  },
  "language_info": {
   "codemirror_mode": {
    "name": "ipython",
    "version": 3
   },
   "file_extension": ".py",
   "mimetype": "text/x-python",
   "name": "python",
   "nbconvert_exporter": "python",
   "pygments_lexer": "ipython3",
   "version": "3.7.9"
  }
 },
 "nbformat": 4,
 "nbformat_minor": 5
}

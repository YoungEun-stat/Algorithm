{
 "cells": [
  {
   "cell_type": "markdown",
   "id": "amateur-knock",
   "metadata": {},
   "source": [
    "### 순차탐색"
   ]
  },
  {
   "cell_type": "code",
   "execution_count": 1,
   "id": "nearby-beatles",
   "metadata": {},
   "outputs": [],
   "source": [
    "def sequential_search(n, target, array):\n",
    "    for i in range(n):\n",
    "        if array[i] == target:         # 현재의 원소가 찾고자 하는 원소와 동일하면\n",
    "            return i + 1              # 현재의 위치 반환\n",
    "    return -1                         # 원소를 찾지 못하면 -1 반환"
   ]
  },
  {
   "cell_type": "code",
   "execution_count": 2,
   "id": "british-pantyhose",
   "metadata": {},
   "outputs": [
    {
     "name": "stdout",
     "output_type": "stream",
     "text": [
      "생성할 원소 개수를 입력한 다음 한 칸 띄고 찾을 문자열을 입력하세요.\n",
      "5 동빈\n",
      "앞서 적은 원소 개수만큼 문자열을 입력하세요. 구분은 띄어쓰기 한 칸으로 합니다.\n",
      "한울 종구 동빈 태일 상욱\n",
      "3\n"
     ]
    }
   ],
   "source": [
    "print(\"생성할 원소 개수를 입력한 다음 한 칸 띄고 찾을 문자열을 입력하세요.\")\n",
    "input_data = input().split()\n",
    "n = int(input_data[0])          # 원소의 개수\n",
    "target = input_data[1]          # 찾고자 하는 문자열\n",
    "\n",
    "print(\"앞서 적은 원소 개수만큼 문자열을 입력하세요. 구분은 띄어쓰기 한 칸으로 합니다.\")  \n",
    "array = input().split()\n",
    "\n",
    "print(sequential_search(n, target, array))"
   ]
  },
  {
   "cell_type": "markdown",
   "id": "honest-westminster",
   "metadata": {},
   "source": [
    "### 이진탐색_재귀함수"
   ]
  },
  {
   "cell_type": "code",
   "execution_count": 3,
   "id": "satisfactory-surrey",
   "metadata": {},
   "outputs": [],
   "source": [
    "def binary_search(array, target, start, end):\n",
    "    if start > end:                                            # start index > end index 이면\n",
    "        return None                                           # 반환 x\n",
    "    \n",
    "    mid = (start + end) // 2                                   # 몫\n",
    "    \n",
    "    if array[mid] == target:                                   # 찾은 경우\n",
    "        return mid                                             # 중간점 index 반환\n",
    "    elif array[mid] > target:                                  # 중간점의 값보다 찾고자 하는 값이 작으면\n",
    "        return binary_search(array, target, start, mid - 1)    # 왼쪽(end=mid-1) 확인\n",
    "    else:                                                      # 중간점의 값보다 찾고자 하는 값이 크면\n",
    "        return binary_search(array, target, mid + 1, end)      # 오른쪽(start=mid+1) 확인"
   ]
  },
  {
   "cell_type": "code",
   "execution_count": 4,
   "id": "missing-holocaust",
   "metadata": {},
   "outputs": [
    {
     "name": "stdout",
     "output_type": "stream",
     "text": [
      "10 7\n",
      "1 3 5 7 9 11 13 15 17 19\n",
      "4\n"
     ]
    }
   ],
   "source": [
    "n, target = list(map(int, input().split()))\n",
    "array = list(map(int, input().split()))\n",
    "\n",
    "result = binary_search(array, target, 0, n - 1)\n",
    "\n",
    "if result == None:\n",
    "    print(\"원소가 존재하지 않습니다.\")\n",
    "else:\n",
    "    print(result + 1)"
   ]
  },
  {
   "cell_type": "markdown",
   "id": "flexible-simpson",
   "metadata": {},
   "source": [
    "### 이진탐색_반복문"
   ]
  },
  {
   "cell_type": "code",
   "execution_count": 5,
   "id": "relevant-walnut",
   "metadata": {},
   "outputs": [],
   "source": [
    "def binary_search(array, target, start, end):\n",
    "    while start <= end:\n",
    "        mid = (start + end) // 2         # 몫\n",
    "        if array[mid] == target:         # 찾은 경우\n",
    "            return mid                   # 중간점 index 반환\n",
    "        elif array[mid] > target:        # 중간점의 값보다 찾고자 하는 값이 작으면\n",
    "            end = mid - 1                # 왼쪽(end=mid-1) 확인\n",
    "        else:                            # 중간점의 값보다 찾고자 하는 값이 크면\n",
    "            start = mid + 1              # 오른쪽(start=mid+1) 확인\n",
    "    return None"
   ]
  },
  {
   "cell_type": "code",
   "execution_count": 6,
   "id": "appointed-genetics",
   "metadata": {},
   "outputs": [
    {
     "name": "stdout",
     "output_type": "stream",
     "text": [
      "10 7\n",
      "1 3 5 7 9 11 13 15 17 19\n",
      "4\n"
     ]
    }
   ],
   "source": [
    "n, target = list(map(int, input().split()))\n",
    "array = list(map(int, input().split()))\n",
    "\n",
    "result = binary_search(array, target, 0, n - 1)\n",
    "if result == None:\n",
    "    print(\"원소가 존재하지 않습니다.\")\n",
    "else:\n",
    "    print(result + 1)"
   ]
  },
  {
   "cell_type": "markdown",
   "id": "promotional-retention",
   "metadata": {},
   "source": [
    "### 부품 찾기\n",
    "매장에 있는 부품 N개 중 손님이 찾는 M개 종류의 부품이 모두 있는지 확인하기"
   ]
  },
  {
   "cell_type": "markdown",
   "id": "grand-evans",
   "metadata": {},
   "source": [
    "#### 이진탐색"
   ]
  },
  {
   "cell_type": "code",
   "execution_count": 7,
   "id": "charming-fusion",
   "metadata": {},
   "outputs": [
    {
     "name": "stdout",
     "output_type": "stream",
     "text": [
      "5\n",
      "8 3 7 9 2\n",
      "3\n",
      "5 7 9\n",
      "no yes yes "
     ]
    }
   ],
   "source": [
    "# 위에 구현한 이진탐색_반복문 함수 활용\n",
    "\n",
    "n = int(input())                                  # N: 가게의 부품 개수\n",
    "array = list(map(int, input().split()))           # 가게의 부품 번호\n",
    "array.sort()                                      # 오름차순 정렬\n",
    "m = int(input())                                  # M: 손님이 확인 요청한 부품 개수\n",
    "x = list(map(int, input().split()))               # X: 손님이 요청한 부품 번호\n",
    "\n",
    "for i in x:\n",
    "    result = binary_search(array, i, 0, n - 1)\n",
    "    if result != None:\n",
    "        print('yes', end=' ')\n",
    "    else:\n",
    "        print('no', end=' ')"
   ]
  },
  {
   "cell_type": "markdown",
   "id": "equivalent-strategy",
   "metadata": {},
   "source": [
    "#### 계수 정렬"
   ]
  },
  {
   "cell_type": "code",
   "execution_count": 9,
   "id": "continental-being",
   "metadata": {},
   "outputs": [
    {
     "name": "stdout",
     "output_type": "stream",
     "text": [
      "5\n",
      "8 3 7 9 2\n",
      "3\n",
      "5 7 9\n",
      "no yes yes "
     ]
    }
   ],
   "source": [
    "n = int(input())                            # N: 가게의 부품 개수\n",
    "array = [0] * 1000001\n",
    "\n",
    "for i in input().split():                  # 가게에 있는 전체 부품 번호를 index로\n",
    "    array[int(i)] = 1                       # index에 해당하는 부품이 있으면 value 1\n",
    "\n",
    "m = int(input())                            # M: 손님이 확인 요청한 부품 개수\n",
    "x = list(map(int, input().split()))         # X: 손님이 요청한 부품 번호\n",
    "\n",
    "for i in x:\n",
    "    if array[i] == 1:\n",
    "        print('yes', end=' ')\n",
    "    else:\n",
    "        print('no', end=' ')"
   ]
  },
  {
   "cell_type": "markdown",
   "id": "valuable-digit",
   "metadata": {},
   "source": [
    "#### 집합 자료형 이용"
   ]
  },
  {
   "cell_type": "code",
   "execution_count": 10,
   "id": "liberal-color",
   "metadata": {},
   "outputs": [
    {
     "name": "stdout",
     "output_type": "stream",
     "text": [
      "5\n",
      "8 3 7 9 2\n",
      "3\n",
      "5 7 9\n",
      "no yes yes "
     ]
    }
   ],
   "source": [
    "n = int(input())                            # N: 가게의 부품 개수\n",
    "array = set(map(int, input().split()))      # 가게의 부품 번호\n",
    "m = int(input())                            # M: 손님이 확인 요청한 부품 개수\n",
    "x = list(map(int, input().split()))         # X: 손님이 요청한 부품 번호\n",
    "\n",
    "for i in x:\n",
    "    if i in array:\n",
    "        print('yes', end=' ')\n",
    "    else:\n",
    "        print('no', end=' ')"
   ]
  },
  {
   "cell_type": "markdown",
   "id": "exterior-writer",
   "metadata": {},
   "source": [
    "### 떡볶이 떡 만들기\n",
    "\n",
    "손님이 적어도 M만큼의 떡을 얻기 위해 절단기에 설정할 수 있는 높이의 최댓값 구하기"
   ]
  },
  {
   "cell_type": "code",
   "execution_count": 11,
   "id": "binary-denver",
   "metadata": {},
   "outputs": [
    {
     "name": "stdout",
     "output_type": "stream",
     "text": [
      "4 6\n",
      "19 15 10 17\n",
      "15\n"
     ]
    }
   ],
   "source": [
    "n, m = list(map(int, input().split(' ')))\n",
    "array = list(map(int, input().split()))\n",
    "\n",
    "start = 0\n",
    "end = max(array)\n",
    "\n",
    "# 이진 탐색 수행\n",
    "result = 0\n",
    "\n",
    "while(start <= end):\n",
    "    total = 0\n",
    "    mid = (start + end) // 2\n",
    "    \n",
    "    for x in array:   \n",
    "        if x > mid:\n",
    "            total += x - mid      # 잘랐을 때의 떡볶이 양 계산\n",
    "            \n",
    "    if total < m:                 # 떡볶이 양이 부족한 경우\n",
    "        end = mid - 1             # 더 많이 자르기 (오른쪽 부분 탐색)\n",
    "        \n",
    "    else:                         # 떡볶이 양이 충분한 경우\n",
    "        result = mid              # 최대 높이 업데이트\n",
    "        start = mid + 1           # 덜 자르기 (왼쪽 부분 탐색)\n",
    "\n",
    "print(result)"
   ]
  }
 ],
 "metadata": {
  "kernelspec": {
   "display_name": "Python 3",
   "language": "python",
   "name": "python3"
  },
  "language_info": {
   "codemirror_mode": {
    "name": "ipython",
    "version": 3
   },
   "file_extension": ".py",
   "mimetype": "text/x-python",
   "name": "python",
   "nbconvert_exporter": "python",
   "pygments_lexer": "ipython3",
   "version": "3.7.9"
  }
 },
 "nbformat": 4,
 "nbformat_minor": 5
}

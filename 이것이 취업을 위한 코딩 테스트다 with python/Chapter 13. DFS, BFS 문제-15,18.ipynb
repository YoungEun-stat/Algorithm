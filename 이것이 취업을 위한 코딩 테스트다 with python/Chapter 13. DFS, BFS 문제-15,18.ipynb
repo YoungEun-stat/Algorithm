{
 "cells": [
  {
   "cell_type": "markdown",
   "id": "alive-petite",
   "metadata": {},
   "source": [
    "## 특정 거리의 도시 찾기\n",
    "\n",
    "도시와 각 도시를 연결하는 단뱡향 도로가 존재할 때, X 도시에서 출발하여 도달할 수 있는 도시 중에서 최단거리가 K인 도시의 번호 추출하기"
   ]
  },
  {
   "cell_type": "markdown",
   "id": "according-communist",
   "metadata": {},
   "source": [
    "### 모범 답안"
   ]
  },
  {
   "cell_type": "code",
   "execution_count": 1,
   "id": "under-category",
   "metadata": {},
   "outputs": [
    {
     "name": "stdout",
     "output_type": "stream",
     "text": [
      "4 4 2 1\n",
      "1 2\n",
      "1 3\n",
      "2 4\n",
      "2 3\n",
      "deque([2])\n",
      "deque([2, 3])\n",
      "deque([3, 4])\n",
      "4\n"
     ]
    }
   ],
   "source": [
    "from collections import deque\n",
    "\n",
    "n, m, k, x = map(int, input().split())\n",
    "graph = [[] for _ in range(n + 1)]\n",
    "\n",
    "for _ in range(m):                          # 모든 도로 정보 입력 받기\n",
    "    a, b = map(int, input().split())        # a: 출발, b: 도착\n",
    "    graph[a].append(b)                      # a에서 갈 수 있는 위치 b를 a번째에 저장\n",
    "\n",
    "    \n",
    "distance = [-1] * (n + 1)                   # 모든 도시에 대한 최단 거리 초기화\n",
    "distance[x] = 0                             # 출발 도시까지의 거리는 0으로 설정(이동거리 초기화)\n",
    "\n",
    "q = deque([x])                              # x가 있는 큐를 생성\n",
    "\n",
    "while q:\n",
    "    now = q.popleft()                       # 현재 위치 q에서 제거, now에 할당\n",
    "\n",
    "    for next_node in graph[now]:           # 현재 도시에서 이동할 수 있는 모든 도시에 대해\n",
    "\n",
    "        if distance[next_node] == -1:                       # 아직 방문하지 않은 도시면\n",
    "            distance[next_node] = distance[now] + 1         # 최단 거리 갱신(이동 횟수 누적합)\n",
    "            q.append(next_node)                             # 큐에 방문 도시 추가\n",
    "            print(q)\n",
    "\n",
    "check = False\n",
    "for i in range(1, n + 1):                  # 최단 거리가 K인 모든 도시의 번호를 오름차순으로 출력\n",
    "    if distance[i] == k:                   # 이동횟수가 k이면\n",
    "        print(i)                            # 그 때의 node 출력\n",
    "        check = True                       # check\n",
    "\n",
    "\n",
    "if check == False:                         # 만약 최단 거리가 K인 도시가 없다면\n",
    "    print(-1)                               # -1 출력"
   ]
  },
  {
   "cell_type": "markdown",
   "id": "brown-donor",
   "metadata": {},
   "source": [
    "## 괄호 변환\n",
    "\n",
    "균형잡힌 괄호 문자열 p가 매개변수로 주어질 때, 주어진 규칙을 활용하여 올바른 괄호 문자열을 뽑아내기"
   ]
  },
  {
   "cell_type": "markdown",
   "id": "rough-drilling",
   "metadata": {},
   "source": [
    "### 모범 답안"
   ]
  },
  {
   "cell_type": "code",
   "execution_count": 3,
   "id": "colonial-laundry",
   "metadata": {},
   "outputs": [],
   "source": [
    "def balanced_index(p):\n",
    "    count = 0                       # 왼쪽 괄호의 개수\n",
    "    for i in range(len(p)):\n",
    "        if p[i] == '(':\n",
    "            count += 1\n",
    "        else:\n",
    "            count -= 1\n",
    "        if count == 0:\n",
    "            return i\n",
    "\n",
    "def check_proper(p):\n",
    "    count = 0                        # 왼쪽 괄호의 개수 초기화\n",
    "    for i in p:\n",
    "        if i == '(':                 # 왼쪽 괄호면\n",
    "            count += 1               # 왼쪽 괄호의 개수 update\n",
    "        else:                        # 오른쪽 괄호면\n",
    "            if count == 0:           # 문자열의 첫 문자가 )이거나 쌍이 완성된 후 )가 나오는 경우  ex. )((())) or ()) \n",
    "                return False        # 왼쪽부터 쌍 생성 불가\n",
    "            count -= 1               # 쌍이 되어 상쇄\n",
    "    return True                     # 왼쪽부터 쌍이 맞는 경우 True 반환\n",
    "\n",
    "def solution(p):\n",
    "    answer = ''\n",
    "    \n",
    "    if p == '':                       # 빈 문자열이면\n",
    "        return answer                 # 빈 문자열 반환\n",
    "    \n",
    "    index = balanced_index(p)         # split 기준 index\n",
    "    u = p[:index + 1]                 # u 생성\n",
    "    v = p[index + 1:]                 # v 생성\n",
    "    \n",
    "    if check_proper(u):               # \"올바른 괄호 문자열\"이면\n",
    "        answer = u + solution(v)      # v에 대해 과정 재수행\n",
    "    \n",
    "    else:                             # \"올바른 괄호 문자열\"이 아니라면\n",
    "        answer = '('                  # 첫 번째 문자로 '('를 붙임\n",
    "        answer += solution(v)         # 첫 문자열에 v에 대해 과정 재수행한 것 붙임\n",
    "        answer += ')'                 # 괄호 닫음(마지막 문자)\n",
    "        \n",
    "        u = list(u[1:-1])             # u의 첫 번째와 마지막 문자를 제거\n",
    "        for i in range(len(u)):       # 나머지 문자열에 대해\n",
    "            if u[i] == '(':           # 괄호 방향 뒤집기\n",
    "                u[i] = ')'\n",
    "            else:\n",
    "                u[i] = '('\n",
    "        answer += \"\".join(u)           # u + v\n",
    "    return answer"
   ]
  },
  {
   "cell_type": "code",
   "execution_count": 4,
   "id": "minor-faith",
   "metadata": {},
   "outputs": [
    {
     "data": {
      "text/plain": [
       "'(()())()'"
      ]
     },
     "execution_count": 4,
     "metadata": {},
     "output_type": "execute_result"
    }
   ],
   "source": [
    "solution('(()())()')"
   ]
  },
  {
   "cell_type": "code",
   "execution_count": 6,
   "id": "scenic-kernel",
   "metadata": {},
   "outputs": [
    {
     "data": {
      "text/plain": [
       "'(()())'"
      ]
     },
     "execution_count": 6,
     "metadata": {},
     "output_type": "execute_result"
    }
   ],
   "source": [
    "solution(')())((')"
   ]
  }
 ],
 "metadata": {
  "kernelspec": {
   "display_name": "Python 3",
   "language": "python",
   "name": "python3"
  },
  "language_info": {
   "codemirror_mode": {
    "name": "ipython",
    "version": 3
   },
   "file_extension": ".py",
   "mimetype": "text/x-python",
   "name": "python",
   "nbconvert_exporter": "python",
   "pygments_lexer": "ipython3",
   "version": "3.7.9"
  }
 },
 "nbformat": 4,
 "nbformat_minor": 5
}

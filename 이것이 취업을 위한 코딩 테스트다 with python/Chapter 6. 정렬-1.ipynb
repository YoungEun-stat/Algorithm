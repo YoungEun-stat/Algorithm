{
 "cells": [
  {
   "cell_type": "markdown",
   "id": "entitled-label",
   "metadata": {},
   "source": [
    "### 선택 정렬"
   ]
  },
  {
   "cell_type": "code",
   "execution_count": 1,
   "id": "typical-japanese",
   "metadata": {},
   "outputs": [
    {
     "name": "stdout",
     "output_type": "stream",
     "text": [
      "[0, 1, 2, 3, 4, 5, 6, 7, 8, 9]\n"
     ]
    }
   ],
   "source": [
    "array = [7, 5, 9, 0, 3, 1, 6, 2, 4, 8]\n",
    "\n",
    "for i in range(len(array)):\n",
    "    min_index = i                                             # 가장 작은 원소의 인덱스\n",
    "    for j in range(i + 1, len(array)):                       # 그 인덱스 뒤에 있는 원소들의 index에 대해(i < j)\n",
    "        if array[min_index] > array[j]:                      # i 인덱스를 가지는 원소가 j 인덱스 원소보다 크면(앞 인덱스보다 큰 것)\n",
    "            min_index = j                                    # 가장 작은 원소의 인덱스 업데이트\n",
    "    array[i], array[min_index] = array[min_index], array[i]  # 두 원소 자리 바꾸기\n",
    "\n",
    "print(array)"
   ]
  },
  {
   "cell_type": "markdown",
   "id": "perfect-amsterdam",
   "metadata": {},
   "source": [
    "### 삽입 정렬"
   ]
  },
  {
   "cell_type": "code",
   "execution_count": 2,
   "id": "restricted-kitty",
   "metadata": {},
   "outputs": [
    {
     "name": "stdout",
     "output_type": "stream",
     "text": [
      "[0, 1, 2, 3, 4, 5, 6, 7, 8, 9]\n"
     ]
    }
   ],
   "source": [
    "array = [7, 5, 9, 0, 3, 1, 6, 2, 4, 8]\n",
    "\n",
    "for i in range(1, len(array)):\n",
    "    for j in range(i, 0, -1):                                      # i보다 앞에 있는 데이터에 대해\n",
    "        if array[j] < array[j - 1]:                                # j번째 데이터보다 그 앞의 데이터가 크면\n",
    "            array[j], array[j - 1] = array[j - 1], array[j]        # 한 칸씩 왼쪽으로 이동\n",
    "        else:                                                      # 자신보다 작은 데이터를 만나면 \n",
    "            break                                                  # 그 위치에서 멈춤\n",
    "\n",
    "print(array)"
   ]
  },
  {
   "cell_type": "markdown",
   "id": "related-newport",
   "metadata": {},
   "source": [
    "### 퀵 정렬 1"
   ]
  },
  {
   "cell_type": "code",
   "execution_count": 3,
   "id": "still-smooth",
   "metadata": {},
   "outputs": [
    {
     "name": "stdout",
     "output_type": "stream",
     "text": [
      "[0, 1, 2, 3, 4, 5, 6, 7, 8, 9]\n"
     ]
    }
   ],
   "source": [
    "array = [5, 7, 9, 0, 3, 1, 6, 2, 4, 8]\n",
    "\n",
    "def quick_sort(array, start, end):\n",
    "    if start >= end:                                                # 원소가 1개인 경우\n",
    "        return array                                                # 정렬할 것이 없음\n",
    "    pivot = start                                                    # 첫 번째 원소의 index \n",
    "    left = start + 1                                                 # 두 번째 원소의 index\n",
    "    right = end                                                      # 마지막 원소의 index\n",
    "    while(left <= right):\n",
    "        \n",
    "        while(left <= end and array[left] <= array[pivot]):         # 피벗보다 큰 데이터를 찾을 때까지 반복 \n",
    "            left += 1                                                # 오른쪽으로 한 칸 이동\n",
    "        \n",
    "        while(right > start and array[right] >= array[pivot]):      # 피벗보다 작은 데이터를 찾을 때까지 반복\n",
    "            right -= 1                                               # 왼쪽으로 한 칸 이동\n",
    "            \n",
    "        if(left > right):                                            # 엇갈렸다면\n",
    "            array[right], array[pivot] = array[pivot], array[right]  # right index에 해당하는 데이터와 피벗을 교체\n",
    "        else:                                                        # 엇갈리지 않았다면\n",
    "            array[left], array[right] = array[right], array[left]    # right index에 해당하는 데이터와 left index에 해당하는 데이터를 교체\n",
    "    \n",
    "    quick_sort(array, start, right - 1)                              # 분할 이후 피벗 왼쪽 부분에서 정렬 수행\n",
    "    quick_sort(array, right + 1, end)                                # 분할 이후 피벗 오른쪽 부분에서 정렬 수행\n",
    "\n",
    "quick_sort(array, 0, len(array) - 1)\n",
    "print(array)"
   ]
  },
  {
   "cell_type": "markdown",
   "id": "monetary-trinity",
   "metadata": {},
   "source": [
    "### 퀵 정렬 2"
   ]
  },
  {
   "cell_type": "code",
   "execution_count": 4,
   "id": "intelligent-semester",
   "metadata": {},
   "outputs": [
    {
     "name": "stdout",
     "output_type": "stream",
     "text": [
      "[0, 1, 2, 3, 4, 5, 6, 7, 8, 9]\n"
     ]
    }
   ],
   "source": [
    "array = [5, 7, 9, 0, 3, 1, 6, 2, 4, 8]\n",
    "\n",
    "def quick_sort(array):\n",
    "    \n",
    "    if len(array) <= 1:                                                # 원소가 1개인 경우\n",
    "        return array                                                   # 그대로 뽑음(정렬x)\n",
    "\n",
    "    pivot = array[0]                                                    # 피벗은 첫 번째 원소\n",
    "    tail = array[1:]                                                    # 피벗을 제외한 리스트\n",
    "\n",
    "    left_side = [x for x in tail if x <= pivot]                        # 분할된 왼쪽 부분\n",
    "    right_side = [x for x in tail if x > pivot]                        # 분할된 오른쪽 부분\n",
    "\n",
    "    return quick_sort(left_side) + [pivot] + quick_sort(right_side)\n",
    "\n",
    "print(quick_sort(array))"
   ]
  },
  {
   "cell_type": "markdown",
   "id": "worthy-objective",
   "metadata": {},
   "source": [
    "### 계수 정렬"
   ]
  },
  {
   "cell_type": "code",
   "execution_count": 5,
   "id": "bronze-monitor",
   "metadata": {},
   "outputs": [
    {
     "name": "stdout",
     "output_type": "stream",
     "text": [
      "0 0 1 1 2 2 3 4 5 5 6 7 8 9 9 "
     ]
    }
   ],
   "source": [
    "array = [7, 5, 9, 0, 3, 1, 6, 2, 9, 1, 4, 8, 0, 5, 2]\n",
    "\n",
    "count = [0] * (max(array) + 1)                 # 리스트 초기화\n",
    "\n",
    "for i in range(len(array)):\n",
    "    count[array[i]] += 1                       # array[i]가 index 역할, 이 값을 갖는 데이터 수 count로 채워나감\n",
    "\n",
    "for i in range(len(count)):                    # index 개수만큼\n",
    "    for j in range(count[i]):                  # 개별 index의 count 수 만큼\n",
    "        print(i, end=' ')                      # count 수 만큼 index 반복 출력"
   ]
  }
 ],
 "metadata": {
  "kernelspec": {
   "display_name": "Python 3",
   "language": "python",
   "name": "python3"
  },
  "language_info": {
   "codemirror_mode": {
    "name": "ipython",
    "version": 3
   },
   "file_extension": ".py",
   "mimetype": "text/x-python",
   "name": "python",
   "nbconvert_exporter": "python",
   "pygments_lexer": "ipython3",
   "version": "3.7.9"
  }
 },
 "nbformat": 4,
 "nbformat_minor": 5
}

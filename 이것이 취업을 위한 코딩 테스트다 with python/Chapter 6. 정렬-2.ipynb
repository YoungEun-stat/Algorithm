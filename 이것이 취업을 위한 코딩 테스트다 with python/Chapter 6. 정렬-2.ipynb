{
 "cells": [
  {
   "cell_type": "markdown",
   "id": "comic-charter",
   "metadata": {},
   "source": [
    "## 위에서 아래로\n",
    "N개의 수를 내림차순으로 정렬하기"
   ]
  },
  {
   "cell_type": "code",
   "execution_count": 1,
   "id": "rural-slave",
   "metadata": {},
   "outputs": [
    {
     "name": "stdout",
     "output_type": "stream",
     "text": [
      "5\n",
      "20\n",
      "35\n",
      "6\n",
      "23\n",
      "1\n",
      "35 23 20 6 1 "
     ]
    }
   ],
   "source": [
    "n = int(input())\n",
    "\n",
    "array = []\n",
    "for i in range(n):\n",
    "    array.append(int(input()))\n",
    "\n",
    "array = sorted(array, reverse=True)   # 리스트 형태\n",
    "\n",
    "for i in array:                       # 리스트의 원소 차례로 반환\n",
    "    print(i, end=' ')"
   ]
  },
  {
   "cell_type": "markdown",
   "id": "powerful-haiti",
   "metadata": {},
   "source": [
    "## 성적이 낮은 순서로 학생 출력하기\n",
    "N명의 학생 정보(이름, 성적)가 주어졌을 때 성적이 낮은 순서대로 학생의 이름을 출력하기"
   ]
  },
  {
   "cell_type": "code",
   "execution_count": 2,
   "id": "atmospheric-budget",
   "metadata": {},
   "outputs": [
    {
     "name": "stdout",
     "output_type": "stream",
     "text": [
      "2\n",
      "홍길동 95\n",
      "이순신 77\n",
      "이순신 홍길동 "
     ]
    }
   ],
   "source": [
    "n = int(input())\n",
    "\n",
    "array = []\n",
    "for i in range(n):\n",
    "    input_data = input().split()\n",
    "    array.append((input_data[0], int(input_data[1])))    # 튜플 형태로 저장(이름, 점수)\n",
    "\n",
    "array = sorted(array, key=lambda student: student[1])   # key를 활용하여 정수 기준으로 정렬\n",
    "\n",
    "for student in array:                                   # 리스트의 원소를 차례대로 반환\n",
    "    print(student[0], end=' ')"
   ]
  },
  {
   "cell_type": "markdown",
   "id": "seasonal-summit",
   "metadata": {},
   "source": [
    "## 두 배열의 원소 교체\n",
    "배열 A, B가 주어지고, 최대 K번의 바꿔치기 연산을 수행할 수 있을 때, 만들 수 있는 배열 A의 모든 원소의 합이 최대가 되도록 만들기"
   ]
  },
  {
   "cell_type": "code",
   "execution_count": 3,
   "id": "hairy-clarity",
   "metadata": {},
   "outputs": [
    {
     "name": "stdout",
     "output_type": "stream",
     "text": [
      "5 4\n",
      "1 2 5 4 3\n",
      "5 5 6 6 5\n",
      "27\n"
     ]
    }
   ],
   "source": [
    "n, k = map(int, input().split()) \n",
    "a = list(map(int, input().split())) \n",
    "b = list(map(int, input().split()))\n",
    "\n",
    "a.sort()                          # 배열 A 오름차순 정렬\n",
    "b.sort(reverse=True)             # 배열 B 내림차순 정렬\n",
    "\n",
    "for i in range(k):               # 최대 K번의 바꿔치기\n",
    "    if a[i] < b[i]:              # A의 원소가 B의 원소보다 작으면\n",
    "        a[i], b[i] = b[i], a[i]  # 두 원소를 교체\n",
    "    else:                       # A의 원소가 B의 원소보다 크거나 같으면\n",
    "        break                   # 반복 중지\n",
    "\n",
    "print(sum(a))"
   ]
  }
 ],
 "metadata": {
  "kernelspec": {
   "display_name": "Python 3",
   "language": "python",
   "name": "python3"
  },
  "language_info": {
   "codemirror_mode": {
    "name": "ipython",
    "version": 3
   },
   "file_extension": ".py",
   "mimetype": "text/x-python",
   "name": "python",
   "nbconvert_exporter": "python",
   "pygments_lexer": "ipython3",
   "version": "3.7.9"
  }
 },
 "nbformat": 4,
 "nbformat_minor": 5
}

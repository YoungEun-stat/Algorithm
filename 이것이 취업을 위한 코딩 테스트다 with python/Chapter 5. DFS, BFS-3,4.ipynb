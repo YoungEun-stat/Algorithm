{
 "cells": [
  {
   "cell_type": "markdown",
   "id": "minor-organization",
   "metadata": {},
   "source": [
    "### 음료수 얼려 먹기"
   ]
  },
  {
   "cell_type": "code",
   "execution_count": 1,
   "id": "about-homeless",
   "metadata": {},
   "outputs": [
    {
     "name": "stdout",
     "output_type": "stream",
     "text": [
      "4 5\n",
      "00110\n",
      "00011\n",
      "11110\n",
      "00101\n",
      "5\n"
     ]
    }
   ],
   "source": [
    "n, m = map(int, input().split())\n",
    "\n",
    "# 맵 정보 받기\n",
    "graph = []\n",
    "for i in range(n):\n",
    "    graph.append(list(map(int, input())))\n",
    "\n",
    "# dfs 함수 생성\n",
    "def dfs(x, y):\n",
    "    if x <= -1 or x >= n or y <= -1 or y >= m:  # 주어진 범위를 벗어나는 경우에는 \n",
    "        return False                             # 탐색 종료\n",
    "  \n",
    "    if graph[x][y] == 0:                          # 현재 노드를 아직 방문하지 않았다면\n",
    "        graph[x][y] = 1                           # 현재 노드 방문 처리\n",
    " \n",
    "        dfs(x - 1, y)                             # 현재 노드 중심으로 좌 \n",
    "        dfs(x, y - 1)                             # 하\n",
    "        dfs(x + 1, y)                             # 우\n",
    "        dfs(x, y + 1)                             # 상 재귀적으로 호출\n",
    "        return True                              # 묶음 생성 완료\n",
    "        \n",
    "    return False                                 # 이미 방문한 곳이면 묶음 생성 불가\n",
    " \n",
    "# 모든 노드(위치)에 대하여 탐색\n",
    "result = 0                                        # 묶음 생성 개수 초기화\n",
    "for i in range(n):                               # 모든 행에 대해\n",
    "    for j in range(m):                           # 모든 열에 대해\n",
    "        if dfs(i, j) == True:                   # 현재 위치에서 DFS 수행\n",
    "            result += 1                          # 묶음 개수 update\n",
    "\n",
    "print(result)"
   ]
  },
  {
   "cell_type": "markdown",
   "id": "artificial-junior",
   "metadata": {},
   "source": [
    "### 미로 탈출"
   ]
  },
  {
   "cell_type": "code",
   "execution_count": 2,
   "id": "operating-burning",
   "metadata": {},
   "outputs": [
    {
     "name": "stdout",
     "output_type": "stream",
     "text": [
      "5 6\n",
      "101010\n",
      "111111\n",
      "000010\n",
      "110110\n",
      "111111\n",
      "10\n"
     ]
    }
   ],
   "source": [
    "from collections import deque\n",
    "\n",
    "n, m = map(int, input().split())\n",
    "\n",
    "# 맵 정보 받기\n",
    "graph = []\n",
    "for i in range(n):\n",
    "    graph.append(list(map(int, input())))\n",
    "\n",
    "# 이동 방향\n",
    "dx = [-1, 1, 0, 0]\n",
    "dy = [0, 0, -1, 1]\n",
    "\n",
    "# BFS 함수 생성\n",
    "def bfs(x, y):\n",
    "    queue = deque()\n",
    "    queue.append((x, y))                                    # 초기값(입구) 큐에 추가\n",
    "\n",
    "    while queue:                                           # 큐가 빌 때까지 반복\n",
    "        x, y = queue.popleft()\n",
    "    \n",
    "        for i in range(4):                                 # 현재 위치에서 상, 하, 좌, 우 확인\n",
    "            nx = x + dx[i]                                 # 다음 노드 update\n",
    "            ny = y + dy[i]\n",
    "\n",
    "            if nx < 0 or nx >= n or ny < 0 or ny >= m:    # 다음 노드가 미로의 범위 벗어나면\n",
    "                continue                                   # 무시\n",
    "            \n",
    "            if graph[nx][ny] == 0:                         # 다음 노드가 미로의 벽이면\n",
    "                continue                                   # 무시\n",
    "            \n",
    "            if graph[nx][ny] == 1:                         # 다음 노드를 처음 방문하면\n",
    "                graph[nx][ny] = graph[x][y] + 1             # 해당 노드에 +1 (방문 update)\n",
    "                queue.append((nx, ny))                      # 큐에 해당 노드 추가\n",
    "\n",
    "    return graph[n - 1][m - 1]                            # 가장 오른쪽 아래(출구)까지의 최단 거리 반환\n",
    "\n",
    "print(bfs(0, 0))"
   ]
  }
 ],
 "metadata": {
  "kernelspec": {
   "display_name": "Python 3",
   "language": "python",
   "name": "python3"
  },
  "language_info": {
   "codemirror_mode": {
    "name": "ipython",
    "version": 3
   },
   "file_extension": ".py",
   "mimetype": "text/x-python",
   "name": "python",
   "nbconvert_exporter": "python",
   "pygments_lexer": "ipython3",
   "version": "3.7.9"
  }
 },
 "nbformat": 4,
 "nbformat_minor": 5
}

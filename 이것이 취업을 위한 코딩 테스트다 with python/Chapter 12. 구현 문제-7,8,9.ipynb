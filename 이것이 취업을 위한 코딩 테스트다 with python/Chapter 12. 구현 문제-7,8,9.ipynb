{
 "cells": [
  {
   "cell_type": "markdown",
   "id": "bronze-compiler",
   "metadata": {},
   "source": [
    "## 7. 럭키 스트레이트\n",
    "정수 N이 반으로 나누었을 때 왼쪽과 오른쪽의 각 자리수의 숫자들의 합이 일치하면 'LUCKY', 불일치하면 'READY'를 출력하기"
   ]
  },
  {
   "cell_type": "markdown",
   "id": "higher-track",
   "metadata": {},
   "source": [
    "### 최초 풀이"
   ]
  },
  {
   "cell_type": "code",
   "execution_count": 1,
   "id": "indonesian-plymouth",
   "metadata": {},
   "outputs": [
    {
     "name": "stdout",
     "output_type": "stream",
     "text": [
      "123402\n",
      "LUCKY\n"
     ]
    }
   ],
   "source": [
    "n = input()\n",
    "\n",
    "length = int(len(n)/2)      # 자리수 갯수의 반(float를 int로 변경)\n",
    "before = list(n[:length])   # 왼쪽 숫자들 리스트\n",
    "after = list(n[length:])    # 오른쪽 숫자들 리스트\n",
    "\n",
    "if sum(list(map(int,before))) == sum(list(map(int, after))):   # 리스트의 원소를 int로 바꾸고, 이들 각각의 합이 같으면\n",
    "    print('LUCKY')                                             # 'LUCKY' 출력\n",
    "else:                                                          # 아니면\n",
    "    print('READY')                                             # 'READY' 출력"
   ]
  },
  {
   "cell_type": "markdown",
   "id": "spatial-escape",
   "metadata": {},
   "source": [
    "### 수정 후 최종 풀이\n",
    "리스트/정수 처리 과정 순서 변경, // 사용"
   ]
  },
  {
   "cell_type": "code",
   "execution_count": 2,
   "id": "signal-album",
   "metadata": {},
   "outputs": [
    {
     "name": "stdout",
     "output_type": "stream",
     "text": [
      "123402\n",
      "LUCKY\n"
     ]
    }
   ],
   "source": [
    "n = list(map(int, input()))      # 받아온 문자열을 정수로 리스트화\n",
    "\n",
    "length = len(n)//2               # //는 몫을 반환하므로 정수\n",
    "before = n[:length]              # 이후 과정 동일\n",
    "after = n[length:]\n",
    "\n",
    "if sum(before) == sum(after):\n",
    "    print('LUCKY')\n",
    "else:\n",
    "    print('READY')"
   ]
  },
  {
   "cell_type": "markdown",
   "id": "overall-grave",
   "metadata": {},
   "source": [
    "### 모범답안"
   ]
  },
  {
   "cell_type": "code",
   "execution_count": 3,
   "id": "scenic-salvation",
   "metadata": {},
   "outputs": [
    {
     "name": "stdout",
     "output_type": "stream",
     "text": [
      "549213\n",
      "READY\n"
     ]
    }
   ],
   "source": [
    "n = input()\n",
    "length = len(n)       # 자릿수\n",
    "summary = 0\n",
    "\n",
    "# 왼쪽 부분 숫자 합\n",
    "for i in range(length // 2):\n",
    "    summary += int(n[i])          # 왼쪽 부분 숫자 합\n",
    "\n",
    "# 오른쪽 부분 숫자 합\n",
    "for i in range(length // 2, length):\n",
    "    summary -= int(n[i])           # 왼쪽 부분 숫자 합에서 순차적으로 빼줌\n",
    "\n",
    "if summary == 0:     # 숫자 합이 동일하면\n",
    "    print(\"LUCKY\")   # 'LUCKY' 출력\n",
    "else:\n",
    "    print(\"READY\")"
   ]
  },
  {
   "cell_type": "markdown",
   "id": "governmental-utilization",
   "metadata": {},
   "source": [
    "## 8. 문자열 재정렬\n",
    "대문자와 숫자가 섞인 문자열을 알파벳(오름차순)+숫자합으로 바꿔서 출력하기"
   ]
  },
  {
   "cell_type": "markdown",
   "id": "upset-candle",
   "metadata": {},
   "source": [
    "### 최초 풀이"
   ]
  },
  {
   "cell_type": "code",
   "execution_count": 4,
   "id": "sixth-springfield",
   "metadata": {},
   "outputs": [
    {
     "name": "stdout",
     "output_type": "stream",
     "text": [
      "D83KGL10G89\n"
     ]
    },
    {
     "data": {
      "text/plain": [
       "'DGGKL29'"
      ]
     },
     "execution_count": 4,
     "metadata": {},
     "output_type": "execute_result"
    }
   ],
   "source": [
    "n = input()\n",
    "n = sorted(n)\n",
    "\n",
    "number = []\n",
    "string = []\n",
    "\n",
    "for i in n:\n",
    "    if i.isnumeric():           # 숫자면\n",
    "        number.append(int(i))   # 숫자 리스트에 추가\n",
    "    else:                       # 문자면\n",
    "        string.append(i)        # 문자 리스트에 추가\n",
    "        \n",
    "result = ''.join(string) + str(sum(number))   # 문자열로 join + 리스트 안 숫자합을 문자로 바꿔 합치기\n",
    "result"
   ]
  },
  {
   "cell_type": "markdown",
   "id": "expired-drove",
   "metadata": {},
   "source": [
    "### 수정 후 최종 풀이\n",
    "숫자가 없는 경우 합이 0이기 때문에 뒤에 0이 출력되는 것을 출력되지 않게 수정"
   ]
  },
  {
   "cell_type": "code",
   "execution_count": 5,
   "id": "native-monitor",
   "metadata": {},
   "outputs": [
    {
     "name": "stdout",
     "output_type": "stream",
     "text": [
      "DOWMBNLD\n",
      "BDDLMNOW\n"
     ]
    }
   ],
   "source": [
    "n = input()\n",
    "n = sorted(n)\n",
    "\n",
    "number = []\n",
    "string = []\n",
    "\n",
    "for i in n:\n",
    "    if i.isnumeric():\n",
    "        number.append(int(i))\n",
    "    else:\n",
    "        string.append(i)\n",
    "\n",
    "if sum(number) != 0:                            # 입력받은 문자 안에 숫자가 있는 경우\n",
    "    print(''.join(string) + str(sum(number)))   # 숫자합을 문자열에 더해줌\n",
    "else:                                           # 입력받은 문자 안에 숫자가 없는 경우\n",
    "    print(''.join(string))                      # 문자열만 반환"
   ]
  },
  {
   "cell_type": "markdown",
   "id": "level-covering",
   "metadata": {},
   "source": [
    "### 모범답안"
   ]
  },
  {
   "cell_type": "code",
   "execution_count": 6,
   "id": "bulgarian-lying",
   "metadata": {},
   "outputs": [
    {
     "name": "stdout",
     "output_type": "stream",
     "text": [
      "E839H2TKD\n",
      "DEHKT22\n"
     ]
    }
   ],
   "source": [
    "data = input()\n",
    "result = []\n",
    "value = 0\n",
    "\n",
    "for x in data:\n",
    "    if x.isalpha():             # 알파벳인 경우\n",
    "        result.append(x)        # 리스트에 추가\n",
    "    else:                       # 숫자인 경우\n",
    "        value += int(x)         # 숫자끼리 누적합\n",
    "\n",
    "result.sort()                   # 알파벳 오름차순 정렬\n",
    "\n",
    "if value != 0:                  # 받아온 문자에 숫자가 있는 경우\n",
    "    result.append(str(value))   # 알파벳 리스트에 숫자 추가\n",
    "\n",
    "print(''.join(result))          # 리스트 원소 하나의 문자열로 만들기"
   ]
  },
  {
   "cell_type": "markdown",
   "id": "pressing-harmony",
   "metadata": {},
   "source": [
    "## 9. 문자열 압축\n",
    "주어지는 문자를 처음부터 동일한 길이로 끊어 반복되는 문자열이 있으면 이를 압축했을 때, 가장 짧게 압축시킨 문자열의 길이를 구하기"
   ]
  },
  {
   "cell_type": "markdown",
   "id": "noted-friendly",
   "metadata": {},
   "source": [
    "### 모범답안"
   ]
  },
  {
   "cell_type": "code",
   "execution_count": 7,
   "id": "frozen-ideal",
   "metadata": {},
   "outputs": [
    {
     "name": "stdout",
     "output_type": "stream",
     "text": [
      "abcabcdede 10\n",
      "abcabc2de 9\n",
      "2abcdede 8\n",
      "abcabcdede 8\n",
      "abcabcdede 8\n"
     ]
    },
    {
     "data": {
      "text/plain": [
       "8"
      ]
     },
     "execution_count": 7,
     "metadata": {},
     "output_type": "execute_result"
    }
   ],
   "source": [
    "def solution(s):\n",
    "    answer = len(s)                                     # 문자열 길이\n",
    "    \n",
    "    for step in range(1, len(s) // 2 + 1):             # 최대 구간 길이 len(s)//2\n",
    "        compressed = \"\"\n",
    "        prev = s[0:step]                                # 앞에서부터 step만큼의 문자열 추출\n",
    "        count = 1                                       # 압축 횟수 1\n",
    "\n",
    "        for j in range(step, len(s), step):            # 다음 문자열부터 step만큼 이동하면서 탐색\n",
    "            if prev == s[j:j + step]:                  # 이전 문자열과 현재 문자열이 동일하면\n",
    "                count += 1                              #  압축 횟수 +1\n",
    "            else:                                      # 이전 문자열과 현재 문자열이 동일하지 않으면\n",
    "                if count >= 2:                         # 압축 횟수가 2 이상이면\n",
    "                    compressed += str(count) + prev    # 압축 횟수와 문자열 저장\n",
    "                else:                                  # 압축 횟수가 1이면\n",
    "                    compressed += prev                 # 문자열만 그대로 저장\n",
    "                prev = s[j:j + step]                   # 다시 상태 초기화\n",
    "                count = 1                              # 압축 횟수 1로 초기화\n",
    "\n",
    "        if count >= 2:                                 # 남아있는 문자열은 이전 문자열과 항상 다르기 때문에\n",
    "            compressed += str(count) + prev            # 앞의 for문 안 else 밑에 있는 코드 그대로 다시 한 번\n",
    "        else:\n",
    "            compressed += prev\n",
    "\n",
    "        answer = min(answer, len(compressed))          # 만들 수 있는 모든 조합에 대해 step마다 그 때까지의 min을 update\n",
    "        print(compressed, answer)                      # 과정 print\n",
    "    return answer                                     # min값 반환\n",
    "\n",
    "solution('abcabcdede')"
   ]
  }
 ],
 "metadata": {
  "kernelspec": {
   "display_name": "Python 3",
   "language": "python",
   "name": "python3"
  },
  "language_info": {
   "codemirror_mode": {
    "name": "ipython",
    "version": 3
   },
   "file_extension": ".py",
   "mimetype": "text/x-python",
   "name": "python",
   "nbconvert_exporter": "python",
   "pygments_lexer": "ipython3",
   "version": "3.7.9"
  }
 },
 "nbformat": 4,
 "nbformat_minor": 5
}
